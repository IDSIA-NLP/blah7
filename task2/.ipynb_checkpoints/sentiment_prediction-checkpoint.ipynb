{
 "cells": [
  {
   "cell_type": "code",
   "execution_count": 19,
   "id": "nonprofit-classification",
   "metadata": {},
   "outputs": [],
   "source": [
    "import json\n",
    "import pandas as pd\n",
    "\n",
    "from sentiment_ensembler import SentimentEnsembler"
   ]
  },
  {
   "cell_type": "code",
   "execution_count": 2,
   "id": "tender-librarian",
   "metadata": {},
   "outputs": [
    {
     "name": "stdout",
     "output_type": "stream",
     "text": [
      "2021-01-21 13:14:03,236 loading file /Users/joseph/.flair/models/sentiment-en-mix-distillbert_3.1.pt\n"
     ]
    },
    {
     "name": "stderr",
     "output_type": "stream",
     "text": [
      "[nltk_data] Downloading package vader_lexicon to\n",
      "[nltk_data]     /Users/joseph/nltk_data...\n",
      "[nltk_data]   Package vader_lexicon is already up-to-date!\n"
     ]
    }
   ],
   "source": [
    "sentiment_model = SentimentEnsembler()"
   ]
  },
  {
   "cell_type": "code",
   "execution_count": 6,
   "id": "exact-castle",
   "metadata": {},
   "outputs": [
    {
     "data": {
      "text/plain": [
       "(-0.510773612947464, 0.46428869273185724)"
      ]
     },
     "execution_count": 6,
     "metadata": {},
     "output_type": "execute_result"
    }
   ],
   "source": [
    "# sanity check\n",
    "sentiment_model('I hate very much you!'), sentiment_model('I like very much you!')"
   ]
  },
  {
   "cell_type": "code",
   "execution_count": 36,
   "id": "frequent-consumer",
   "metadata": {},
   "outputs": [],
   "source": [
    "with open(\"./results/found_sentences_remde.json\", \"r\") as jf:\n",
    "    data = json.load(jf)"
   ]
  },
  {
   "cell_type": "code",
   "execution_count": 37,
   "id": "pretty-promise",
   "metadata": {},
   "outputs": [],
   "source": [
    "out_list = []\n",
    "for k, v in data.items():\n",
    "    if v:\n",
    "        for sentence in v:\n",
    "            out_list.append([k,sentence,sentiment_model(sentence)])"
   ]
  },
  {
   "cell_type": "code",
   "execution_count": 38,
   "id": "surprised-specialist",
   "metadata": {},
   "outputs": [
    {
     "data": {
      "text/plain": [
       "[['32445440',\n",
       "  'Remdesivir for the Treatment of Covid-19 - Final Report.',\n",
       "  0.14982091784477233],\n",
       " ['32445440',\n",
       "  'We conducted a double-blind, randomized, placebo-controlled trial of intravenous remdesivir in adults who were hospitalized with Covid-19 and had evidence of lower respiratory tract infection.',\n",
       "  -0.2737346185922622]]"
      ]
     },
     "execution_count": 38,
     "metadata": {},
     "output_type": "execute_result"
    }
   ],
   "source": [
    "out_list[:2]"
   ]
  },
  {
   "cell_type": "code",
   "execution_count": 39,
   "id": "synthetic-spanish",
   "metadata": {},
   "outputs": [
    {
     "data": {
      "text/html": [
       "<div>\n",
       "<style scoped>\n",
       "    .dataframe tbody tr th:only-of-type {\n",
       "        vertical-align: middle;\n",
       "    }\n",
       "\n",
       "    .dataframe tbody tr th {\n",
       "        vertical-align: top;\n",
       "    }\n",
       "\n",
       "    .dataframe thead th {\n",
       "        text-align: right;\n",
       "    }\n",
       "</style>\n",
       "<table border=\"1\" class=\"dataframe\">\n",
       "  <thead>\n",
       "    <tr style=\"text-align: right;\">\n",
       "      <th></th>\n",
       "      <th>PMID</th>\n",
       "      <th>sentence</th>\n",
       "      <th>sentiment</th>\n",
       "    </tr>\n",
       "  </thead>\n",
       "  <tbody>\n",
       "    <tr>\n",
       "      <th>0</th>\n",
       "      <td>32445440</td>\n",
       "      <td>Remdesivir for the Treatment of Covid-19 - Fin...</td>\n",
       "      <td>0.149821</td>\n",
       "    </tr>\n",
       "    <tr>\n",
       "      <th>1</th>\n",
       "      <td>32445440</td>\n",
       "      <td>We conducted a double-blind, randomized, place...</td>\n",
       "      <td>-0.273735</td>\n",
       "    </tr>\n",
       "    <tr>\n",
       "      <th>2</th>\n",
       "      <td>32445440</td>\n",
       "      <td>Our data show that remdesivir was superior to ...</td>\n",
       "      <td>0.581811</td>\n",
       "    </tr>\n",
       "    <tr>\n",
       "      <th>3</th>\n",
       "      <td>32423584</td>\n",
       "      <td>Remdesivir in adults with severe COVID-19: a r...</td>\n",
       "      <td>-0.287807</td>\n",
       "    </tr>\n",
       "    <tr>\n",
       "      <th>4</th>\n",
       "      <td>32423584</td>\n",
       "      <td>Remdesivir (GS-5734), a nucleoside analogue pr...</td>\n",
       "      <td>-0.051668</td>\n",
       "    </tr>\n",
       "  </tbody>\n",
       "</table>\n",
       "</div>"
      ],
      "text/plain": [
       "       PMID                                           sentence  sentiment\n",
       "0  32445440  Remdesivir for the Treatment of Covid-19 - Fin...   0.149821\n",
       "1  32445440  We conducted a double-blind, randomized, place...  -0.273735\n",
       "2  32445440  Our data show that remdesivir was superior to ...   0.581811\n",
       "3  32423584  Remdesivir in adults with severe COVID-19: a r...  -0.287807\n",
       "4  32423584  Remdesivir (GS-5734), a nucleoside analogue pr...  -0.051668"
      ]
     },
     "execution_count": 39,
     "metadata": {},
     "output_type": "execute_result"
    }
   ],
   "source": [
    "df = pd.DataFrame(out_list, columns=['PMID', 'sentence', 'sentiment'])\n",
    "df.to_csv('./results/sentiment_remde.tsv', encoding='utf-8', index=False, sep='\\t')\n",
    "df.head()"
   ]
  },
  {
   "cell_type": "code",
   "execution_count": null,
   "id": "touched-russian",
   "metadata": {},
   "outputs": [],
   "source": []
  }
 ],
 "metadata": {
  "kernelspec": {
   "display_name": "Python 3",
   "language": "python",
   "name": "python3"
  },
  "language_info": {
   "codemirror_mode": {
    "name": "ipython",
    "version": 3
   },
   "file_extension": ".py",
   "mimetype": "text/x-python",
   "name": "python",
   "nbconvert_exporter": "python",
   "pygments_lexer": "ipython3",
   "version": "3.7.9"
  }
 },
 "nbformat": 4,
 "nbformat_minor": 5
}
