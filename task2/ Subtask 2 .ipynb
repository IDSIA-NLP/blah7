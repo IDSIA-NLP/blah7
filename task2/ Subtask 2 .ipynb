{
 "cells": [
  {
   "cell_type": "markdown",
   "id": "absolute-search",
   "metadata": {},
   "source": [
    "# Subtask 2\n",
    "## Find evidence in support or against specific drugs for the treatment of COVID-19\n",
    "\n",
    "The goal of this subtask is to find evidence in support or against specific drugs for the treatment of COVID-19 within the OGER-annotated LitCovid dataset (both the abstract dataset and the full text dataset can be used)."
   ]
  },
  {
   "cell_type": "code",
   "execution_count": 2,
   "id": "oriented-manufacturer",
   "metadata": {},
   "outputs": [],
   "source": [
    "import requests\n",
    "import io\n",
    "import pandas as pd\n",
    "from operator import itemgetter"
   ]
  },
  {
   "cell_type": "markdown",
   "id": "coordinate-saskatchewan",
   "metadata": {},
   "source": [
    "The following drugs in particular will be considered: \n",
    "\n",
    "| Drug | Concept IDs|  \n",
    "| :---- | :----- |  \n",
    "|[hydroxychloroquine](https://en.wikipedia.org/wiki/Hydroxychloroquine) | `RxNorm:5521, CHEBI:5801, MeSH:D006886, UMLS:C0020336`|  \n",
    "|[remdesivir](https://en.wikipedia.org/wiki/Remdesivir)| `RxNorm:2284718, MeSH:C000606551, UMLS:C4726677, CHEBI:145994`|  \n",
    "|[avigan](https://en.wikipedia.org/wiki/Favipiravir)| `CHEBI:134722, MeSH:C462182, UMLS:C1138226`|  "
   ]
  },
  {
   "cell_type": "markdown",
   "id": "lovely-spring",
   "metadata": {},
   "source": [
    "Define the list of drugs and COVID-19 with the concept IDs."
   ]
  },
  {
   "cell_type": "code",
   "execution_count": 137,
   "id": "coastal-russell",
   "metadata": {},
   "outputs": [],
   "source": [
    "hyd_ids = ['5521', 'CHEBI:5801', 'D006886', 'C0020336']\n",
    "rem_ids = ['2284718', 'C000606551', 'C4726677', 'CHEBI:145994']\n",
    "avi_ids = ['CHEBI:134722', 'C462182', 'C1138226']\n",
    "\n",
    "cov_ids = ['D000086382','D000086402','C000657245','C000656484'] #     Covid-19 and SARS-CoV-2\n"
   ]
  },
  {
   "cell_type": "markdown",
   "id": "crucial-active",
   "metadata": {},
   "source": [
    "The function to reconstruct the sentences."
   ]
  },
  {
   "cell_type": "code",
   "execution_count": 132,
   "id": "swedish-cancellation",
   "metadata": {},
   "outputs": [],
   "source": [
    "# function to generate a sentence give the OGER .tsv output as pandas DataFrame and the sentence id\n",
    "def get_sentence(df, sent_id):\n",
    "    _df = df.drop_duplicates(subset=['start_position'])\n",
    "    #print(_df[_df[\"sentence_id\"]==sent_id])\n",
    "    offsets = _df[_df[\"sentence_id\"]==sent_id][['start_position','end_position','matched_term']].to_records(index=False)\n",
    "    #print('offsets:', offsets)\n",
    "    \n",
    "    # get the sentence length\n",
    "    max_offset = max(offsets,key=itemgetter(1))[1]\n",
    "    min_offset = min(offsets,key=itemgetter(1))[0]\n",
    "    #print('max_offset:', max_offset)\n",
    "    #print('min_offset:', min_offset)\n",
    "    \n",
    "    # create list of whitespaces in the sentence length to fill in the words\n",
    "    sent_len = max_offset-min_offset\n",
    "    #print('sent_len:', sent_len)\n",
    "    l = list(\" \"*(sent_len))\n",
    "    for start_pos, end_pos, word in offsets:\n",
    "        l[(start_pos-min_offset):(end_pos-min_offset)] = list(word)\n",
    "    sent = \"\".join(l)\n",
    "    return sent"
   ]
  },
  {
   "cell_type": "markdown",
   "id": "korean-variable",
   "metadata": {},
   "source": [
    "### Use OGER to annotate the articles\n",
    "Identify articles from PubMed that contain the drug of interest and COVID-19, here we use the article 'Remdesivir for the Treatment of Covid-19 - Final Report' - `PubMed:32445440`"
   ]
  },
  {
   "cell_type": "code",
   "execution_count": null,
   "id": "handed-boundary",
   "metadata": {},
   "outputs": [],
   "source": [
    "COVID19_IDS = cov_ids\n",
    "DRUG_IDS = rem_ids"
   ]
  },
  {
   "cell_type": "code",
   "execution_count": 133,
   "id": "spectacular-peace",
   "metadata": {},
   "outputs": [],
   "source": [
    "url = 'https://pub.cl.uzh.ch/projects/ontogene/oger/fetch/pubmed/text_tsv/32445440'"
   ]
  },
  {
   "cell_type": "code",
   "execution_count": 134,
   "id": "cleared-coalition",
   "metadata": {},
   "outputs": [],
   "source": [
    "req = requests.get(url)  \n",
    "\n",
    "df = pd.read_csv(io.StringIO(req.text), sep='\\t')\n",
    "df.columns = [c.lower().replace(' ', '_') for c in df.columns]"
   ]
  },
  {
   "cell_type": "markdown",
   "id": "electrical-directive",
   "metadata": {},
   "source": [
    "Find all sentences that refer to both COVID-19 and the drug of interest. "
   ]
  },
  {
   "cell_type": "code",
   "execution_count": 135,
   "id": "competitive-melbourne",
   "metadata": {},
   "outputs": [
    {
     "name": "stdout",
     "output_type": "stream",
     "text": [
      "S1 Remdesivir for the Treatment of Covid-19 - Final Report.\n",
      "S3 We conducted a double-blind, randomized, placebo-controlled trial of intravenous remdesivir in adults who were hospitalized with Covid-19 and had evidence of lower respiratory tract infection.\n",
      "S11 Our data show that remdesivir was superior to placebo in shortening the time to recovery in adults who were hospitalized with Covid-19 and had evidence of lower respiratory tract infection.\n"
     ]
    }
   ],
   "source": [
    "sent_ids = df.sentence_id.unique()\n",
    "sent_ids\n",
    "found_sentences = []\n",
    "for sent_id in sent_ids:\n",
    "    # Check if sentences mentions drug as well as COVID-19\n",
    "    drug = df[df['sentence_id']==sent_id]['entity_id'].isin(DRUG_IDS).any()\n",
    "    covid = df[df['sentence_id']==sent_id]['entity_id'].isin(COVID19_IDS).any()\n",
    "    if drug and covid:\n",
    "        sent = get_sentence(df, sent_id)\n",
    "        print(f\"sent_id, sent\")\n",
    "        found_sentences.append(sent)"
   ]
  },
  {
   "cell_type": "code",
   "execution_count": 136,
   "id": "central-milan",
   "metadata": {},
   "outputs": [
    {
     "name": "stdout",
     "output_type": "stream",
     "text": [
      "Remdesivir for the Treatment of Covid-19 - Final Report. \n",
      "\n",
      "We conducted a double-blind, randomized, placebo-controlled trial of intravenous remdesivir in adults who were hospitalized with Covid-19 and had evidence of lower respiratory tract infection. \n",
      "\n",
      "Our data show that remdesivir was superior to placebo in shortening the time to recovery in adults who were hospitalized with Covid-19 and had evidence of lower respiratory tract infection. \n",
      "\n"
     ]
    }
   ],
   "source": [
    "for s in found_sentences:\n",
    "    print(s, \"\\n\")"
   ]
  },
  {
   "cell_type": "code",
   "execution_count": null,
   "id": "fossil-estonia",
   "metadata": {},
   "outputs": [],
   "source": []
  }
 ],
 "metadata": {
  "kernelspec": {
   "display_name": "Python 3",
   "language": "python",
   "name": "python3"
  },
  "language_info": {
   "codemirror_mode": {
    "name": "ipython",
    "version": 3
   },
   "file_extension": ".py",
   "mimetype": "text/x-python",
   "name": "python",
   "nbconvert_exporter": "python",
   "pygments_lexer": "ipython3",
   "version": "3.8.2"
  }
 },
 "nbformat": 4,
 "nbformat_minor": 5
}
