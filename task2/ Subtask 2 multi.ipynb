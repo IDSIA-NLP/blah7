{
 "cells": [
  {
   "cell_type": "markdown",
   "id": "accepted-confusion",
   "metadata": {},
   "source": [
    "# Subtask 2\n",
    "## Find evidence in support or against specific drugs for the treatment of COVID-19\n",
    "\n",
    "The goal of this subtask is to find evidence in support or against specific drugs for the treatment of COVID-19 within the OGER-annotated LitCovid dataset (both the abstract dataset and the full text dataset can be used)."
   ]
  },
  {
   "cell_type": "code",
   "execution_count": 1,
   "id": "floating-beaver",
   "metadata": {},
   "outputs": [],
   "source": [
    "import requests\n",
    "import io\n",
    "import pandas as pd\n",
    "from operator import itemgetter\n",
    "import numpy as np"
   ]
  },
  {
   "cell_type": "markdown",
   "id": "embedded-station",
   "metadata": {},
   "source": [
    "The following drugs in particular will be considered: \n",
    "\n",
    "| Drug | Concept IDs|  \n",
    "| :---- | :----- |  \n",
    "|[hydroxychloroquine](https://en.wikipedia.org/wiki/Hydroxychloroquine) | `RxNorm:5521, CHEBI:5801, MeSH:D006886, UMLS:C0020336`|  \n",
    "|[remdesivir](https://en.wikipedia.org/wiki/Remdesivir)| `RxNorm:2284718, MeSH:C000606551, UMLS:C4726677, CHEBI:145994`|  \n",
    "|[avigan](https://en.wikipedia.org/wiki/Favipiravir)| `CHEBI:134722, MeSH:C462182, UMLS:C1138226`|  "
   ]
  },
  {
   "cell_type": "markdown",
   "id": "nervous-prophet",
   "metadata": {},
   "source": [
    "Define the list of drugs and COVID-19 with the concept IDs."
   ]
  },
  {
   "cell_type": "code",
   "execution_count": 2,
   "id": "swedish-organic",
   "metadata": {},
   "outputs": [],
   "source": [
    "hyd_ids = ['5521', 'CHEBI:5801', 'D006886', 'C0020336']\n",
    "rem_ids = ['2284718', 'C000606551', 'C4726677', 'CHEBI:145994']\n",
    "avi_ids = ['CHEBI:134722', 'C462182', 'C1138226']\n",
    "\n",
    "cov_ids = ['D000086382','D000086402','C000657245','C000656484'] # Covid-19 and SARS-CoV-2\n"
   ]
  },
  {
   "cell_type": "markdown",
   "id": "noticed-marking",
   "metadata": {},
   "source": [
    "The function to reconstruct the sentences."
   ]
  },
  {
   "cell_type": "code",
   "execution_count": 3,
   "id": "level-drilling",
   "metadata": {},
   "outputs": [],
   "source": [
    "def rm_duplicates(offset_words):\n",
    "    offset_words = np.unique(offset_words)\n",
    "    r = [x for x in offset_words]\n",
    "    for idx_a, a in enumerate(offset_words):\n",
    "        for idx_b, b in enumerate(r):\n",
    "            if a[1] == b[1]:\n",
    "                if a[0] < b[0]:\n",
    "                    del r[idx_b]\n",
    "            elif a[0] == b[0]:\n",
    "                if a[1] > b[1]:\n",
    "                    del r[idx_b]\n",
    "    return r"
   ]
  },
  {
   "cell_type": "code",
   "execution_count": 4,
   "id": "adult-decimal",
   "metadata": {},
   "outputs": [],
   "source": [
    "# Function to create a sentence, given the OGER .tsv output as a panda's DataFrame and the sentence ID\n",
    "def get_sentence(df, sent_id):\n",
    "    #_df = df.drop_duplicates(subset=['start_position']) # instead use rm_duplicates()\n",
    "    offsets = df[df[\"sentence_id\"]==sent_id][['start_position','end_position','matched_term']].to_records(index=False)\n",
    "    offsets = rm_duplicates(offsets)\n",
    "    \n",
    "    # Get the sentence length\n",
    "    max_offset = max(offsets,key=itemgetter(1))[1]\n",
    "    min_offset = min(offsets,key=itemgetter(1))[0]\n",
    "    \n",
    "    # Create list of spaces in the sentence length to fill up the words\n",
    "    sent_len = max_offset-min_offset\n",
    "    l = list(\" \"*(sent_len))\n",
    "    for start_pos, end_pos, word in offsets:\n",
    "        l[(start_pos-min_offset):(end_pos-min_offset)] = list(word)\n",
    "    sent = \"\".join(l)\n",
    "    return sent"
   ]
  },
  {
   "cell_type": "markdown",
   "id": "velvet-keeping",
   "metadata": {},
   "source": [
    "### Use OGER to annotate the articles\n",
    "Identify articles from PubMed that contain the drug of interest and COVID-19, here we use the article 'Remdesivir for the Treatment of Covid-19 - Final Report' - `PubMed:32445440`"
   ]
  },
  {
   "cell_type": "code",
   "execution_count": 5,
   "id": "prescribed-mauritius",
   "metadata": {},
   "outputs": [],
   "source": [
    "COVID19_IDS = cov_ids\n",
    "DRUG_IDS = rem_ids"
   ]
  },
  {
   "cell_type": "code",
   "execution_count": 6,
   "id": "induced-champagne",
   "metadata": {},
   "outputs": [],
   "source": [
    "url = 'https://pub.cl.uzh.ch/projects/ontogene/oger/fetch/pubmed/text_tsv/32445440' # 32205204 - hyd, 32445440 - rem"
   ]
  },
  {
   "cell_type": "code",
   "execution_count": 7,
   "id": "heard-bearing",
   "metadata": {},
   "outputs": [],
   "source": [
    "req = requests.get(url)  \n",
    "\n",
    "df = pd.read_csv(io.StringIO(req.text), sep='\\t')\n",
    "df.columns = [c.lower().replace(' ', '_') for c in df.columns]"
   ]
  },
  {
   "cell_type": "code",
   "execution_count": 8,
   "id": "fossil-danger",
   "metadata": {},
   "outputs": [
    {
     "data": {
      "text/html": [
       "<div>\n",
       "<style scoped>\n",
       "    .dataframe tbody tr th:only-of-type {\n",
       "        vertical-align: middle;\n",
       "    }\n",
       "\n",
       "    .dataframe tbody tr th {\n",
       "        vertical-align: top;\n",
       "    }\n",
       "\n",
       "    .dataframe thead th {\n",
       "        text-align: right;\n",
       "    }\n",
       "</style>\n",
       "<table border=\"1\" class=\"dataframe\">\n",
       "  <thead>\n",
       "    <tr style=\"text-align: right;\">\n",
       "      <th></th>\n",
       "      <th>document_id</th>\n",
       "      <th>type</th>\n",
       "      <th>start_position</th>\n",
       "      <th>end_position</th>\n",
       "      <th>matched_term</th>\n",
       "      <th>preferred_form</th>\n",
       "      <th>entity_id</th>\n",
       "      <th>zone</th>\n",
       "      <th>sentence_id</th>\n",
       "      <th>origin</th>\n",
       "      <th>umls_cui</th>\n",
       "    </tr>\n",
       "  </thead>\n",
       "  <tbody>\n",
       "    <tr>\n",
       "      <th>0</th>\n",
       "      <td>32445440</td>\n",
       "      <td>clinical_drug</td>\n",
       "      <td>0</td>\n",
       "      <td>10</td>\n",
       "      <td>Remdesivir</td>\n",
       "      <td>remdesivir</td>\n",
       "      <td>2284718</td>\n",
       "      <td>Title</td>\n",
       "      <td>S1</td>\n",
       "      <td>RxNorm</td>\n",
       "      <td>CUI-less</td>\n",
       "    </tr>\n",
       "    <tr>\n",
       "      <th>1</th>\n",
       "      <td>32445440</td>\n",
       "      <td>chemical</td>\n",
       "      <td>0</td>\n",
       "      <td>10</td>\n",
       "      <td>Remdesivir</td>\n",
       "      <td>remdesivir</td>\n",
       "      <td>C000606551</td>\n",
       "      <td>Title</td>\n",
       "      <td>S1</td>\n",
       "      <td>MeSH supp (Chemicals and Drugs)</td>\n",
       "      <td>C4726677</td>\n",
       "    </tr>\n",
       "    <tr>\n",
       "      <th>2</th>\n",
       "      <td>32445440</td>\n",
       "      <td>chemical</td>\n",
       "      <td>0</td>\n",
       "      <td>10</td>\n",
       "      <td>Remdesivir</td>\n",
       "      <td>remdesivir</td>\n",
       "      <td>CHEBI:145994</td>\n",
       "      <td>Title</td>\n",
       "      <td>S1</td>\n",
       "      <td>ChEBI</td>\n",
       "      <td>CUI-less</td>\n",
       "    </tr>\n",
       "    <tr>\n",
       "      <th>3</th>\n",
       "      <td>32445440</td>\n",
       "      <td>chemical</td>\n",
       "      <td>0</td>\n",
       "      <td>10</td>\n",
       "      <td>Remdesivir</td>\n",
       "      <td>GS-5734</td>\n",
       "      <td>C000606551</td>\n",
       "      <td>Title</td>\n",
       "      <td>S1</td>\n",
       "      <td>CTD (MESH)</td>\n",
       "      <td>C4279131</td>\n",
       "    </tr>\n",
       "    <tr>\n",
       "      <th>4</th>\n",
       "      <td>32445440</td>\n",
       "      <td>NaN</td>\n",
       "      <td>11</td>\n",
       "      <td>14</td>\n",
       "      <td>for</td>\n",
       "      <td>NaN</td>\n",
       "      <td>NaN</td>\n",
       "      <td>NaN</td>\n",
       "      <td>S1</td>\n",
       "      <td>NaN</td>\n",
       "      <td>NaN</td>\n",
       "    </tr>\n",
       "    <tr>\n",
       "      <th>...</th>\n",
       "      <td>...</td>\n",
       "      <td>...</td>\n",
       "      <td>...</td>\n",
       "      <td>...</td>\n",
       "      <td>...</td>\n",
       "      <td>...</td>\n",
       "      <td>...</td>\n",
       "      <td>...</td>\n",
       "      <td>...</td>\n",
       "      <td>...</td>\n",
       "      <td>...</td>\n",
       "    </tr>\n",
       "    <tr>\n",
       "      <th>475</th>\n",
       "      <td>32445440</td>\n",
       "      <td>NaN</td>\n",
       "      <td>2093</td>\n",
       "      <td>2094</td>\n",
       "      <td>,</td>\n",
       "      <td>NaN</td>\n",
       "      <td>NaN</td>\n",
       "      <td>NaN</td>\n",
       "      <td>S12</td>\n",
       "      <td>NaN</td>\n",
       "      <td>NaN</td>\n",
       "    </tr>\n",
       "    <tr>\n",
       "      <th>476</th>\n",
       "      <td>32445440</td>\n",
       "      <td>gene/protein</td>\n",
       "      <td>2095</td>\n",
       "      <td>2098</td>\n",
       "      <td>NCT</td>\n",
       "      <td>nicastrin (fruit fly)</td>\n",
       "      <td>PR:Q9VC27</td>\n",
       "      <td>CONCLUSIONS</td>\n",
       "      <td>S12</td>\n",
       "      <td>Protein Ontology</td>\n",
       "      <td>CUI-less</td>\n",
       "    </tr>\n",
       "    <tr>\n",
       "      <th>477</th>\n",
       "      <td>32445440</td>\n",
       "      <td>NaN</td>\n",
       "      <td>2095</td>\n",
       "      <td>2106</td>\n",
       "      <td>NCT04280705</td>\n",
       "      <td>NaN</td>\n",
       "      <td>NaN</td>\n",
       "      <td>NaN</td>\n",
       "      <td>S12</td>\n",
       "      <td>NaN</td>\n",
       "      <td>NaN</td>\n",
       "    </tr>\n",
       "    <tr>\n",
       "      <th>478</th>\n",
       "      <td>32445440</td>\n",
       "      <td>NaN</td>\n",
       "      <td>2106</td>\n",
       "      <td>2107</td>\n",
       "      <td>.</td>\n",
       "      <td>NaN</td>\n",
       "      <td>NaN</td>\n",
       "      <td>NaN</td>\n",
       "      <td>S12</td>\n",
       "      <td>NaN</td>\n",
       "      <td>NaN</td>\n",
       "    </tr>\n",
       "    <tr>\n",
       "      <th>479</th>\n",
       "      <td>32445440</td>\n",
       "      <td>NaN</td>\n",
       "      <td>2107</td>\n",
       "      <td>2109</td>\n",
       "      <td>).</td>\n",
       "      <td>NaN</td>\n",
       "      <td>NaN</td>\n",
       "      <td>NaN</td>\n",
       "      <td>S13</td>\n",
       "      <td>NaN</td>\n",
       "      <td>NaN</td>\n",
       "    </tr>\n",
       "  </tbody>\n",
       "</table>\n",
       "<p>480 rows × 11 columns</p>\n",
       "</div>"
      ],
      "text/plain": [
       "     document_id           type  start_position  end_position matched_term  \\\n",
       "0       32445440  clinical_drug               0            10   Remdesivir   \n",
       "1       32445440       chemical               0            10   Remdesivir   \n",
       "2       32445440       chemical               0            10   Remdesivir   \n",
       "3       32445440       chemical               0            10   Remdesivir   \n",
       "4       32445440            NaN              11            14          for   \n",
       "..           ...            ...             ...           ...          ...   \n",
       "475     32445440            NaN            2093          2094            ,   \n",
       "476     32445440   gene/protein            2095          2098          NCT   \n",
       "477     32445440            NaN            2095          2106  NCT04280705   \n",
       "478     32445440            NaN            2106          2107            .   \n",
       "479     32445440            NaN            2107          2109           ).   \n",
       "\n",
       "            preferred_form     entity_id         zone sentence_id  \\\n",
       "0               remdesivir       2284718        Title          S1   \n",
       "1               remdesivir    C000606551        Title          S1   \n",
       "2               remdesivir  CHEBI:145994        Title          S1   \n",
       "3                  GS-5734    C000606551        Title          S1   \n",
       "4                      NaN           NaN          NaN          S1   \n",
       "..                     ...           ...          ...         ...   \n",
       "475                    NaN           NaN          NaN         S12   \n",
       "476  nicastrin (fruit fly)     PR:Q9VC27  CONCLUSIONS         S12   \n",
       "477                    NaN           NaN          NaN         S12   \n",
       "478                    NaN           NaN          NaN         S12   \n",
       "479                    NaN           NaN          NaN         S13   \n",
       "\n",
       "                              origin  umls_cui  \n",
       "0                             RxNorm  CUI-less  \n",
       "1    MeSH supp (Chemicals and Drugs)  C4726677  \n",
       "2                              ChEBI  CUI-less  \n",
       "3                         CTD (MESH)  C4279131  \n",
       "4                                NaN       NaN  \n",
       "..                               ...       ...  \n",
       "475                              NaN       NaN  \n",
       "476                 Protein Ontology  CUI-less  \n",
       "477                              NaN       NaN  \n",
       "478                              NaN       NaN  \n",
       "479                              NaN       NaN  \n",
       "\n",
       "[480 rows x 11 columns]"
      ]
     },
     "execution_count": 8,
     "metadata": {},
     "output_type": "execute_result"
    }
   ],
   "source": [
    "df"
   ]
  },
  {
   "cell_type": "markdown",
   "id": "roman-professional",
   "metadata": {},
   "source": [
    "Find all sentences that refer to both COVID-19 and the drug of interest. "
   ]
  },
  {
   "cell_type": "code",
   "execution_count": 9,
   "id": "owned-spencer",
   "metadata": {},
   "outputs": [
    {
     "name": "stdout",
     "output_type": "stream",
     "text": [
      "S1:\n",
      "Remdesivir for the Treatment of Covid-19 - Final Report.\n",
      "\n",
      "S3:\n",
      "We conducted a double-blind, randomized, placebo-controlled trial of intravenous remdesivir in adults who were hospitalized with Covid-19 and had evidence of lower respiratory tract infection.\n",
      "\n",
      "S11:\n",
      "Our data show that remdesivir was superior to placebo in shortening the time to recovery in adults who were hospitalized with Covid-19 and had evidence of lower respiratory tract infection.\n",
      "\n"
     ]
    }
   ],
   "source": [
    "sent_ids = df.sentence_id.unique()\n",
    "sent_ids\n",
    "found_sentences = []\n",
    "for sent_id in sent_ids:\n",
    "    # Check if sentences mentions drug as well as COVID-19\n",
    "    drug = df[df['sentence_id']==sent_id]['entity_id'].isin(DRUG_IDS).any()\n",
    "    covid = df[df['sentence_id']==sent_id]['entity_id'].isin(COVID19_IDS).any()\n",
    "    if drug and covid:\n",
    "        sent = get_sentence(df, sent_id)\n",
    "        print(f\"{sent_id}:\\n{sent}\\n\")\n",
    "        found_sentences.append(sent)"
   ]
  },
  {
   "cell_type": "markdown",
   "id": "bronze-bibliography",
   "metadata": {},
   "source": [
    "## Process multiple article"
   ]
  },
  {
   "cell_type": "code",
   "execution_count": 23,
   "id": "urban-gambling",
   "metadata": {},
   "outputs": [],
   "source": [
    "import json\n",
    "from tqdm.notebook import tqdm\n",
    "\n",
    "\n",
    "COVID19_IDS = cov_ids\n",
    "DRUG_IDS = rem_ids"
   ]
  },
  {
   "cell_type": "code",
   "execution_count": 25,
   "id": "passing-consultation",
   "metadata": {},
   "outputs": [],
   "source": [
    "def oger_pubmed_ids(pubmed_id, covid19_ids, drug_ids):\n",
    "    # print(f'Start processing article {pubmed_id}')\n",
    "    \n",
    "    try:\n",
    "        url = f'https://pub.cl.uzh.ch/projects/ontogene/oger/fetch/pubmed/text_tsv/{pubmed_id}' \n",
    "        req = requests.get(url)  \n",
    "\n",
    "        df = pd.read_csv(io.StringIO(req.text), sep='\\t')\n",
    "        df.columns = [c.lower().replace(' ', '_') for c in df.columns]\n",
    "\n",
    "        sent_ids = df.sentence_id.unique()\n",
    "        sent_ids\n",
    "        found_sentences = []\n",
    "\n",
    "        for sent_id in sent_ids:\n",
    "            # Check if sentences mentions drug as well as COVID-19\n",
    "            drug = df[df['sentence_id']==sent_id]['entity_id'].isin(drug_ids).any()\n",
    "            covid = df[df['sentence_id']==sent_id]['entity_id'].isin(covid19_ids).any()\n",
    "            if drug and covid:\n",
    "                sent = get_sentence(df, sent_id)\n",
    "                #print(f\"{sent_id}:\\n{sent}\\n\")\n",
    "                found_sentences.append(sent)\n",
    "                \n",
    "    except Exception as e:\n",
    "        print(f'Error in {pubmed_id}: {e}')\n",
    "        found_sentences = []\n",
    "        \n",
    "    \n",
    "    return found_sentences, pubmed_id"
   ]
  },
  {
   "cell_type": "code",
   "execution_count": 26,
   "id": "invisible-mechanism",
   "metadata": {},
   "outputs": [
    {
     "data": {
      "text/plain": [
       "(['32445440', '32423584'], '32837398')"
      ]
     },
     "execution_count": 26,
     "metadata": {},
     "output_type": "execute_result"
    }
   ],
   "source": [
    "with open('./pmid_sets/pmid-Remdesivir-set.txt', 'r') as f:\n",
    "    pubmed_ids = [line.strip() for line in f]\n",
    "    \n",
    "pubmed_ids[:2], pubmed_ids[-1]"
   ]
  },
  {
   "cell_type": "code",
   "execution_count": 27,
   "id": "immediate-hydrogen",
   "metadata": {
    "scrolled": true
   },
   "outputs": [
    {
     "data": {
      "application/vnd.jupyter.widget-view+json": {
       "model_id": "7e7629fd509d4a38a8357be1ce96b491",
       "version_major": 2,
       "version_minor": 0
      },
      "text/plain": [
       "HBox(children=(HTML(value=''), FloatProgress(value=0.0, max=800.0), HTML(value='')))"
      ]
     },
     "metadata": {},
     "output_type": "display_data"
    },
    {
     "name": "stdout",
     "output_type": "stream",
     "text": [
      "Error in 32809050: Error tokenizing data. C error: EOF inside string starting at row 32\n",
      "Error in 32597995: Error tokenizing data. C error: EOF inside string starting at row 166\n",
      "Error in 32730095: Error tokenizing data. C error: EOF inside string starting at row 57\n",
      "\n"
     ]
    }
   ],
   "source": [
    "out_dict ={}\n",
    "pbar = tqdm(pubmed_ids)\n",
    "for pubmed_id in pbar:\n",
    "    pbar.set_description(\"Processing article : %s\" % pubmed_id)\n",
    "    found_sentences, pubmed_id = oger_pubmed_ids(pubmed_id, cov_ids, rem_ids)\n",
    "    out_dict[pubmed_id] = found_sentences"
   ]
  },
  {
   "cell_type": "code",
   "execution_count": 28,
   "id": "gothic-semester",
   "metadata": {},
   "outputs": [],
   "source": [
    "with open('found_sentences_remde.json', 'w') as fp:\n",
    "    json.dump(out_dict, fp)"
   ]
  },
  {
   "cell_type": "code",
   "execution_count": 29,
   "id": "premium-class",
   "metadata": {},
   "outputs": [
    {
     "data": {
      "text/plain": [
       "(414, 708, 800)"
      ]
     },
     "execution_count": 29,
     "metadata": {},
     "output_type": "execute_result"
    }
   ],
   "source": [
    "articles_with_sent = 0\n",
    "found_sentences = 0\n",
    "\n",
    "for k, v in out_dict.items():\n",
    "    \n",
    "    if v:\n",
    "        articles_with_sent += 1\n",
    "        found_sentences += len(v)\n",
    "        \n",
    "articles_with_sent, found_sentences, len(out_dict)"
   ]
  },
  {
   "cell_type": "markdown",
   "id": "danish-leeds",
   "metadata": {},
   "source": [
    "#### Notes:\n",
    "        \n",
    "|Drug|Articles with sent| Found sentences|Total articles|\n",
    "|:---|:---|:---|:---|\n",
    "|Hydroxychloroquine|398|737|800|\n",
    "|Avigan|140|222|279|\n",
    "|Remdesivir|414|708|800|\n",
    "        "
   ]
  },
  {
   "cell_type": "code",
   "execution_count": null,
   "id": "advised-mainstream",
   "metadata": {},
   "outputs": [],
   "source": []
  }
 ],
 "metadata": {
  "kernelspec": {
   "display_name": "Python 3",
   "language": "python",
   "name": "python3"
  },
  "language_info": {
   "codemirror_mode": {
    "name": "ipython",
    "version": 3
   },
   "file_extension": ".py",
   "mimetype": "text/x-python",
   "name": "python",
   "nbconvert_exporter": "python",
   "pygments_lexer": "ipython3",
   "version": "3.8.2"
  }
 },
 "nbformat": 4,
 "nbformat_minor": 5
}
