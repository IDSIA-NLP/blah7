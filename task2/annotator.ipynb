{
 "cells": [
  {
   "cell_type": "code",
   "execution_count": 2,
   "id": "completed-willow",
   "metadata": {},
   "outputs": [
    {
     "data": {
      "application/vnd.jupyter.widget-view+json": {
       "model_id": "41eca6e639964fd3a08c7bc862dd40d4",
       "version_major": 2,
       "version_minor": 0
      },
      "text/plain": [
       "Image(value=b'\\x89PNG\\r\\n\\x1a\\n\\x00\\x00\\x00\\rIHDR\\x00\\x00#0\\x00\\x00\\x06\\xc4\\x08\\x06\\x00\\x00\\x00\\xa5\\xaf~d\\x00\\…"
      ]
     },
     "metadata": {},
     "output_type": "display_data"
    },
    {
     "data": {
      "application/vnd.jupyter.widget-view+json": {
       "model_id": "af4a19db33ab45019c0889c084daf446",
       "version_major": 2,
       "version_minor": 0
      },
      "text/plain": [
       "HTML(value=\"<h2 style='text-align:center'>        easy text annotation in a Jupyter Notebook</h2>\")"
      ]
     },
     "metadata": {},
     "output_type": "display_data"
    }
   ],
   "source": [
    "import pandas as pd\n",
    "from tortus import Tortus"
   ]
  },
  {
   "cell_type": "code",
   "execution_count": 3,
   "id": "deadly-headquarters",
   "metadata": {},
   "outputs": [],
   "source": [
    "df = pd.read_csv('./results/sentiment_hydro.tsv', sep='\\t')"
   ]
  },
  {
   "cell_type": "code",
   "execution_count": 5,
   "id": "useful-proposal",
   "metadata": {},
   "outputs": [
    {
     "data": {
      "text/html": [
       "<div>\n",
       "<style scoped>\n",
       "    .dataframe tbody tr th:only-of-type {\n",
       "        vertical-align: middle;\n",
       "    }\n",
       "\n",
       "    .dataframe tbody tr th {\n",
       "        vertical-align: top;\n",
       "    }\n",
       "\n",
       "    .dataframe thead th {\n",
       "        text-align: right;\n",
       "    }\n",
       "</style>\n",
       "<table border=\"1\" class=\"dataframe\">\n",
       "  <thead>\n",
       "    <tr style=\"text-align: right;\">\n",
       "      <th></th>\n",
       "      <th>PMID</th>\n",
       "      <th>sentence</th>\n",
       "      <th>sentiment</th>\n",
       "    </tr>\n",
       "  </thead>\n",
       "  <tbody>\n",
       "    <tr>\n",
       "      <th>0</th>\n",
       "      <td>32295814</td>\n",
       "      <td>Hydroxychloroquine and COVID-19.</td>\n",
       "      <td>0.076216</td>\n",
       "    </tr>\n",
       "    <tr>\n",
       "      <th>1</th>\n",
       "      <td>32492293</td>\n",
       "      <td>A Randomized Trial of Hydroxychloroquine as Po...</td>\n",
       "      <td>-0.143592</td>\n",
       "    </tr>\n",
       "    <tr>\n",
       "      <th>2</th>\n",
       "      <td>32492293</td>\n",
       "      <td>Whether hydroxychloroquine can prevent symptom...</td>\n",
       "      <td>-0.180577</td>\n",
       "    </tr>\n",
       "    <tr>\n",
       "      <th>3</th>\n",
       "      <td>32492293</td>\n",
       "      <td>The incidence of new illness compatible with C...</td>\n",
       "      <td>0.015869</td>\n",
       "    </tr>\n",
       "    <tr>\n",
       "      <th>4</th>\n",
       "      <td>32492293</td>\n",
       "      <td>After high-risk or moderate-risk exposure to C...</td>\n",
       "      <td>0.144272</td>\n",
       "    </tr>\n",
       "  </tbody>\n",
       "</table>\n",
       "</div>"
      ],
      "text/plain": [
       "       PMID                                           sentence  sentiment\n",
       "0  32295814                   Hydroxychloroquine and COVID-19.   0.076216\n",
       "1  32492293  A Randomized Trial of Hydroxychloroquine as Po...  -0.143592\n",
       "2  32492293  Whether hydroxychloroquine can prevent symptom...  -0.180577\n",
       "3  32492293  The incidence of new illness compatible with C...   0.015869\n",
       "4  32492293  After high-risk or moderate-risk exposure to C...   0.144272"
      ]
     },
     "execution_count": 5,
     "metadata": {},
     "output_type": "execute_result"
    }
   ],
   "source": [
    "df.head()"
   ]
  },
  {
   "cell_type": "code",
   "execution_count": 10,
   "id": "democratic-memorabilia",
   "metadata": {},
   "outputs": [
    {
     "data": {
      "text/plain": [
       "(737, 3)"
      ]
     },
     "execution_count": 10,
     "metadata": {},
     "output_type": "execute_result"
    }
   ],
   "source": [
    "df.shape"
   ]
  },
  {
   "cell_type": "code",
   "execution_count": 6,
   "id": "hundred-clerk",
   "metadata": {},
   "outputs": [],
   "source": [
    "tortus = Tortus(df,'sentence')"
   ]
  },
  {
   "cell_type": "code",
   "execution_count": 7,
   "id": "sealed-degree",
   "metadata": {},
   "outputs": [
    {
     "data": {
      "application/vnd.jupyter.widget-view+json": {
       "model_id": "a73d7e695a2348d8b87e3ddc4a86ee1a",
       "version_major": 2,
       "version_minor": 0
      },
      "text/plain": [
       "HBox(children=(Image(value=b'\\x89PNG\\r\\n\\x1a\\n\\x00\\x00\\x00\\rIHDR\\x00\\x00#0\\x00\\x00\\x06\\xc4\\x08\\x06\\x00\\x00\\x00…"
      ]
     },
     "metadata": {},
     "output_type": "display_data"
    },
    {
     "data": {
      "application/vnd.jupyter.widget-view+json": {
       "model_id": "8c254df6d6a0421f9830c83b649bb514",
       "version_major": 2,
       "version_minor": 0
      },
      "text/plain": [
       "Output()"
      ]
     },
     "metadata": {},
     "output_type": "display_data"
    }
   ],
   "source": [
    "tortus.annotate()"
   ]
  },
  {
   "cell_type": "code",
   "execution_count": 8,
   "id": "driven-sydney",
   "metadata": {},
   "outputs": [
    {
     "data": {
      "text/html": [
       "<div>\n",
       "<style scoped>\n",
       "    .dataframe tbody tr th:only-of-type {\n",
       "        vertical-align: middle;\n",
       "    }\n",
       "\n",
       "    .dataframe tbody tr th {\n",
       "        vertical-align: top;\n",
       "    }\n",
       "\n",
       "    .dataframe thead th {\n",
       "        text-align: right;\n",
       "    }\n",
       "</style>\n",
       "<table border=\"1\" class=\"dataframe\">\n",
       "  <thead>\n",
       "    <tr style=\"text-align: right;\">\n",
       "      <th></th>\n",
       "      <th>id_column</th>\n",
       "      <th>sentence</th>\n",
       "      <th>label</th>\n",
       "      <th>annotated_at</th>\n",
       "    </tr>\n",
       "  </thead>\n",
       "  <tbody>\n",
       "    <tr>\n",
       "      <th>0</th>\n",
       "      <td>499</td>\n",
       "      <td>High doses of hydroxychloroquine do not affect...</td>\n",
       "      <td>negative</td>\n",
       "      <td>2021-01-21 14:20:31</td>\n",
       "    </tr>\n",
       "    <tr>\n",
       "      <th>1</th>\n",
       "      <td>167</td>\n",
       "      <td>Hydroxychloroquine for post-exposure prophylax...</td>\n",
       "      <td>neutral</td>\n",
       "      <td>2021-01-21 14:21:04</td>\n",
       "    </tr>\n",
       "    <tr>\n",
       "      <th>2</th>\n",
       "      <td>403</td>\n",
       "      <td>Here we demonstrate that the combination of hy...</td>\n",
       "      <td>positve</td>\n",
       "      <td>2021-01-21 14:21:38</td>\n",
       "    </tr>\n",
       "    <tr>\n",
       "      <th>3</th>\n",
       "      <td>486</td>\n",
       "      <td>Here we assessed the prophylactic/therapeutic ...</td>\n",
       "      <td>neutral</td>\n",
       "      <td>2021-01-21 14:22:15</td>\n",
       "    </tr>\n",
       "    <tr>\n",
       "      <th>4</th>\n",
       "      <td>402</td>\n",
       "      <td>In vitro testing of combined hydroxychloroquin...</td>\n",
       "      <td>positve</td>\n",
       "      <td>2021-01-21 14:22:27</td>\n",
       "    </tr>\n",
       "    <tr>\n",
       "      <th>5</th>\n",
       "      <td>108</td>\n",
       "      <td>A review on possible modes of action of chloro...</td>\n",
       "      <td>neutral</td>\n",
       "      <td>2021-01-21 14:22:37</td>\n",
       "    </tr>\n",
       "    <tr>\n",
       "      <th>6</th>\n",
       "      <td>539</td>\n",
       "      <td>Recently, two old antimalarial drugs, hydroxyc...</td>\n",
       "      <td>positve</td>\n",
       "      <td>2021-01-21 14:23:10</td>\n",
       "    </tr>\n",
       "    <tr>\n",
       "      <th>7</th>\n",
       "      <td>33</td>\n",
       "      <td>Chloroquine and hydroxychloroquine have been f...</td>\n",
       "      <td>positve</td>\n",
       "      <td>2021-01-21 14:23:21</td>\n",
       "    </tr>\n",
       "    <tr>\n",
       "      <th>8</th>\n",
       "      <td>532</td>\n",
       "      <td>Psychiatric Aspects of Chloroquine and Hydroxy...</td>\n",
       "      <td>neutral</td>\n",
       "      <td>2021-01-21 14:23:30</td>\n",
       "    </tr>\n",
       "    <tr>\n",
       "      <th>9</th>\n",
       "      <td>606</td>\n",
       "      <td>Chloroquine and hydroxychloroquine in the mana...</td>\n",
       "      <td>negative</td>\n",
       "      <td>2021-01-21 14:23:49</td>\n",
       "    </tr>\n",
       "  </tbody>\n",
       "</table>\n",
       "</div>"
      ],
      "text/plain": [
       "  id_column                                           sentence     label  \\\n",
       "0       499  High doses of hydroxychloroquine do not affect...  negative   \n",
       "1       167  Hydroxychloroquine for post-exposure prophylax...   neutral   \n",
       "2       403  Here we demonstrate that the combination of hy...   positve   \n",
       "3       486  Here we assessed the prophylactic/therapeutic ...   neutral   \n",
       "4       402  In vitro testing of combined hydroxychloroquin...   positve   \n",
       "5       108  A review on possible modes of action of chloro...   neutral   \n",
       "6       539  Recently, two old antimalarial drugs, hydroxyc...   positve   \n",
       "7        33  Chloroquine and hydroxychloroquine have been f...   positve   \n",
       "8       532  Psychiatric Aspects of Chloroquine and Hydroxy...   neutral   \n",
       "9       606  Chloroquine and hydroxychloroquine in the mana...  negative   \n",
       "\n",
       "         annotated_at  \n",
       "0 2021-01-21 14:20:31  \n",
       "1 2021-01-21 14:21:04  \n",
       "2 2021-01-21 14:21:38  \n",
       "3 2021-01-21 14:22:15  \n",
       "4 2021-01-21 14:22:27  \n",
       "5 2021-01-21 14:22:37  \n",
       "6 2021-01-21 14:23:10  \n",
       "7 2021-01-21 14:23:21  \n",
       "8 2021-01-21 14:23:30  \n",
       "9 2021-01-21 14:23:49  "
      ]
     },
     "execution_count": 8,
     "metadata": {},
     "output_type": "execute_result"
    }
   ],
   "source": [
    "tortus.annotations"
   ]
  },
  {
   "cell_type": "code",
   "execution_count": 9,
   "id": "modular-turtle",
   "metadata": {},
   "outputs": [],
   "source": [
    "annotations = tortus.annotations"
   ]
  },
  {
   "cell_type": "code",
   "execution_count": 11,
   "id": "first-locking",
   "metadata": {},
   "outputs": [],
   "source": [
    "tortus = Tortus(\n",
    "    df,\n",
    "    'sentence',\n",
    "    num_records=100,\n",
    "    annotations=annotations\n",
    ")"
   ]
  },
  {
   "cell_type": "code",
   "execution_count": 12,
   "id": "continued-yemen",
   "metadata": {
    "scrolled": true
   },
   "outputs": [
    {
     "data": {
      "application/vnd.jupyter.widget-view+json": {
       "model_id": "35fd6fa12edd4642ae5ab1eb9cc57cec",
       "version_major": 2,
       "version_minor": 0
      },
      "text/plain": [
       "HBox(children=(Image(value=b'\\x89PNG\\r\\n\\x1a\\n\\x00\\x00\\x00\\rIHDR\\x00\\x00#0\\x00\\x00\\x06\\xc4\\x08\\x06\\x00\\x00\\x00…"
      ]
     },
     "metadata": {},
     "output_type": "display_data"
    },
    {
     "data": {
      "application/vnd.jupyter.widget-view+json": {
       "model_id": "e007065113f9425387c9970f66bb3c8a",
       "version_major": 2,
       "version_minor": 0
      },
      "text/plain": [
       "Output()"
      ]
     },
     "metadata": {},
     "output_type": "display_data"
    }
   ],
   "source": [
    "tortus.annotate()"
   ]
  },
  {
   "cell_type": "code",
   "execution_count": 13,
   "id": "diverse-cooperation",
   "metadata": {},
   "outputs": [],
   "source": [
    "annotations = tortus.annotations"
   ]
  },
  {
   "cell_type": "code",
   "execution_count": 16,
   "id": "indonesian-tissue",
   "metadata": {},
   "outputs": [
    {
     "data": {
      "text/html": [
       "<div>\n",
       "<style scoped>\n",
       "    .dataframe tbody tr th:only-of-type {\n",
       "        vertical-align: middle;\n",
       "    }\n",
       "\n",
       "    .dataframe tbody tr th {\n",
       "        vertical-align: top;\n",
       "    }\n",
       "\n",
       "    .dataframe thead th {\n",
       "        text-align: right;\n",
       "    }\n",
       "</style>\n",
       "<table border=\"1\" class=\"dataframe\">\n",
       "  <thead>\n",
       "    <tr style=\"text-align: right;\">\n",
       "      <th></th>\n",
       "      <th>id_column</th>\n",
       "      <th>sentence</th>\n",
       "      <th>label</th>\n",
       "      <th>annotated_at</th>\n",
       "    </tr>\n",
       "  </thead>\n",
       "  <tbody>\n",
       "    <tr>\n",
       "      <th>0</th>\n",
       "      <td>499</td>\n",
       "      <td>High doses of hydroxychloroquine do not affect...</td>\n",
       "      <td>negative</td>\n",
       "      <td>2021-01-21 14:20:31</td>\n",
       "    </tr>\n",
       "    <tr>\n",
       "      <th>1</th>\n",
       "      <td>167</td>\n",
       "      <td>Hydroxychloroquine for post-exposure prophylax...</td>\n",
       "      <td>neutral</td>\n",
       "      <td>2021-01-21 14:21:04</td>\n",
       "    </tr>\n",
       "    <tr>\n",
       "      <th>2</th>\n",
       "      <td>403</td>\n",
       "      <td>Here we demonstrate that the combination of hy...</td>\n",
       "      <td>positve</td>\n",
       "      <td>2021-01-21 14:21:38</td>\n",
       "    </tr>\n",
       "    <tr>\n",
       "      <th>3</th>\n",
       "      <td>486</td>\n",
       "      <td>Here we assessed the prophylactic/therapeutic ...</td>\n",
       "      <td>neutral</td>\n",
       "      <td>2021-01-21 14:22:15</td>\n",
       "    </tr>\n",
       "    <tr>\n",
       "      <th>4</th>\n",
       "      <td>402</td>\n",
       "      <td>In vitro testing of combined hydroxychloroquin...</td>\n",
       "      <td>positve</td>\n",
       "      <td>2021-01-21 14:22:27</td>\n",
       "    </tr>\n",
       "  </tbody>\n",
       "</table>\n",
       "</div>"
      ],
      "text/plain": [
       "  id_column                                           sentence     label  \\\n",
       "0       499  High doses of hydroxychloroquine do not affect...  negative   \n",
       "1       167  Hydroxychloroquine for post-exposure prophylax...   neutral   \n",
       "2       403  Here we demonstrate that the combination of hy...   positve   \n",
       "3       486  Here we assessed the prophylactic/therapeutic ...   neutral   \n",
       "4       402  In vitro testing of combined hydroxychloroquin...   positve   \n",
       "\n",
       "         annotated_at  \n",
       "0 2021-01-21 14:20:31  \n",
       "1 2021-01-21 14:21:04  \n",
       "2 2021-01-21 14:21:38  \n",
       "3 2021-01-21 14:22:15  \n",
       "4 2021-01-21 14:22:27  "
      ]
     },
     "execution_count": 16,
     "metadata": {},
     "output_type": "execute_result"
    }
   ],
   "source": [
    "annotations.head()"
   ]
  },
  {
   "cell_type": "code",
   "execution_count": 17,
   "id": "confused-acoustic",
   "metadata": {},
   "outputs": [],
   "source": [
    "annotations.to_csv('./tmp_annotated_hydro.tsv', sep='\\t', encoding='utf-8', index=False)"
   ]
  },
  {
   "cell_type": "code",
   "execution_count": 19,
   "id": "bizarre-election",
   "metadata": {},
   "outputs": [],
   "source": [
    "tortus = Tortus(\n",
    "    df,\n",
    "    'sentence',\n",
    "    num_records=626,\n",
    "    annotations=annotations\n",
    ")"
   ]
  },
  {
   "cell_type": "code",
   "execution_count": 20,
   "id": "exact-burns",
   "metadata": {},
   "outputs": [
    {
     "data": {
      "application/vnd.jupyter.widget-view+json": {
       "model_id": "fa6a496a1f26449fabac7fb929915f2f",
       "version_major": 2,
       "version_minor": 0
      },
      "text/plain": [
       "HBox(children=(Image(value=b'\\x89PNG\\r\\n\\x1a\\n\\x00\\x00\\x00\\rIHDR\\x00\\x00#0\\x00\\x00\\x06\\xc4\\x08\\x06\\x00\\x00\\x00…"
      ]
     },
     "metadata": {},
     "output_type": "display_data"
    },
    {
     "data": {
      "application/vnd.jupyter.widget-view+json": {
       "model_id": "09b547602be84dda96354d0a349beb8d",
       "version_major": 2,
       "version_minor": 0
      },
      "text/plain": [
       "Output()"
      ]
     },
     "metadata": {},
     "output_type": "display_data"
    }
   ],
   "source": [
    "tortus.annotate()"
   ]
  },
  {
   "cell_type": "code",
   "execution_count": 21,
   "id": "noble-spotlight",
   "metadata": {},
   "outputs": [],
   "source": [
    "annotations = tortus.annotations"
   ]
  },
  {
   "cell_type": "code",
   "execution_count": 23,
   "id": "latter-saint",
   "metadata": {},
   "outputs": [
    {
     "data": {
      "text/plain": [
       "{None, 'negative', 'neutral', 'positve'}"
      ]
     },
     "execution_count": 23,
     "metadata": {},
     "output_type": "execute_result"
    }
   ],
   "source": [
    "set(annotations.label.tolist())"
   ]
  },
  {
   "cell_type": "code",
   "execution_count": 24,
   "id": "hispanic-empty",
   "metadata": {},
   "outputs": [],
   "source": [
    "tortus = Tortus(\n",
    "    df,\n",
    "    'sentence',\n",
    "    num_records=2,\n",
    "    annotations=annotations\n",
    ")"
   ]
  },
  {
   "cell_type": "code",
   "execution_count": 25,
   "id": "optional-hostel",
   "metadata": {},
   "outputs": [
    {
     "data": {
      "application/vnd.jupyter.widget-view+json": {
       "model_id": "6acfd40e1a954de488ccc76e15960250",
       "version_major": 2,
       "version_minor": 0
      },
      "text/plain": [
       "HBox(children=(Image(value=b'\\x89PNG\\r\\n\\x1a\\n\\x00\\x00\\x00\\rIHDR\\x00\\x00#0\\x00\\x00\\x06\\xc4\\x08\\x06\\x00\\x00\\x00…"
      ]
     },
     "metadata": {},
     "output_type": "display_data"
    },
    {
     "data": {
      "application/vnd.jupyter.widget-view+json": {
       "model_id": "53e8548d2d934354a2b0c0db2f384914",
       "version_major": 2,
       "version_minor": 0
      },
      "text/plain": [
       "Output()"
      ]
     },
     "metadata": {},
     "output_type": "display_data"
    }
   ],
   "source": [
    "tortus.annotate()"
   ]
  },
  {
   "cell_type": "code",
   "execution_count": 27,
   "id": "rolled-diagram",
   "metadata": {},
   "outputs": [
    {
     "data": {
      "text/plain": [
       "neutral     224\n",
       "positve     109\n",
       "negative     74\n",
       "Name: label, dtype: int64"
      ]
     },
     "execution_count": 27,
     "metadata": {},
     "output_type": "execute_result"
    }
   ],
   "source": [
    "annotations.label.value_counts()"
   ]
  },
  {
   "cell_type": "code",
   "execution_count": 28,
   "id": "collaborative-talent",
   "metadata": {},
   "outputs": [],
   "source": [
    "annotations = tortus.annotations"
   ]
  },
  {
   "cell_type": "code",
   "execution_count": 29,
   "id": "every-vault",
   "metadata": {},
   "outputs": [
    {
     "data": {
      "text/plain": [
       "neutral     226\n",
       "positve     109\n",
       "negative     74\n",
       "Name: label, dtype: int64"
      ]
     },
     "execution_count": 29,
     "metadata": {},
     "output_type": "execute_result"
    }
   ],
   "source": [
    "annotations.label.value_counts()"
   ]
  },
  {
   "cell_type": "code",
   "execution_count": 30,
   "id": "weird-calvin",
   "metadata": {},
   "outputs": [],
   "source": [
    "annotations.to_csv('./tmp_annotated_hydro.tsv', sep='\\t', encoding='utf-8', index=False)"
   ]
  },
  {
   "cell_type": "code",
   "execution_count": null,
   "id": "outstanding-consumption",
   "metadata": {},
   "outputs": [],
   "source": []
  }
 ],
 "metadata": {
  "kernelspec": {
   "display_name": "Python 3",
   "language": "python",
   "name": "python3"
  },
  "language_info": {
   "codemirror_mode": {
    "name": "ipython",
    "version": 3
   },
   "file_extension": ".py",
   "mimetype": "text/x-python",
   "name": "python",
   "nbconvert_exporter": "python",
   "pygments_lexer": "ipython3",
   "version": "3.7.9"
  }
 },
 "nbformat": 4,
 "nbformat_minor": 5
}
