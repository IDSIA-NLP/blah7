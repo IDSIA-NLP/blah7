{
 "cells": [
  {
   "cell_type": "markdown",
   "metadata": {},
   "source": [
    "# BLAH7 - OGER - Subtask-3\n",
    "\n",
    "Experiments on the impact of OGER annotations for document classification with very small datasets"
   ]
  },
  {
   "cell_type": "markdown",
   "metadata": {
    "heading_collapsed": true
   },
   "source": [
    "# General code"
   ]
  },
  {
   "cell_type": "code",
   "execution_count": 1,
   "metadata": {
    "hidden": true
   },
   "outputs": [],
   "source": [
    "%load_ext autoreload\n",
    "%autoreload 2"
   ]
  },
  {
   "cell_type": "code",
   "execution_count": 54,
   "metadata": {
    "hidden": true
   },
   "outputs": [],
   "source": [
    "from os import path\n",
    "import numpy as np\n",
    "import pandas as pd\n",
    "from collections import Counter\n",
    "from typing import Any, Dict, List, Callable, Optional, Tuple, Union\n",
    "import seaborn as sns\n",
    "import itertools\n",
    "import copy\n",
    "\n",
    "import joblib\n",
    "import pickle\n",
    "import dill # pickle variant , handle lambda functs\n",
    "import cloudpickle"
   ]
  },
  {
   "cell_type": "code",
   "execution_count": 105,
   "metadata": {
    "hidden": true
   },
   "outputs": [],
   "source": [
    "from sklearn.base import BaseEstimator, TransformerMixin\n",
    "from sklearn.pipeline import FeatureUnion, Pipeline\n",
    "from sklearn.model_selection import train_test_split, GridSearchCV\n",
    "\n",
    "from sklearn.utils.multiclass import unique_labels\n",
    "from sklearn import metrics as sk_metrics\n",
    "from sklearn import metrics\n",
    "from sklearn.metrics import accuracy_score, classification_report, confusion_matrix\n",
    "#from sklearn.linear_model import LogisticRegression\n",
    "from sklearn import svm\n",
    "\n",
    "from tqdm import tqdm"
   ]
  },
  {
   "cell_type": "markdown",
   "metadata": {
    "heading_collapsed": true,
    "hidden": true
   },
   "source": [
    "## Misc"
   ]
  },
  {
   "cell_type": "code",
   "execution_count": 93,
   "metadata": {
    "hidden": true
   },
   "outputs": [],
   "source": [
    "def train_pipeline(strategy, df_train, cls_field, display=True):\n",
    "    strategy.fit(df_train, df_train[cls_field])\n",
    "    return strategy\n",
    "    \n",
    "def evaluate_pipeline(strategy, df_train, df_test, cls_field, display=True, force_fit=False):    \n",
    "            \n",
    "    y_true = list(df_test[cls_field])\n",
    "    \n",
    "    y_pred = None\n",
    "    if force_fit:\n",
    "        strategy = train_pipeline(strategy, df_train, cls_field, display)\n",
    "    try:\n",
    "        y_pred = strategy.predict(df_test)\n",
    "    except NotFittedError as e:\n",
    "        strategy = train_pipeline(strategy, df_train, cls_field, display)\n",
    "        y_pred = strategy.predict(df_test)\n",
    "    \n",
    "    \n",
    "    if display:\n",
    "        rpt = classification_report(y_true, y_pred, labels=list(set(y_true)), digits=4)\n",
    "        print(rpt)\n",
    "        #display(calculate_classification_metrics(y_pred, y_true))\n",
    "        my_plot_confusionmatrix(true_labels = y_true, predicted_labels = y_pred)\n",
    "    else:\n",
    "        rpt = classification_report(y_true, y_pred, labels=list(set(y_true)), digits=4, output_dict=True)    \n",
    "\n",
    "        return rpt['macro avg']['f1-score'], rpt['weighted avg']['f1-score'], rpt['accuracy'], {'y_true': y_true, 'y_pred': y_pred}"
   ]
  },
  {
   "cell_type": "code",
   "execution_count": 130,
   "metadata": {
    "hidden": true
   },
   "outputs": [],
   "source": [
    "def make_confusion_matrix(cf,\n",
    "                          group_names=None,\n",
    "                          categories='auto',\n",
    "                          count=True,\n",
    "                          percent=True,\n",
    "                          cbar=True,\n",
    "                          xyticks=True,\n",
    "                          xyplotlabels=True,\n",
    "                          sum_stats=True,\n",
    "                          figsize=None,\n",
    "                          cmap='Blues',\n",
    "                          title=None):\n",
    "    '''\n",
    "    This function will make a pretty plot of an sklearn Confusion Matrix cm using a Seaborn heatmap visualization.\n",
    "    Arguments\n",
    "    ---------\n",
    "    cf:            confusion matrix to be passed in\n",
    "    group_names:   List of strings that represent the labels row by row to be shown in each square.\n",
    "    categories:    List of strings containing the categories to be displayed on the x,y axis. Default is 'auto'\n",
    "    count:         If True, show the raw number in the confusion matrix. Default is True.\n",
    "    normalize:     If True, show the proportions for each category. Default is True.\n",
    "    cbar:          If True, show the color bar. The cbar values are based off the values in the confusion matrix.\n",
    "                   Default is True.\n",
    "    xyticks:       If True, show x and y ticks. Default is True.\n",
    "    xyplotlabels:  If True, show 'True Label' and 'Predicted Label' on the figure. Default is True.\n",
    "    sum_stats:     If True, display summary statistics below the figure. Default is True.\n",
    "    figsize:       Tuple representing the figure size. Default will be the matplotlib rcParams value.\n",
    "    cmap:          Colormap of the values displayed from matplotlib.pyplot.cm. Default is 'Blues'\n",
    "                   See http://matplotlib.org/examples/color/colormaps_reference.html\n",
    "                   \n",
    "    title:         Title for the heatmap. Default is None.\n",
    "    '''\n",
    "\n",
    "\n",
    "    # CODE TO GENERATE TEXT INSIDE EACH SQUARE\n",
    "    blanks = ['' for i in range(cf.size)]\n",
    "\n",
    "    if group_names and len(group_names)==cf.size:\n",
    "        group_labels = [\"{}\\n\".format(value) for value in group_names]\n",
    "    else:\n",
    "        group_labels = blanks\n",
    "\n",
    "    if count:\n",
    "        group_counts = [\"{0:0.0f}\\n\".format(value) for value in cf.flatten()]\n",
    "    else:\n",
    "        group_counts = blanks\n",
    "\n",
    "    if percent:\n",
    "        group_percentages = [\"{0:.2%}\".format(value) for value in cf.flatten()/np.sum(cf)]\n",
    "    else:\n",
    "        group_percentages = blanks\n",
    "\n",
    "    box_labels = [f\"{v1}{v2}{v3}\".strip() for v1, v2, v3 in zip(group_labels,group_counts,group_percentages)]\n",
    "    box_labels = np.asarray(box_labels).reshape(cf.shape[0],cf.shape[1])\n",
    "\n",
    "\n",
    "    # CODE TO GENERATE SUMMARY STATISTICS & TEXT FOR SUMMARY STATS\n",
    "    if sum_stats:\n",
    "        #Accuracy is sum of diagonal divided by total observations\n",
    "        accuracy  = np.trace(cf) / float(np.sum(cf))\n",
    "\n",
    "        #if it is a binary confusion matrix, show some more stats\n",
    "        if len(cf)==2:\n",
    "            #Metrics for Binary Confusion Matrices\n",
    "            precision = cf[1,1] / sum(cf[:,1])\n",
    "            recall    = cf[1,1] / sum(cf[1,:])\n",
    "            f1_score  = 2*precision*recall / (precision + recall)\n",
    "            stats_text = \"\\n\\nAccuracy={:0.3f}\\nPrecision={:0.3f}\\nRecall={:0.3f}\\nF1 Score={:0.3f}\".format(\n",
    "                accuracy,precision,recall,f1_score)\n",
    "        else:\n",
    "            stats_text = \"\\n\\nAccuracy={:0.3f}\".format(accuracy)\n",
    "    else:\n",
    "        stats_text = \"\"\n",
    "\n",
    "\n",
    "    # SET FIGURE PARAMETERS ACCORDING TO OTHER ARGUMENTS\n",
    "    if figsize==None:\n",
    "        #Get default figure size if not set\n",
    "        figsize = plt.rcParams.get('figure.figsize')\n",
    "\n",
    "    if xyticks==False:\n",
    "        #Do not show categories if xyticks is False\n",
    "        categories=False\n",
    "\n",
    "\n",
    "    # MAKE THE HEATMAP VISUALIZATION\n",
    "    plt.figure(figsize=figsize)\n",
    "    sns.heatmap(cf,annot=box_labels,fmt=\"\",cmap=cmap,cbar=cbar,xticklabels=categories,yticklabels=categories)\n",
    "\n",
    "    if xyplotlabels:\n",
    "        plt.ylabel('True label')\n",
    "        plt.xlabel('Predicted label' + stats_text)\n",
    "    else:\n",
    "        plt.xlabel(stats_text)\n",
    "    \n",
    "    if title:\n",
    "        plt.title(title)\n",
    "\n",
    "def my_plot_confusionmatrix(true_labels, predicted_labels):\n",
    "        \n",
    "    categs =  list(set(true_labels))\n",
    "    \n",
    "    make_confusion_matrix(\n",
    "        confusion_matrix(true_labels, \n",
    "                         predicted_labels, \n",
    "                         labels=categs), \n",
    "                          categories = categs,\n",
    "                          figsize=(12,10), cbar=False)"
   ]
  },
  {
   "cell_type": "code",
   "execution_count": 129,
   "metadata": {
    "hidden": true
   },
   "outputs": [],
   "source": [
    "def split_train_val_test(df, test=0.25, val=0.0, stratisfy_field=None, random_state=42, display=True):\n",
    "    \n",
    "    train = int((1.0-val-test) *df.shape[0])\n",
    "    test = int(test*df.shape[0])\n",
    "    val = int(val*df.shape[0])\n",
    "    \n",
    "    #val = val/train # adjust for subsampling\n",
    "    X_train_, X_test = train_test_split(\n",
    "        df,\n",
    "        test_size=test,\n",
    "        random_state=random_state,\n",
    "        stratify=df[stratisfy_field].values if not stratisfy_field is None else None,\n",
    "    )\n",
    "\n",
    "    if val > 0.0:\n",
    "        X_train, X_val = train_test_split(\n",
    "            X_train_,\n",
    "            test_size=val,\n",
    "            random_state=random_state,\n",
    "            stratify=X_train_[stratisfy_field].values if not stratisfy_field is None else None,\n",
    "        )       \n",
    "    \n",
    "        if display:\n",
    "            print(f\"Train:{X_train.shape[0]:,} ({(X_train.shape[0]/df.shape[0])*100:.2f}%), Val:{X_val.shape[0]:,} ({(X_val.shape[0]/df.shape[0])*100:.2f}%), Test:{X_test.shape[0]:,} ({(X_test.shape[0]/df.shape[0])*100:.2f}%)\")\n",
    "    \n",
    "        rs = X_train, X_val, X_test\n",
    "    else:\n",
    "        X_train = X_train_\n",
    "        if display:\n",
    "            print(f\"Train:{X_train.shape[0]:,} ({(X_train.shape[0]/df.shape[0])*100:.2f}%), Test:{X_test.shape[0]:,} ({(X_test.shape[0]/df.shape[0])*100:.2f}%)\")\n",
    "        rs = X_train, X_test\n",
    "\n",
    "\n",
    "    if display:\n",
    "        for ss in rs:\n",
    "            print(\"-----------\")\n",
    "            print(report_cls_distribution(ss, stratisfy_field))\n",
    "\n",
    "    return rs"
   ]
  },
  {
   "cell_type": "markdown",
   "metadata": {
    "heading_collapsed": true,
    "hidden": true
   },
   "source": [
    "## Bert as Sklearn transformer"
   ]
  },
  {
   "cell_type": "code",
   "execution_count": 3,
   "metadata": {
    "hidden": true
   },
   "outputs": [],
   "source": [
    "# DL\n",
    "import torch\n",
    "import transformers\n",
    "from transformers import BertModel, BertTokenizer"
   ]
  },
  {
   "cell_type": "code",
   "execution_count": 88,
   "metadata": {
    "hidden": true
   },
   "outputs": [],
   "source": [
    "class BertTransformer(BaseEstimator, TransformerMixin):\n",
    "    def __init__(\n",
    "        self,\n",
    "        bert_tokenizer,\n",
    "        bert_model,\n",
    "        max_length: int = 60,\n",
    "        embedding_func: Optional[Callable[[torch.Tensor], torch.Tensor]] = None,\n",
    "    ):\n",
    "        self.tokenizer = bert_tokenizer\n",
    "        self.model = bert_model\n",
    "        self.model.eval()\n",
    "        self.max_length = max_length\n",
    "        self.embedding_func = embedding_func\n",
    "\n",
    "        if self.embedding_func is None:\n",
    "            self.embedding_func = lambda x: x[0][:, 0, :].squeeze() # Grab only the embedding for the [CLS] token\n",
    "            #self.embedding_func = lambda x: torch.flatten(x[0]) # flatten embedding -> concatenates all embeddings for all the tokens\n",
    "\n",
    "\n",
    "\n",
    "    def _tokenize(self, text: str) -> Tuple[torch.Tensor, torch.Tensor]:\n",
    "        # Tokenize the text with the provided tokenizer\n",
    "        tokenized_text = self.tokenizer.encode_plus(\n",
    "            text, add_special_tokens=True, max_length=self.max_length,truncation=True\n",
    "        )[\"input_ids\"]\n",
    "        \n",
    "        # padding\n",
    "        padded_text = tokenized_text + [0]*(self.max_length-len(tokenized_text))\n",
    "\n",
    "        attention_mask = [1] * len(tokenized_text)\n",
    "        # Create an attention mask telling BERT to use all words and ignore padded values\n",
    "        #attention_mask = np.where(np.array(padded_text) != 0, 1, 0)\n",
    "\n",
    "        # bert takes in a batch so we need to unsqueeze the rows\n",
    "        return (\n",
    "            #torch.tensor(padded_text).unsqueeze(0),\n",
    "            torch.tensor(tokenized_text).unsqueeze(0),\n",
    "            torch.tensor(attention_mask).unsqueeze(0),\n",
    "        )\n",
    "\n",
    "    def _tokenize_and_predict(self, text: str) -> torch.Tensor:\n",
    "        tokenized, attention_mask = self._tokenize(text)\n",
    "\n",
    "        embeddings = self.model(tokenized, attention_mask)\n",
    "        return self.embedding_func(embeddings)\n",
    "\n",
    "    def transform(self, text: List[str]):\n",
    "        if isinstance(text, pd.Series):\n",
    "            text = text.tolist()\n",
    "\n",
    "        with torch.no_grad():\n",
    "            return torch.stack([self._tokenize_and_predict(string) for string in text])\n",
    "\n",
    "    def fit(self, X, y=None):\n",
    "        \"\"\"No fitting necessary so we just return ourselves\"\"\"\n",
    "        return self"
   ]
  },
  {
   "cell_type": "markdown",
   "metadata": {
    "heading_collapsed": true
   },
   "source": [
    "# Data"
   ]
  },
  {
   "cell_type": "code",
   "execution_count": 7,
   "metadata": {
    "hidden": true
   },
   "outputs": [],
   "source": [
    "source_data_folder = './repoclinico'\n",
    "destination_folder = './repoclinico/out'"
   ]
  },
  {
   "cell_type": "code",
   "execution_count": 8,
   "metadata": {
    "hidden": true
   },
   "outputs": [],
   "source": [
    "df = pd.read_pickle(path.join(destination_folder, 'df_merged.xz'))"
   ]
  },
  {
   "cell_type": "code",
   "execution_count": 9,
   "metadata": {
    "hidden": true
   },
   "outputs": [
    {
     "data": {
      "text/html": [
       "<div>\n",
       "<style scoped>\n",
       "    .dataframe tbody tr th:only-of-type {\n",
       "        vertical-align: middle;\n",
       "    }\n",
       "\n",
       "    .dataframe tbody tr th {\n",
       "        vertical-align: top;\n",
       "    }\n",
       "\n",
       "    .dataframe thead th {\n",
       "        text-align: right;\n",
       "    }\n",
       "</style>\n",
       "<table border=\"1\" class=\"dataframe\">\n",
       "  <thead>\n",
       "    <tr style=\"text-align: right;\">\n",
       "      <th></th>\n",
       "      <th>title</th>\n",
       "      <th>cls_speciality</th>\n",
       "      <th>cls_type</th>\n",
       "      <th>cls_topic</th>\n",
       "      <th>cls_subtopic</th>\n",
       "      <th>abstract</th>\n",
       "      <th>txt_file</th>\n",
       "      <th>full_text</th>\n",
       "      <th>type</th>\n",
       "      <th>preferred_form</th>\n",
       "      <th>entity_id</th>\n",
       "      <th>origin</th>\n",
       "    </tr>\n",
       "  </thead>\n",
       "  <tbody>\n",
       "    <tr>\n",
       "      <th>0</th>\n",
       "      <td>Plausibility of therapeutic effects of Rho kin...</td>\n",
       "      <td>NaN</td>\n",
       "      <td>NaN</td>\n",
       "      <td>4</td>\n",
       "      <td>5.0</td>\n",
       "      <td>NaN</td>\n",
       "      <td>Abedi2020-Plausibility_of_therapeutic_effects_...</td>\n",
       "      <td>Since January 2020 Elsevier has created a COVI...</td>\n",
       "      <td>disease organism disease disease disease disea...</td>\n",
       "      <td>COVID-19 Coronavirus COVID-19 COVID-19 COVID-1...</td>\n",
       "      <td>C000657245 D017934 C000657245 C000657245 C0006...</td>\n",
       "      <td>MeSH supp (Diseases) MeSH desc (Organisms) MeS...</td>\n",
       "    </tr>\n",
       "    <tr>\n",
       "      <th>1</th>\n",
       "      <td>Heart Failure Collaboratory Statement on Clini...</td>\n",
       "      <td>12</td>\n",
       "      <td>3.0</td>\n",
       "      <td>NaN</td>\n",
       "      <td>NaN</td>\n",
       "      <td>NaN</td>\n",
       "      <td>Abraham2020-Heart_Failure_Collaboratory_Statem...</td>\n",
       "      <td>Since January 2020 Elsevier has created a COVI...</td>\n",
       "      <td>disease organism disease disease disease disea...</td>\n",
       "      <td>COVID-19 Coronavirus COVID-19 COVID-19 COVID-1...</td>\n",
       "      <td>C000657245 D017934 C000657245 C000657245 C0006...</td>\n",
       "      <td>MeSH supp (Diseases) MeSH desc (Organisms) MeS...</td>\n",
       "    </tr>\n",
       "    <tr>\n",
       "      <th>2</th>\n",
       "      <td>Gastrointestinal and Liver Manifestations of C...</td>\n",
       "      <td>17</td>\n",
       "      <td>7.0</td>\n",
       "      <td>NaN</td>\n",
       "      <td>NaN</td>\n",
       "      <td>The worldwide pandemic of COVID-19, caused by ...</td>\n",
       "      <td>Agarwal2020-Gastrointestinal_and_Liver_Manifes...</td>\n",
       "      <td>Since January 2020 Elsevier has created a COVI...</td>\n",
       "      <td>disease organism disease disease disease disea...</td>\n",
       "      <td>COVID-19 Coronavirus COVID-19 COVID-19 COVID-1...</td>\n",
       "      <td>C000657245 D017934 C000657245 C000657245 C0006...</td>\n",
       "      <td>MeSH supp (Diseases) MeSH desc (Organisms) MeS...</td>\n",
       "    </tr>\n",
       "    <tr>\n",
       "      <th>3</th>\n",
       "      <td>COVID-19: Zoonotic aspects</td>\n",
       "      <td>NaN</td>\n",
       "      <td>NaN</td>\n",
       "      <td>26</td>\n",
       "      <td>NaN</td>\n",
       "      <td>NaN</td>\n",
       "      <td>Ahmad2020-COVID-19-Zoonotic_aspects.txt</td>\n",
       "      <td>Since January 2020 Elsevier has created a COVI...</td>\n",
       "      <td>disease organism disease disease disease disea...</td>\n",
       "      <td>COVID-19 Coronavirus COVID-19 COVID-19 COVID-1...</td>\n",
       "      <td>C000657245 D017934 C000657245 C000657245 C0006...</td>\n",
       "      <td>MeSH supp (Diseases) MeSH desc (Organisms) MeS...</td>\n",
       "    </tr>\n",
       "    <tr>\n",
       "      <th>4</th>\n",
       "      <td>COVID-19 and medical education</td>\n",
       "      <td>NaN</td>\n",
       "      <td>NaN</td>\n",
       "      <td>45</td>\n",
       "      <td>NaN</td>\n",
       "      <td>NaN</td>\n",
       "      <td>Ahmed2020-COVID-19_and_medical_education.txt</td>\n",
       "      <td>Since January 2020 Elsevier has created a COVI...</td>\n",
       "      <td>disease organism disease disease disease disea...</td>\n",
       "      <td>COVID-19 Coronavirus COVID-19 COVID-19 COVID-1...</td>\n",
       "      <td>C000657245 D017934 C000657245 C000657245 C0006...</td>\n",
       "      <td>MeSH supp (Diseases) MeSH desc (Organisms) MeS...</td>\n",
       "    </tr>\n",
       "  </tbody>\n",
       "</table>\n",
       "</div>"
      ],
      "text/plain": [
       "                                               title cls_speciality  cls_type  \\\n",
       "0  Plausibility of therapeutic effects of Rho kin...            NaN       NaN   \n",
       "1  Heart Failure Collaboratory Statement on Clini...             12       3.0   \n",
       "2  Gastrointestinal and Liver Manifestations of C...             17       7.0   \n",
       "3                         COVID-19: Zoonotic aspects            NaN       NaN   \n",
       "4                     COVID-19 and medical education            NaN       NaN   \n",
       "\n",
       "  cls_topic  cls_subtopic                                           abstract  \\\n",
       "0         4           5.0                                                NaN   \n",
       "1       NaN           NaN                                                NaN   \n",
       "2       NaN           NaN  The worldwide pandemic of COVID-19, caused by ...   \n",
       "3        26           NaN                                                NaN   \n",
       "4        45           NaN                                                NaN   \n",
       "\n",
       "                                            txt_file  \\\n",
       "0  Abedi2020-Plausibility_of_therapeutic_effects_...   \n",
       "1  Abraham2020-Heart_Failure_Collaboratory_Statem...   \n",
       "2  Agarwal2020-Gastrointestinal_and_Liver_Manifes...   \n",
       "3            Ahmad2020-COVID-19-Zoonotic_aspects.txt   \n",
       "4       Ahmed2020-COVID-19_and_medical_education.txt   \n",
       "\n",
       "                                           full_text  \\\n",
       "0  Since January 2020 Elsevier has created a COVI...   \n",
       "1  Since January 2020 Elsevier has created a COVI...   \n",
       "2  Since January 2020 Elsevier has created a COVI...   \n",
       "3  Since January 2020 Elsevier has created a COVI...   \n",
       "4  Since January 2020 Elsevier has created a COVI...   \n",
       "\n",
       "                                                type  \\\n",
       "0  disease organism disease disease disease disea...   \n",
       "1  disease organism disease disease disease disea...   \n",
       "2  disease organism disease disease disease disea...   \n",
       "3  disease organism disease disease disease disea...   \n",
       "4  disease organism disease disease disease disea...   \n",
       "\n",
       "                                      preferred_form  \\\n",
       "0  COVID-19 Coronavirus COVID-19 COVID-19 COVID-1...   \n",
       "1  COVID-19 Coronavirus COVID-19 COVID-19 COVID-1...   \n",
       "2  COVID-19 Coronavirus COVID-19 COVID-19 COVID-1...   \n",
       "3  COVID-19 Coronavirus COVID-19 COVID-19 COVID-1...   \n",
       "4  COVID-19 Coronavirus COVID-19 COVID-19 COVID-1...   \n",
       "\n",
       "                                           entity_id  \\\n",
       "0  C000657245 D017934 C000657245 C000657245 C0006...   \n",
       "1  C000657245 D017934 C000657245 C000657245 C0006...   \n",
       "2  C000657245 D017934 C000657245 C000657245 C0006...   \n",
       "3  C000657245 D017934 C000657245 C000657245 C0006...   \n",
       "4  C000657245 D017934 C000657245 C000657245 C0006...   \n",
       "\n",
       "                                              origin  \n",
       "0  MeSH supp (Diseases) MeSH desc (Organisms) MeS...  \n",
       "1  MeSH supp (Diseases) MeSH desc (Organisms) MeS...  \n",
       "2  MeSH supp (Diseases) MeSH desc (Organisms) MeS...  \n",
       "3  MeSH supp (Diseases) MeSH desc (Organisms) MeS...  \n",
       "4  MeSH supp (Diseases) MeSH desc (Organisms) MeS...  "
      ]
     },
     "execution_count": 9,
     "metadata": {},
     "output_type": "execute_result"
    }
   ],
   "source": [
    "df.head()"
   ]
  },
  {
   "cell_type": "markdown",
   "metadata": {
    "hidden": true
   },
   "source": [
    "## build the dataframe (if not pickle available)"
   ]
  },
  {
   "cell_type": "code",
   "execution_count": 142,
   "metadata": {
    "hidden": true
   },
   "outputs": [],
   "source": [
    "\n",
    "df = pd.read_csv(source_data_folder + \"/blah7_subtask3.tsv\", sep='\\t')"
   ]
  },
  {
   "cell_type": "code",
   "execution_count": 143,
   "metadata": {
    "hidden": true
   },
   "outputs": [
    {
     "data": {
      "text/html": [
       "<div>\n",
       "<style scoped>\n",
       "    .dataframe tbody tr th:only-of-type {\n",
       "        vertical-align: middle;\n",
       "    }\n",
       "\n",
       "    .dataframe tbody tr th {\n",
       "        vertical-align: top;\n",
       "    }\n",
       "\n",
       "    .dataframe thead th {\n",
       "        text-align: right;\n",
       "    }\n",
       "</style>\n",
       "<table border=\"1\" class=\"dataframe\">\n",
       "  <thead>\n",
       "    <tr style=\"text-align: right;\">\n",
       "      <th></th>\n",
       "      <th>title</th>\n",
       "      <th>cls_speciality</th>\n",
       "      <th>cls_type</th>\n",
       "      <th>cls_topic</th>\n",
       "      <th>cls_subtopic</th>\n",
       "      <th>abstract</th>\n",
       "      <th>txt_file</th>\n",
       "    </tr>\n",
       "  </thead>\n",
       "  <tbody>\n",
       "    <tr>\n",
       "      <th>0</th>\n",
       "      <td>Plausibility of therapeutic effects of Rho kin...</td>\n",
       "      <td>NaN</td>\n",
       "      <td>NaN</td>\n",
       "      <td>4</td>\n",
       "      <td>5.0</td>\n",
       "      <td>NaN</td>\n",
       "      <td>Abedi2020-Plausibility_of_therapeutic_effects_...</td>\n",
       "    </tr>\n",
       "    <tr>\n",
       "      <th>1</th>\n",
       "      <td>Heart Failure Collaboratory Statement on Clini...</td>\n",
       "      <td>12</td>\n",
       "      <td>3.0</td>\n",
       "      <td>NaN</td>\n",
       "      <td>NaN</td>\n",
       "      <td>NaN</td>\n",
       "      <td>Abraham2020-Heart_Failure_Collaboratory_Statem...</td>\n",
       "    </tr>\n",
       "    <tr>\n",
       "      <th>2</th>\n",
       "      <td>Gastrointestinal and Liver Manifestations of C...</td>\n",
       "      <td>17</td>\n",
       "      <td>7.0</td>\n",
       "      <td>NaN</td>\n",
       "      <td>NaN</td>\n",
       "      <td>The worldwide pandemic of COVID-19, caused by ...</td>\n",
       "      <td>Agarwal2020-Gastrointestinal_and_Liver_Manifes...</td>\n",
       "    </tr>\n",
       "    <tr>\n",
       "      <th>3</th>\n",
       "      <td>COVID-19: Zoonotic aspects</td>\n",
       "      <td>NaN</td>\n",
       "      <td>NaN</td>\n",
       "      <td>26</td>\n",
       "      <td>NaN</td>\n",
       "      <td>NaN</td>\n",
       "      <td>Ahmad2020-COVID-19-Zoonotic_aspects.txt</td>\n",
       "    </tr>\n",
       "    <tr>\n",
       "      <th>4</th>\n",
       "      <td>COVID-19 and medical education</td>\n",
       "      <td>NaN</td>\n",
       "      <td>NaN</td>\n",
       "      <td>45</td>\n",
       "      <td>NaN</td>\n",
       "      <td>NaN</td>\n",
       "      <td>Ahmed2020-COVID-19_and_medical_education.txt</td>\n",
       "    </tr>\n",
       "    <tr>\n",
       "      <th>...</th>\n",
       "      <td>...</td>\n",
       "      <td>...</td>\n",
       "      <td>...</td>\n",
       "      <td>...</td>\n",
       "      <td>...</td>\n",
       "      <td>...</td>\n",
       "      <td>...</td>\n",
       "    </tr>\n",
       "    <tr>\n",
       "      <th>641</th>\n",
       "      <td>The cytokine release syndrome (CRS) of severe ...</td>\n",
       "      <td>NaN</td>\n",
       "      <td>NaN</td>\n",
       "      <td>28</td>\n",
       "      <td>NaN</td>\n",
       "      <td>Since December 2019, a viral pneumonia (COVID-...</td>\n",
       "      <td>Zhang2020-The_cytokine_release_syndrome_CRS_of...</td>\n",
       "    </tr>\n",
       "    <tr>\n",
       "      <th>642</th>\n",
       "      <td>A comparative study on the clinical features o...</td>\n",
       "      <td>25</td>\n",
       "      <td>2.0</td>\n",
       "      <td>NaN</td>\n",
       "      <td>NaN</td>\n",
       "      <td>Background\u000b",
       "A novel coronavirus (2019-nCoV) has...</td>\n",
       "      <td>Zhao2020-A_comparative_study_on_the_clinical_f...</td>\n",
       "    </tr>\n",
       "    <tr>\n",
       "      <th>643</th>\n",
       "      <td>Obesity as a risk factor for greater severity ...</td>\n",
       "      <td>17</td>\n",
       "      <td>2.0</td>\n",
       "      <td>NaN</td>\n",
       "      <td>NaN</td>\n",
       "      <td>Background &amp; Aims.\u000b",
       "Coronavirus disease 2019 (C...</td>\n",
       "      <td>Zheng2020-Obesity_as_a_risk_factor_for_greater...</td>\n",
       "    </tr>\n",
       "    <tr>\n",
       "      <th>644</th>\n",
       "      <td>Diabetes patients with COVID-19 need better care</td>\n",
       "      <td>15</td>\n",
       "      <td>2.0</td>\n",
       "      <td>NaN</td>\n",
       "      <td>NaN</td>\n",
       "      <td>NaN</td>\n",
       "      <td>Zhou2020-Diabetes_patients_with_COVID-19_need_...</td>\n",
       "    </tr>\n",
       "    <tr>\n",
       "      <th>645</th>\n",
       "      <td>A Novel Coronavirus from Patients with Pneumon...</td>\n",
       "      <td>NaN</td>\n",
       "      <td>NaN</td>\n",
       "      <td>26</td>\n",
       "      <td>NaN</td>\n",
       "      <td>In December 2019, a cluster of patients with p...</td>\n",
       "      <td>Zhu2020-A_Novel_Coronavirus_from_Patients_with...</td>\n",
       "    </tr>\n",
       "  </tbody>\n",
       "</table>\n",
       "<p>646 rows × 7 columns</p>\n",
       "</div>"
      ],
      "text/plain": [
       "                                                 title cls_speciality  \\\n",
       "0    Plausibility of therapeutic effects of Rho kin...            NaN   \n",
       "1    Heart Failure Collaboratory Statement on Clini...             12   \n",
       "2    Gastrointestinal and Liver Manifestations of C...             17   \n",
       "3                           COVID-19: Zoonotic aspects            NaN   \n",
       "4                       COVID-19 and medical education            NaN   \n",
       "..                                                 ...            ...   \n",
       "641  The cytokine release syndrome (CRS) of severe ...            NaN   \n",
       "642  A comparative study on the clinical features o...             25   \n",
       "643  Obesity as a risk factor for greater severity ...             17   \n",
       "644   Diabetes patients with COVID-19 need better care             15   \n",
       "645  A Novel Coronavirus from Patients with Pneumon...            NaN   \n",
       "\n",
       "     cls_type cls_topic  cls_subtopic  \\\n",
       "0         NaN         4           5.0   \n",
       "1         3.0       NaN           NaN   \n",
       "2         7.0       NaN           NaN   \n",
       "3         NaN        26           NaN   \n",
       "4         NaN        45           NaN   \n",
       "..        ...       ...           ...   \n",
       "641       NaN        28           NaN   \n",
       "642       2.0       NaN           NaN   \n",
       "643       2.0       NaN           NaN   \n",
       "644       2.0       NaN           NaN   \n",
       "645       NaN        26           NaN   \n",
       "\n",
       "                                              abstract  \\\n",
       "0                                                  NaN   \n",
       "1                                                  NaN   \n",
       "2    The worldwide pandemic of COVID-19, caused by ...   \n",
       "3                                                  NaN   \n",
       "4                                                  NaN   \n",
       "..                                                 ...   \n",
       "641  Since December 2019, a viral pneumonia (COVID-...   \n",
       "642  Background\n",
       "A novel coronavirus (2019-nCoV) has...   \n",
       "643  Background & Aims.\n",
       "Coronavirus disease 2019 (C...   \n",
       "644                                                NaN   \n",
       "645  In December 2019, a cluster of patients with p...   \n",
       "\n",
       "                                              txt_file  \n",
       "0    Abedi2020-Plausibility_of_therapeutic_effects_...  \n",
       "1    Abraham2020-Heart_Failure_Collaboratory_Statem...  \n",
       "2    Agarwal2020-Gastrointestinal_and_Liver_Manifes...  \n",
       "3              Ahmad2020-COVID-19-Zoonotic_aspects.txt  \n",
       "4         Ahmed2020-COVID-19_and_medical_education.txt  \n",
       "..                                                 ...  \n",
       "641  Zhang2020-The_cytokine_release_syndrome_CRS_of...  \n",
       "642  Zhao2020-A_comparative_study_on_the_clinical_f...  \n",
       "643  Zheng2020-Obesity_as_a_risk_factor_for_greater...  \n",
       "644  Zhou2020-Diabetes_patients_with_COVID-19_need_...  \n",
       "645  Zhu2020-A_Novel_Coronavirus_from_Patients_with...  \n",
       "\n",
       "[646 rows x 7 columns]"
      ]
     },
     "execution_count": 143,
     "metadata": {},
     "output_type": "execute_result"
    }
   ],
   "source": [
    "df"
   ]
  },
  {
   "cell_type": "code",
   "execution_count": 144,
   "metadata": {
    "hidden": true
   },
   "outputs": [],
   "source": [
    "def append_full_text(df, src_txt_path='./repoclinico/txt_files'):\n",
    "    txts = ['']*len(df)\n",
    "    for i, d in df.iterrows():        \n",
    "        with open(path.join(src_txt_path, d.txt_file)) as f:\n",
    "            lines = [l for l in f.read().splitlines() if l.strip()]\n",
    "            txts[i] = ' '.join(lines)\n",
    "            #print(lines)\n",
    "    df['full_text'] = txts\n",
    "    return df\n",
    "\n",
    "df = append_full_text(df)"
   ]
  },
  {
   "cell_type": "code",
   "execution_count": 145,
   "metadata": {
    "hidden": true
   },
   "outputs": [
    {
     "data": {
      "text/html": [
       "<div>\n",
       "<style scoped>\n",
       "    .dataframe tbody tr th:only-of-type {\n",
       "        vertical-align: middle;\n",
       "    }\n",
       "\n",
       "    .dataframe tbody tr th {\n",
       "        vertical-align: top;\n",
       "    }\n",
       "\n",
       "    .dataframe thead th {\n",
       "        text-align: right;\n",
       "    }\n",
       "</style>\n",
       "<table border=\"1\" class=\"dataframe\">\n",
       "  <thead>\n",
       "    <tr style=\"text-align: right;\">\n",
       "      <th></th>\n",
       "      <th>title</th>\n",
       "      <th>cls_speciality</th>\n",
       "      <th>cls_type</th>\n",
       "      <th>cls_topic</th>\n",
       "      <th>cls_subtopic</th>\n",
       "      <th>abstract</th>\n",
       "      <th>txt_file</th>\n",
       "      <th>full_text</th>\n",
       "    </tr>\n",
       "  </thead>\n",
       "  <tbody>\n",
       "    <tr>\n",
       "      <th>0</th>\n",
       "      <td>Plausibility of therapeutic effects of Rho kin...</td>\n",
       "      <td>NaN</td>\n",
       "      <td>NaN</td>\n",
       "      <td>4</td>\n",
       "      <td>5.0</td>\n",
       "      <td>NaN</td>\n",
       "      <td>Abedi2020-Plausibility_of_therapeutic_effects_...</td>\n",
       "      <td>Since January 2020 Elsevier has created a COVI...</td>\n",
       "    </tr>\n",
       "    <tr>\n",
       "      <th>1</th>\n",
       "      <td>Heart Failure Collaboratory Statement on Clini...</td>\n",
       "      <td>12</td>\n",
       "      <td>3.0</td>\n",
       "      <td>NaN</td>\n",
       "      <td>NaN</td>\n",
       "      <td>NaN</td>\n",
       "      <td>Abraham2020-Heart_Failure_Collaboratory_Statem...</td>\n",
       "      <td>Since January 2020 Elsevier has created a COVI...</td>\n",
       "    </tr>\n",
       "    <tr>\n",
       "      <th>2</th>\n",
       "      <td>Gastrointestinal and Liver Manifestations of C...</td>\n",
       "      <td>17</td>\n",
       "      <td>7.0</td>\n",
       "      <td>NaN</td>\n",
       "      <td>NaN</td>\n",
       "      <td>The worldwide pandemic of COVID-19, caused by ...</td>\n",
       "      <td>Agarwal2020-Gastrointestinal_and_Liver_Manifes...</td>\n",
       "      <td>Since January 2020 Elsevier has created a COVI...</td>\n",
       "    </tr>\n",
       "    <tr>\n",
       "      <th>3</th>\n",
       "      <td>COVID-19: Zoonotic aspects</td>\n",
       "      <td>NaN</td>\n",
       "      <td>NaN</td>\n",
       "      <td>26</td>\n",
       "      <td>NaN</td>\n",
       "      <td>NaN</td>\n",
       "      <td>Ahmad2020-COVID-19-Zoonotic_aspects.txt</td>\n",
       "      <td>Since January 2020 Elsevier has created a COVI...</td>\n",
       "    </tr>\n",
       "    <tr>\n",
       "      <th>4</th>\n",
       "      <td>COVID-19 and medical education</td>\n",
       "      <td>NaN</td>\n",
       "      <td>NaN</td>\n",
       "      <td>45</td>\n",
       "      <td>NaN</td>\n",
       "      <td>NaN</td>\n",
       "      <td>Ahmed2020-COVID-19_and_medical_education.txt</td>\n",
       "      <td>Since January 2020 Elsevier has created a COVI...</td>\n",
       "    </tr>\n",
       "  </tbody>\n",
       "</table>\n",
       "</div>"
      ],
      "text/plain": [
       "                                               title cls_speciality  cls_type  \\\n",
       "0  Plausibility of therapeutic effects of Rho kin...            NaN       NaN   \n",
       "1  Heart Failure Collaboratory Statement on Clini...             12       3.0   \n",
       "2  Gastrointestinal and Liver Manifestations of C...             17       7.0   \n",
       "3                         COVID-19: Zoonotic aspects            NaN       NaN   \n",
       "4                     COVID-19 and medical education            NaN       NaN   \n",
       "\n",
       "  cls_topic  cls_subtopic                                           abstract  \\\n",
       "0         4           5.0                                                NaN   \n",
       "1       NaN           NaN                                                NaN   \n",
       "2       NaN           NaN  The worldwide pandemic of COVID-19, caused by ...   \n",
       "3        26           NaN                                                NaN   \n",
       "4        45           NaN                                                NaN   \n",
       "\n",
       "                                            txt_file  \\\n",
       "0  Abedi2020-Plausibility_of_therapeutic_effects_...   \n",
       "1  Abraham2020-Heart_Failure_Collaboratory_Statem...   \n",
       "2  Agarwal2020-Gastrointestinal_and_Liver_Manifes...   \n",
       "3            Ahmad2020-COVID-19-Zoonotic_aspects.txt   \n",
       "4       Ahmed2020-COVID-19_and_medical_education.txt   \n",
       "\n",
       "                                           full_text  \n",
       "0  Since January 2020 Elsevier has created a COVI...  \n",
       "1  Since January 2020 Elsevier has created a COVI...  \n",
       "2  Since January 2020 Elsevier has created a COVI...  \n",
       "3  Since January 2020 Elsevier has created a COVI...  \n",
       "4  Since January 2020 Elsevier has created a COVI...  "
      ]
     },
     "execution_count": 145,
     "metadata": {},
     "output_type": "execute_result"
    }
   ],
   "source": [
    "df.head()"
   ]
  },
  {
   "cell_type": "code",
   "execution_count": 156,
   "metadata": {
    "hidden": true
   },
   "outputs": [
    {
     "data": {
      "text/html": [
       "<div>\n",
       "<style scoped>\n",
       "    .dataframe tbody tr th:only-of-type {\n",
       "        vertical-align: middle;\n",
       "    }\n",
       "\n",
       "    .dataframe tbody tr th {\n",
       "        vertical-align: top;\n",
       "    }\n",
       "\n",
       "    .dataframe thead th {\n",
       "        text-align: right;\n",
       "    }\n",
       "</style>\n",
       "<table border=\"1\" class=\"dataframe\">\n",
       "  <thead>\n",
       "    <tr style=\"text-align: right;\">\n",
       "      <th></th>\n",
       "      <th>title</th>\n",
       "      <th>cls_speciality</th>\n",
       "      <th>cls_type</th>\n",
       "      <th>cls_topic</th>\n",
       "      <th>cls_subtopic</th>\n",
       "      <th>abstract</th>\n",
       "      <th>txt_file</th>\n",
       "      <th>full_text</th>\n",
       "      <th>type</th>\n",
       "      <th>preferred_form</th>\n",
       "      <th>entity_id</th>\n",
       "      <th>origin</th>\n",
       "    </tr>\n",
       "  </thead>\n",
       "  <tbody>\n",
       "    <tr>\n",
       "      <th>0</th>\n",
       "      <td>Plausibility of therapeutic effects of Rho kin...</td>\n",
       "      <td>NaN</td>\n",
       "      <td>NaN</td>\n",
       "      <td>4</td>\n",
       "      <td>5.0</td>\n",
       "      <td>NaN</td>\n",
       "      <td>Abedi2020-Plausibility_of_therapeutic_effects_...</td>\n",
       "      <td>Since January 2020 Elsevier has created a COVI...</td>\n",
       "      <td>disease organism disease disease disease disea...</td>\n",
       "      <td>COVID-19 Coronavirus COVID-19 COVID-19 COVID-1...</td>\n",
       "      <td>C000657245 D017934 C000657245 C000657245 C0006...</td>\n",
       "      <td>MeSH supp (Diseases) MeSH desc (Organisms) MeS...</td>\n",
       "    </tr>\n",
       "    <tr>\n",
       "      <th>1</th>\n",
       "      <td>Heart Failure Collaboratory Statement on Clini...</td>\n",
       "      <td>12</td>\n",
       "      <td>3.0</td>\n",
       "      <td>NaN</td>\n",
       "      <td>NaN</td>\n",
       "      <td>NaN</td>\n",
       "      <td>Abraham2020-Heart_Failure_Collaboratory_Statem...</td>\n",
       "      <td>Since January 2020 Elsevier has created a COVI...</td>\n",
       "      <td>disease organism disease disease disease disea...</td>\n",
       "      <td>COVID-19 Coronavirus COVID-19 COVID-19 COVID-1...</td>\n",
       "      <td>C000657245 D017934 C000657245 C000657245 C0006...</td>\n",
       "      <td>MeSH supp (Diseases) MeSH desc (Organisms) MeS...</td>\n",
       "    </tr>\n",
       "    <tr>\n",
       "      <th>2</th>\n",
       "      <td>Gastrointestinal and Liver Manifestations of C...</td>\n",
       "      <td>17</td>\n",
       "      <td>7.0</td>\n",
       "      <td>NaN</td>\n",
       "      <td>NaN</td>\n",
       "      <td>The worldwide pandemic of COVID-19, caused by ...</td>\n",
       "      <td>Agarwal2020-Gastrointestinal_and_Liver_Manifes...</td>\n",
       "      <td>Since January 2020 Elsevier has created a COVI...</td>\n",
       "      <td>disease organism disease disease disease disea...</td>\n",
       "      <td>COVID-19 Coronavirus COVID-19 COVID-19 COVID-1...</td>\n",
       "      <td>C000657245 D017934 C000657245 C000657245 C0006...</td>\n",
       "      <td>MeSH supp (Diseases) MeSH desc (Organisms) MeS...</td>\n",
       "    </tr>\n",
       "    <tr>\n",
       "      <th>3</th>\n",
       "      <td>COVID-19: Zoonotic aspects</td>\n",
       "      <td>NaN</td>\n",
       "      <td>NaN</td>\n",
       "      <td>26</td>\n",
       "      <td>NaN</td>\n",
       "      <td>NaN</td>\n",
       "      <td>Ahmad2020-COVID-19-Zoonotic_aspects.txt</td>\n",
       "      <td>Since January 2020 Elsevier has created a COVI...</td>\n",
       "      <td>disease organism disease disease disease disea...</td>\n",
       "      <td>COVID-19 Coronavirus COVID-19 COVID-19 COVID-1...</td>\n",
       "      <td>C000657245 D017934 C000657245 C000657245 C0006...</td>\n",
       "      <td>MeSH supp (Diseases) MeSH desc (Organisms) MeS...</td>\n",
       "    </tr>\n",
       "    <tr>\n",
       "      <th>4</th>\n",
       "      <td>COVID-19 and medical education</td>\n",
       "      <td>NaN</td>\n",
       "      <td>NaN</td>\n",
       "      <td>45</td>\n",
       "      <td>NaN</td>\n",
       "      <td>NaN</td>\n",
       "      <td>Ahmed2020-COVID-19_and_medical_education.txt</td>\n",
       "      <td>Since January 2020 Elsevier has created a COVI...</td>\n",
       "      <td>disease organism disease disease disease disea...</td>\n",
       "      <td>COVID-19 Coronavirus COVID-19 COVID-19 COVID-1...</td>\n",
       "      <td>C000657245 D017934 C000657245 C000657245 C0006...</td>\n",
       "      <td>MeSH supp (Diseases) MeSH desc (Organisms) MeS...</td>\n",
       "    </tr>\n",
       "  </tbody>\n",
       "</table>\n",
       "</div>"
      ],
      "text/plain": [
       "                                               title cls_speciality  cls_type  \\\n",
       "0  Plausibility of therapeutic effects of Rho kin...            NaN       NaN   \n",
       "1  Heart Failure Collaboratory Statement on Clini...             12       3.0   \n",
       "2  Gastrointestinal and Liver Manifestations of C...             17       7.0   \n",
       "3                         COVID-19: Zoonotic aspects            NaN       NaN   \n",
       "4                     COVID-19 and medical education            NaN       NaN   \n",
       "\n",
       "  cls_topic  cls_subtopic                                           abstract  \\\n",
       "0         4           5.0                                                NaN   \n",
       "1       NaN           NaN                                                NaN   \n",
       "2       NaN           NaN  The worldwide pandemic of COVID-19, caused by ...   \n",
       "3        26           NaN                                                NaN   \n",
       "4        45           NaN                                                NaN   \n",
       "\n",
       "                                            txt_file  \\\n",
       "0  Abedi2020-Plausibility_of_therapeutic_effects_...   \n",
       "1  Abraham2020-Heart_Failure_Collaboratory_Statem...   \n",
       "2  Agarwal2020-Gastrointestinal_and_Liver_Manifes...   \n",
       "3            Ahmad2020-COVID-19-Zoonotic_aspects.txt   \n",
       "4       Ahmed2020-COVID-19_and_medical_education.txt   \n",
       "\n",
       "                                           full_text  \\\n",
       "0  Since January 2020 Elsevier has created a COVI...   \n",
       "1  Since January 2020 Elsevier has created a COVI...   \n",
       "2  Since January 2020 Elsevier has created a COVI...   \n",
       "3  Since January 2020 Elsevier has created a COVI...   \n",
       "4  Since January 2020 Elsevier has created a COVI...   \n",
       "\n",
       "                                                type  \\\n",
       "0  disease organism disease disease disease disea...   \n",
       "1  disease organism disease disease disease disea...   \n",
       "2  disease organism disease disease disease disea...   \n",
       "3  disease organism disease disease disease disea...   \n",
       "4  disease organism disease disease disease disea...   \n",
       "\n",
       "                                      preferred_form  \\\n",
       "0  COVID-19 Coronavirus COVID-19 COVID-19 COVID-1...   \n",
       "1  COVID-19 Coronavirus COVID-19 COVID-19 COVID-1...   \n",
       "2  COVID-19 Coronavirus COVID-19 COVID-19 COVID-1...   \n",
       "3  COVID-19 Coronavirus COVID-19 COVID-19 COVID-1...   \n",
       "4  COVID-19 Coronavirus COVID-19 COVID-19 COVID-1...   \n",
       "\n",
       "                                           entity_id  \\\n",
       "0  C000657245 D017934 C000657245 C000657245 C0006...   \n",
       "1  C000657245 D017934 C000657245 C000657245 C0006...   \n",
       "2  C000657245 D017934 C000657245 C000657245 C0006...   \n",
       "3  C000657245 D017934 C000657245 C000657245 C0006...   \n",
       "4  C000657245 D017934 C000657245 C000657245 C0006...   \n",
       "\n",
       "                                              origin  \n",
       "0  MeSH supp (Diseases) MeSH desc (Organisms) MeS...  \n",
       "1  MeSH supp (Diseases) MeSH desc (Organisms) MeS...  \n",
       "2  MeSH supp (Diseases) MeSH desc (Organisms) MeS...  \n",
       "3  MeSH supp (Diseases) MeSH desc (Organisms) MeS...  \n",
       "4  MeSH supp (Diseases) MeSH desc (Organisms) MeS...  "
      ]
     },
     "execution_count": 156,
     "metadata": {},
     "output_type": "execute_result"
    }
   ],
   "source": [
    "def append_oger_ner(df, src_oger_path='./repoclinico/oger_tsv'):\n",
    "    fields=['TYPE', 'PREFERRED FORM', 'ENTITY ID', 'ORIGIN']\n",
    "    series = {k.replace(' ', '_').lower(): ['']*len(df) for k in fields}    \n",
    "    \n",
    "    for i, d in df.iterrows():\n",
    "        tmp = pd.read_csv(path.join(src_oger_path, d.txt_file.replace('.txt', '.oger.tsv')), sep='\\t' )\n",
    "        for f in fields:\n",
    "            if f in tmp:\n",
    "                series[f.replace(' ', '_').lower()][i] = ( ' '.join(list(tmp[f])) )\n",
    "            #series[f.replace(' ', '_')][i] = f    \n",
    "    \n",
    "    for k in series:\n",
    "        df[k] = series[k]\n",
    "        \n",
    "    return df\n",
    "\n",
    "df = append_oger_ner(df, src_oger_path='./repoclinico/oger_tsv')\n",
    "df.head()"
   ]
  },
  {
   "cell_type": "code",
   "execution_count": 157,
   "metadata": {
    "hidden": true
   },
   "outputs": [],
   "source": [
    "#df.to_pickle(path.join(destination_folder, 'df_merged.pkl'))\n",
    "df.to_pickle(path.join(destination_folder, 'df_merged.xz'))"
   ]
  },
  {
   "cell_type": "code",
   "execution_count": 138,
   "metadata": {
    "hidden": true
   },
   "outputs": [
    {
     "data": {
      "text/plain": [
       "['COVID-19 Coronavirus COVID-19 COVID-19 COVID-19 COVID-19 COVID-19 coenzyme M levothyroxine sodium anhydrous Therapeutic Uses Therapeutic Uses rhodopsin (rat) transcription termination factor Rho (Bacillus subtilis subsp. subtilis str. 168) transcription termination factor Rho (Escherichia coli K-12) rhodopsin (mouse) rhodopsin (cow) transcription termination factor Rho rhodopsin (chicken) rhodopsin protein rhomboid (fruit fly) Chloroacetanilide N-alkylformylase, oxygenase component rhodopsin (human) rhodopsin (zebrafish) RHO rho-Associated Kinases inhibitor Severe Acute Respiratory Syndrome Severe Acute Respiratory Syndrome severe acute respiratory syndrome coronavirus 2 COVID-19 Severe Acute Respiratory Syndrome Severe Acute Respiratory Syndrome severe acute respiratory syndrome coronavirus 2 serine--tRNA ligase, cytoplasmic (rat) HTH-type transcriptional regulator SarS (Staphylococcus aureus subsp. aureus NCTC 8325) serine--tRNA ligase, cytoplasmic (mouse) serine--tRNA ligase, cytoplasmic (human) serine--tRNA ligase, cytoplasmic (zebrafish) serine--tRNA ligase, cytoplasmic severe acute respiratory syndrome coronavirus 2 Coronavirus COVID-19 COVID-19 Disease Disease serine--tRNA ligase, cytoplasmic (rat) HTH-type transcriptional regulator SarS (Staphylococcus aureus subsp. aureus NCTC 8325) serine--tRNA ligase, cytoplasmic (mouse) serine--tRNA ligase, cytoplasmic (human) serine--tRNA ligase, cytoplasmic (zebrafish) serine--tRNA ligase, cytoplasmic severe acute respiratory syndrome coronavirus 2 RNA ribonucleic acid RNA obsolete RNA RNA Viruses Common Cold Common Cold Severe Acute Respiratory Syndrome Severe Acute Respiratory Syndrome serine--tRNA ligase, cytoplasmic (rat) HTH-type transcriptional regulator SarS (Staphylococcus aureus subsp. aureus NCTC 8325) serine--tRNA ligase, cytoplasmic (mouse) serine--tRNA ligase, cytoplasmic (human) serine--tRNA ligase, cytoplasmic (zebrafish) serine--tRNA ligase, cytoplasmic SARS Virus Coronavirus Infections Coronavirus Infections Middle East respiratory syndrome-related coronavirus Middle East Respiratory Syndrome Coronavirus serine--tRNA ligase, cytoplasmic (rat) HTH-type transcriptional regulator SarS (Staphylococcus aureus subsp. aureus NCTC 8325) serine--tRNA ligase, cytoplasmic (mouse) serine--tRNA ligase, cytoplasmic (human) serine--tRNA ligase, cytoplasmic (zebrafish) serine--tRNA ligase, cytoplasmic SARS Virus COVID-19 serine--tRNA ligase, cytoplasmic (rat) HTH-type transcriptional regulator SarS (Staphylococcus aureus subsp. aureus NCTC 8325) serine--tRNA ligase, cytoplasmic (mouse) serine--tRNA ligase, cytoplasmic (human) serine--tRNA ligase, cytoplasmic (zebrafish) serine--tRNA ligase, cytoplasmic SARS Virus Infections Infections Cough Cough Dyspnea Dyspnea respiratory gaseous exchange by respiratory system Pneumonia Pneumonia Severe Acute Respiratory Syndrome Severe Acute Respiratory Syndrome serine--tRNA ligase, cytoplasmic (rat) HTH-type transcriptional regulator SarS (Staphylococcus aureus subsp. aureus NCTC 8325) serine--tRNA ligase, cytoplasmic (mouse) serine--tRNA ligase, cytoplasmic (human) serine--tRNA ligase, cytoplasmic (zebrafish) serine--tRNA ligase, cytoplasmic Severe acute respiratory syndrome-related coronavirus Renal Insufficiency Renal Insufficiency COVID-19 pathogenesis Infections Infections serine--tRNA ligase, cytoplasmic (rat) HTH-type transcriptional regulator SarS (Staphylococcus aureus subsp. aureus NCTC 8325) serine--tRNA ligase, cytoplasmic (mouse) serine--tRNA ligase, cytoplasmic (human) serine--tRNA ligase, cytoplasmic (zebrafish) serine--tRNA ligase, cytoplasmic SARS Virus execution phase of apoptosis apoptotic process Fibrosis Fibrosis fusion lung biosynthetic process Cytokines Cytokines Antibodies Spike protein obsolete protein polypeptide protein (protein) viral nucleocapsid serine--tRNA ligase, cytoplasmic (rat) HTH-type transcriptional regulator SarS (Staphylococcus aureus subsp. aureus NCTC 8325) serine--tRNA ligase, cytoplasmic (mouse) serine--tRNA ligase, cytoplasmic (human) serine--tRNA ligase, cytoplasmic (zebrafish) serine--tRNA ligase, cytoplasmic severe acute respiratory syndrome coronavirus 2 rhodopsin (rat) transcription termination factor Rho (Bacillus subtilis subsp. subtilis str. 168) transcription termination factor Rho (Escherichia coli K-12) rhodopsin (mouse) rhodopsin (cow) transcription termination factor Rho rhodopsin (chicken) rhodopsin protein rhomboid (fruit fly) Chloroacetanilide N-alkylformylase, oxygenase component rhodopsin (human) rhodopsin (zebrafish) RHO signal transduction picloram Acute Lung Injury Acute Lung Injury lung Respiratory Distress Syndrome, Adult Respiratory Distress Syndrome, Adult rhodopsin (rat) transcription termination factor Rho (Bacillus subtilis subsp. subtilis str. 168) transcription termination factor Rho (Escherichia coli K-12) rhodopsin (mouse) rhodopsin (cow) transcription termination factor Rho rhodopsin (chicken) rhodopsin protein rhomboid (fruit fly) Chloroacetanilide N-alkylformylase, oxygenase component rhodopsin (human) rhodopsin (zebrafish) RHO rho-Associated Kinases inhibitor Ras-like GTP-binding protein rhoA (worm) GTP-binding protein RhoA transforming protein RhoA (mouse) transforming protein RhoA (rat) transforming protein RhoA (cow) transforming protein RhoA (human) GTP Phosphohydrolases 5KB_downstream_variant effector rhodopsin (rat) transcription termination factor Rho (Bacillus subtilis subsp. subtilis str. 168) transcription termination factor Rho (Escherichia coli K-12) rhodopsin (mouse) rhodopsin (cow) transcription termination factor Rho rhodopsin (chicken) rhodopsin protein rhomboid (fruit fly) Chloroacetanilide N-alkylformylase, oxygenase component rhodopsin (human) rhodopsin (zebrafish) RHO rho-Associated Kinases leukocyte leukocyte migration execution phase of apoptosis apoptotic process coagulation cell adhesion endothelium Edema Edema lung Lung Injury Lung Injury rhodopsin (rat) transcription termination factor Rho (Bacillus subtilis subsp. subtilis str. 168) transcription termination factor Rho (Escherichia coli K-12) rhodopsin (mouse) rhodopsin (cow) transcription termination factor Rho rhodopsin (chicken) rhodopsin protein rhomboid (fruit fly) Chloroacetanilide N-alkylformylase, oxygenase component rhodopsin (human) rhodopsin (zebrafish) RHO rho-Associated Kinases inhibitor fasudil fasudil lung Lung Injury Lung Injury rhodopsin (rat) transcription termination factor Rho (Bacillus subtilis subsp. subtilis str. 168) transcription termination factor Rho (Escherichia coli K-12) rhodopsin (mouse) rhodopsin (cow) transcription termination factor Rho rhodopsin (chicken) rhodopsin protein rhomboid (fruit fly) Chloroacetanilide N-alkylformylase, oxygenase component rhodopsin (human) rhodopsin (zebrafish) RHO rho-Associated Kinases inhibitor Pulmonary Fibrosis Pulmonary Fibrosis tumor necrosis factor ligand superfamily member 13 (mouse) obsolete peptidyl-dipeptidase A activity Angiotensin-converting enzyme 2 Angiotensin-converting enzyme 2 Angiotensin-converting enzyme 2 angiotensin-converting enzyme 2 Angiotensin-converting enzyme 2 Angiotensin-converting enzyme 2 Angiotensin-converting enzyme 2 Angiotensin-converting enzyme 2 angiotensin converting enzyme 2 angiotensin-converting enzyme 2 angiotensin-converting enzyme 2 (mouse) transcription factor bHLH74 (Arabidopsis thaliana) metallothionein expression activator (yeast) cell wall transcription factor ACE2 (Candida albicans SC5314) angiotensin-converting enzyme 2 (human) angiotensin-converting enzyme 2 (rat) metallothionein expression activator (Schizosaccharomyces pombe 972h-) serine--tRNA ligase, cytoplasmic (rat) HTH-type transcriptional regulator SarS (Staphylococcus aureus subsp. aureus NCTC 8325) serine--tRNA ligase, cytoplasmic (mouse) serine--tRNA ligase, cytoplasmic (human) serine--tRNA ligase, cytoplasmic (zebrafish) serine--tRNA ligase, cytoplasmic severe acute respiratory syndrome coronavirus 2 angiotensin-converting enzyme 2 angiotensin-converting enzyme 2 (mouse) transcription factor bHLH74 (Arabidopsis thaliana) metallothionein expression activator (yeast) cell wall transcription factor ACE2 (Candida albicans SC5314) angiotensin-converting enzyme 2 (human) angiotensin-converting enzyme 2 (rat) metallothionein expression activator (Schizosaccharomyces pombe 972h-) angiotensin II ANGIOTENSIN II Angiotensin II Ile(5)-angiotensin II Angiotensin II Ile(5)-angiotensin II dizwitterion angiotensin II Renin renin Renin Renin Renin Renin Renin Renin Renin Renin renin-angiotensin system Angiotensin angiotensin Ile(5)-angiotensin II Angiotensins Angiotensins Aldosterone aldosterone hemiacetal Aldosterone aldosterone angiotensin-converting enzyme 2 angiotensin-converting enzyme 2 (mouse) transcription factor bHLH74 (Arabidopsis thaliana) metallothionein expression activator (yeast) cell wall transcription factor ACE2 (Candida albicans SC5314) angiotensin-converting enzyme 2 (human) angiotensin-converting enzyme 2 (rat) metallothionein expression activator (Schizosaccharomyces pombe 972h-) angiotensin II ANGIOTENSIN II Angiotensin II Ile(5)-angiotensin II Angiotensin II Ile(5)-angiotensin II dizwitterion angiotensin II lung Lung Injury Lung Injury Hypertension Hypertension Spike protein polypeptide obsolete protein protein (protein) serine--tRNA ligase, cytoplasmic (rat) HTH-type transcriptional regulator SarS (Staphylococcus aureus subsp. aureus NCTC 8325) serine--tRNA ligase, cytoplasmic (mouse) serine--tRNA ligase, cytoplasmic (human) serine--tRNA ligase, cytoplasmic (zebrafish) serine--tRNA ligase, cytoplasmic severe acute respiratory syndrome coronavirus 2 fusion Humans polypeptide_binding_motif non_covalent_binding_site binding angiotensin-converting enzyme 2 angiotensin-converting enzyme 2 (mouse) transcription factor bHLH74 (Arabidopsis thaliana) metallothionein expression activator (yeast) cell wall transcription factor ACE2 (Candida albicans SC5314) angiotensin-converting enzyme 2 (human) angiotensin-converting enzyme 2 (rat) metallothionein expression activator (Schizosaccharomyces pombe 972h-) caspase-14 Caspase-14 Mice Mus sp. serine--tRNA ligase, cytoplasmic (rat) HTH-type transcriptional regulator SarS (Staphylococcus aureus subsp. aureus NCTC 8325) serine--tRNA ligase, cytoplasmic (mouse) serine--tRNA ligase, cytoplasmic (human) serine--tRNA ligase, cytoplasmic (zebrafish) serine--tRNA ligase, cytoplasmic SARS Virus angiotensin-converting enzyme 2 angiotensin-converting enzyme 2 (mouse) transcription factor bHLH74 (Arabidopsis thaliana) metallothionein expression activator (yeast) cell wall transcription factor ACE2 (Candida albicans SC5314) angiotensin-converting enzyme 2 (human) angiotensin-converting enzyme 2 (rat) metallothionein expression activator (Schizosaccharomyces pombe 972h-) polypeptide protein (protein) protein obsolete protein polypeptide_binding_motif non_covalent_binding_site binding Spike protein polypeptide protein (protein) obsolete protein lung Lung Injury Lung Injury angiotensin-converting enzyme 2 angiotensin-converting enzyme 2 (mouse) transcription factor bHLH74 (Arabidopsis thaliana) metallothionein expression activator (yeast) cell wall transcription factor ACE2 (Candida albicans SC5314) angiotensin-converting enzyme 2 (human) angiotensin-converting enzyme 2 (rat) metallothionein expression activator (Schizosaccharomyces pombe 972h-) polypeptide protein obsolete protein protein (protein) Mice Mus sp. caspase-14 Caspase-14 acid Sepsis Sepsis angiotensin-converting enzyme 2 angiotensin-converting enzyme 2 (mouse) transcription factor bHLH74 (Arabidopsis thaliana) metallothionein expression activator (yeast) cell wall transcription factor ACE2 (Candida albicans SC5314) angiotensin-converting enzyme 2 (human) angiotensin-converting enzyme 2 (rat) metallothionein expression activator (Schizosaccharomyces pombe 972h-) Severe Acute Respiratory Syndrome Severe Acute Respiratory Syndrome COVID-19 rhodopsin (rat) transcription termination factor Rho (Bacillus subtilis subsp. subtilis str. 168) transcription termination factor Rho (Escherichia coli K-12) rhodopsin (mouse) rhodopsin (cow) transcription termination factor Rho rhodopsin (chicken) rhodopsin protein rhomboid (fruit fly) Chloroacetanilide N-alkylformylase, oxygenase component rhodopsin (human) rhodopsin (zebrafish) RHO rho-Associated Kinases inhibitor vertebral bone 2 angiotensin-converting enzyme 2 angiotensin-converting enzyme 2 (mouse) transcription factor bHLH74 (Arabidopsis thaliana) metallothionein expression activator (yeast) cell wall transcription factor ACE2 (Candida albicans SC5314) angiotensin-converting enzyme 2 (human) angiotensin-converting enzyme 2 (rat) metallothionein expression activator (Schizosaccharomyces pombe 972h-) fasudil fasudil angiotensin-converting enzyme 2 angiotensin-converting enzyme 2 (mouse) transcription factor bHLH74 (Arabidopsis thaliana) metallothionein expression activator (yeast) cell wall transcription factor ACE2 (Candida albicans SC5314) angiotensin-converting enzyme 2 (human) angiotensin-converting enzyme 2 (rat) metallothionein expression activator (Schizosaccharomyces pombe 972h-) Hypertension Hypertension Y 27632 Y 27632 Y-27632 fasudil fasudil rhodopsin (rat) transcription termination factor Rho (Bacillus subtilis subsp. subtilis str. 168) transcription termination factor Rho (Escherichia coli K-12) rhodopsin (mouse) rhodopsin (cow) transcription termination factor Rho rhodopsin (chicken) rhodopsin protein rhomboid (fruit fly) Chloroacetanilide N-alkylformylase, oxygenase component rhodopsin (human) rhodopsin (zebrafish) RHO rho-Associated Kinases inhibitor angiotensin-converting enzyme 2 angiotensin-converting enzyme 2 (mouse) transcription factor bHLH74 (Arabidopsis thaliana) metallothionein expression activator (yeast) cell wall transcription factor ACE2 (Candida albicans SC5314) angiotensin-converting enzyme 2 (human) angiotensin-converting enzyme 2 (rat) metallothionein expression activator (Schizosaccharomyces pombe 972h-) Rattus norvegicus Rats (rat) HTH-type transcriptional regulator MgrA (Staphylococcus aureus subsp. aureus NCTC 8325) transmembrane protease serine 11D (rat) pulmonary artery angiotensin-converting enzyme 2 angiotensin-converting enzyme 2 (mouse) transcription factor bHLH74 (Arabidopsis thaliana) metallothionein expression activator (yeast) cell wall transcription factor ACE2 (Candida albicans SC5314) angiotensin-converting enzyme 2 (human) angiotensin-converting enzyme 2 (rat) metallothionein expression activator (Schizosaccharomyces pombe 972h-) Pulmonary Embolism Pulmonary Embolism Rattus norvegicus Rats (rat) HTH-type transcriptional regulator MgrA (Staphylococcus aureus subsp. aureus NCTC 8325) transmembrane protease serine 11D (rat) rhodopsin (rat) transcription termination factor Rho (Bacillus subtilis subsp. subtilis str. 168) transcription termination factor Rho (Escherichia coli K-12) rhodopsin (mouse) rhodopsin (cow) transcription termination factor Rho rhodopsin (chicken) rhodopsin protein rhomboid (fruit fly) Chloroacetanilide N-alkylformylase, oxygenase component rhodopsin (human) rhodopsin (zebrafish) RHO rho-Associated Kinases inhibitor COVID-19 rhodopsin (rat) transcription termination factor Rho (Bacillus subtilis subsp. subtilis str. 168) transcription termination factor Rho (Escherichia coli K-12) rhodopsin (mouse) rhodopsin (cow) transcription termination factor Rho rhodopsin (chicken) rhodopsin protein rhomboid (fruit fly) Chloroacetanilide N-alkylformylase, oxygenase component rhodopsin (human) rhodopsin (zebrafish) RHO rho-Associated Kinases inhibitor COVID-19 immune system Immune System Diseases Immune System Diseases proximo-distal subdivision of respiratory tract respiratory tract Respiratory Tract Diseases Respiratory Tract Diseases angiotensin-converting enzyme 2 angiotensin-converting enzyme 2 (mouse) transcription factor bHLH74 (Arabidopsis thaliana) metallothionein expression activator (yeast) cell wall transcription factor ACE2 (Candida albicans SC5314) angiotensin-converting enzyme 2 (human) angiotensin-converting enzyme 2 (rat) metallothionein expression activator (Schizosaccharomyces pombe 972h-) rhodopsin (rat) transcription termination factor Rho (Bacillus subtilis subsp. subtilis str. 168) transcription termination factor Rho (Escherichia coli K-12) rhodopsin (mouse) rhodopsin (cow) transcription termination factor Rho rhodopsin (chicken) rhodopsin protein rhomboid (fruit fly) Chloroacetanilide N-alkylformylase, oxygenase component rhodopsin (human) rhodopsin (zebrafish) RHO rho-Associated Kinases inhibitor lung tissue rhodopsin (rat) transcription termination factor Rho (Bacillus subtilis subsp. subtilis str. 168) transcription termination factor Rho (Escherichia coli K-12) rhodopsin (mouse) rhodopsin (cow) transcription termination factor Rho rhodopsin (chicken) rhodopsin protein rhomboid (fruit fly) Chloroacetanilide N-alkylformylase, oxygenase component rhodopsin (human) rhodopsin (zebrafish) RHO rho-Associated Kinases inhibitor serine--tRNA ligase, cytoplasmic (rat) HTH-type transcriptional regulator SarS (Staphylococcus aureus subsp. aureus NCTC 8325) serine--tRNA ligase, cytoplasmic (mouse) serine--tRNA ligase, cytoplasmic (human) serine--tRNA ligase, cytoplasmic (zebrafish) serine--tRNA ligase, cytoplasmic severe acute respiratory syndrome coronavirus 2 COVID-19 levothyroxine sodium anhydrous rhodopsin (rat) transcription termination factor Rho (Bacillus subtilis subsp. subtilis str. 168) transcription termination factor Rho (Escherichia coli K-12) rhodopsin (mouse) rhodopsin (cow) transcription termination factor Rho rhodopsin (chicken) rhodopsin protein rhomboid (fruit fly) Chloroacetanilide N-alkylformylase, oxygenase component rhodopsin (human) rhodopsin (zebrafish) RHO rho-Associated Kinases inhibitor serine--tRNA ligase, cytoplasmic (rat) HTH-type transcriptional regulator SarS (Staphylococcus aureus subsp. aureus NCTC 8325) serine--tRNA ligase, cytoplasmic (mouse) serine--tRNA ligase, cytoplasmic (human) serine--tRNA ligase, cytoplasmic (zebrafish) serine--tRNA ligase, cytoplasmic severe acute respiratory syndrome coronavirus 2 signaling Renin renin Renin Renin Renin Renin Renin Renin Renin Renin renin-angiotensin system Angiotensin angiotensin Ile(5)-angiotensin II Angiotensins Angiotensins obsolete peptidyl-dipeptidase A activity Angiotensin-converting enzyme 2 Angiotensin-converting enzyme 2 Angiotensin-converting enzyme 2 angiotensin-converting enzyme 2 Angiotensin-converting enzyme 2 Angiotensin-converting enzyme 2 Angiotensin-converting enzyme 2 Angiotensin-converting enzyme 2 angiotensin converting enzyme 2 Pulmonary Embolism Pulmonary Embolism Thrombosis Thrombosis Severe Acute Respiratory Syndrome Severe Acute Respiratory Syndrome severe acute respiratory syndrome coronavirus 2 serine--tRNA ligase, cytoplasmic (rat) HTH-type transcriptional regulator SarS (Staphylococcus aureus subsp. aureus NCTC 8325) serine--tRNA ligase, cytoplasmic (mouse) serine--tRNA ligase, cytoplasmic (human) serine--tRNA ligase, cytoplasmic (zebrafish) serine--tRNA ligase, cytoplasmic severe acute respiratory syndrome coronavirus 2 Virus Diseases Virus Diseases COVID-19 Anti-Infective Agents antimicrobial agent Anti-Infective Agents Severe Acute Respiratory Syndrome Severe Acute Respiratory Syndrome serine--tRNA ligase, cytoplasmic (rat) HTH-type transcriptional regulator SarS (Staphylococcus aureus subsp. aureus NCTC 8325) serine--tRNA ligase, cytoplasmic (mouse) serine--tRNA ligase, cytoplasmic (human) serine--tRNA ligase, cytoplasmic (zebrafish) serine--tRNA ligase, cytoplasmic Severe acute respiratory syndrome-related coronavirus Arthritis, Reactive Arthritis, Reactive Acute Lung Injury Acute Lung Injury rhodopsin (rat) transcription termination factor Rho (Bacillus subtilis subsp. subtilis str. 168) transcription termination factor Rho (Escherichia coli K-12) rhodopsin (mouse) rhodopsin (cow) transcription termination factor Rho rhodopsin (chicken) rhodopsin protein rhomboid (fruit fly) Chloroacetanilide N-alkylformylase, oxygenase component rhodopsin (human) rhodopsin (zebrafish) RHO rho-Associated Kinases inhibitor signal recognition particle 43 kDa protein, chloroplastic (Arabidopsis thaliana) chlorophyllide a oxygenase, chloroplastic (Arabidopsis thaliana) Wan-BL metalloproteinase inhibitor 3 metalloproteinase inhibitor 3 (mouse) Coronavirus severe acute respiratory syndrome coronavirus 2 serine--tRNA ligase, cytoplasmic (rat) HTH-type transcriptional regulator SarS (Staphylococcus aureus subsp. aureus NCTC 8325) serine--tRNA ligase, cytoplasmic (mouse) serine--tRNA ligase, cytoplasmic (human) serine--tRNA ligase, cytoplasmic (zebrafish) serine--tRNA ligase, cytoplasmic severe acute respiratory syndrome coronavirus 2 angiotensin-converting enzyme 2 angiotensin-converting enzyme 2 (mouse) transcription factor bHLH74 (Arabidopsis thaliana) metallothionein expression activator (yeast) cell wall transcription factor ACE2 (Candida albicans SC5314) angiotensin-converting enzyme 2 (human) angiotensin-converting enzyme 2 (rat) metallothionein expression activator (Schizosaccharomyces pombe 972h-) obsolete peptidyl-dipeptidase A activity Angiotensin-converting enzyme 2 Angiotensin-converting enzyme 2 Angiotensin-converting enzyme 2 angiotensin-converting enzyme 2 Angiotensin-converting enzyme 2 Angiotensin-converting enzyme 2 Angiotensin-converting enzyme 2 Angiotensin-converting enzyme 2 angiotensin converting enzyme 2 angiotensin-converting enzyme 2 angiotensin-converting enzyme 2 (mouse) transcription factor bHLH74 (Arabidopsis thaliana) metallothionein expression activator (yeast) cell wall transcription factor ACE2 (Candida albicans SC5314) angiotensin-converting enzyme 2 (human) angiotensin-converting enzyme 2 (rat) metallothionein expression activator (Schizosaccharomyces pombe 972h-) serine--tRNA ligase, cytoplasmic (rat) HTH-type transcriptional regulator SarS (Staphylococcus aureus subsp. aureus NCTC 8325) serine--tRNA ligase, cytoplasmic (mouse) serine--tRNA ligase, cytoplasmic (human) serine--tRNA ligase, cytoplasmic (zebrafish) serine--tRNA ligase, cytoplasmic severe acute respiratory syndrome coronavirus 2 dynamin (fruit fly) myelin basic protein Delta-stichotoxin-She1a protein SHORT INTERNODES (Arabidopsis thaliana) myelin basic protein (mouse) Ras-like GTP-binding protein rhoA (worm) GTP-binding protein RhoA transforming protein RhoA (mouse) transforming protein RhoA (rat) transforming protein RhoA (cow) transforming protein RhoA (human) rhodopsin (rat) transcription termination factor Rho (Bacillus subtilis subsp. subtilis str. 168) transcription termination factor Rho (Escherichia coli K-12) rhodopsin (mouse) rhodopsin (cow) transcription termination factor Rho rhodopsin (chicken) rhodopsin protein rhomboid (fruit fly) Chloroacetanilide N-alkylformylase, oxygenase component rhodopsin (human) rhodopsin (zebrafish) RHO pharmaceutical UtE-iPS-1 pharmaceutical Neurogenic Inflammation Neurogenic Inflammation inflammatory response UtE-iPS-1 pharmaceutical UtE-iPS-1 pharmaceutical']"
      ]
     },
     "execution_count": 138,
     "metadata": {},
     "output_type": "execute_result"
    }
   ],
   "source": [
    "list(tmp_df[:1].PREFERRED_FORM)"
   ]
  },
  {
   "cell_type": "code",
   "execution_count": 28,
   "metadata": {
    "hidden": true
   },
   "outputs": [
    {
     "name": "stdout",
     "output_type": "stream",
     "text": [
      "\n",
      "-------- cls_speciality ---------\n",
      "36 with # examples --> 269\n",
      "Counter({'1': 41, '27': 23, '36': 22, '33': 18, '25': 17, '9': 15, '37': 14, '17': 11, '30': 11, '15': 8, '8': 7, '21': 7, '12': 6, '24': 6, '13': 6, '14': 5, '20': 5, '32': 5, '29': 5, '18': 4, '19': 4, '41': 4, '39': 3, '40': 3, '34': 3, '38': 2, '31': 2, '16': 2, '35': 2, '12,9': 2, '25,9': 1, '19,20': 1, '17,18': 1, '8,8,9': 1, '25,27': 1, '24,9': 1})\n",
      "\n",
      "-------- cls_type ---------\n",
      "6 with # examples --> 269\n",
      "Counter({3.0: 163, 2.0: 54, 7.0: 31, 11.0: 10, 10.0: 9, 22.0: 2})\n",
      "\n",
      "-------- cls_topic ---------\n",
      "16 with # examples --> 383\n",
      "Counter({'26': 105, '4': 76, '51': 56, '28': 43, '45': 29, '6': 23, '42': 23, '43': 15, '70': 3, '46': 3, '28,26': 2, '45,43': 1, '42,43': 1, '51,43': 1, '28,4': 1, '72': 1})\n",
      "\n",
      "-------- cls_subtopic ---------\n",
      "27 with # examples --> 161\n",
      "Counter({3.0: 66, 55.0: 15, 52.0: 10, 63.0: 9, 47.0: 9, 23.0: 8, 64.0: 7, 69.0: 4, 71.0: 4, 5.0: 3, 48.0: 3, 66.0: 3, 62.0: 3, 54.0: 2, 61.0: 2, 57.0: 2, 50.0: 1, 68.0: 1, 67.0: 1, 56.0: 1, 58.0: 1, 44.0: 1, 49.0: 1, 59.0: 1, 60.0: 1, 53.0: 1, 65.0: 1})\n"
     ]
    }
   ],
   "source": [
    "def analyze_per_classification(df, field):\n",
    "#df[df.abstract.notnull()]\n",
    "    print(f\"\\n-------- {field} ---------\")\n",
    "    labels = Counter(df[field][df[field].notnull()])\n",
    "    print(f\"{len(labels)} with # examples --> {len(df[field][df[field].notnull()])}\")\n",
    "    print(labels)\n",
    "\n",
    "\n",
    "analyze_per_classification(df, 'cls_speciality')\n",
    "analyze_per_classification(df, 'cls_type')\n",
    "analyze_per_classification(df, 'cls_topic')\n",
    "analyze_per_classification(df, 'cls_subtopic')"
   ]
  },
  {
   "cell_type": "markdown",
   "metadata": {},
   "source": [
    "# Experiments"
   ]
  },
  {
   "cell_type": "markdown",
   "metadata": {
    "heading_collapsed": true
   },
   "source": [
    "## Classification AXIS => *cls_type*"
   ]
  },
  {
   "cell_type": "code",
   "execution_count": 10,
   "metadata": {
    "hidden": true
   },
   "outputs": [],
   "source": [
    "cls_field = \"cls_type\""
   ]
  },
  {
   "cell_type": "code",
   "execution_count": 89,
   "metadata": {
    "hidden": true
   },
   "outputs": [
    {
     "name": "stdout",
     "output_type": "stream",
     "text": [
      "Train:216 (80.30%), Test:53 (19.70%)\n",
      "-----------\n",
      "    cls  examples percentage\n",
      "5  22.0         2       0.93\n",
      "4  10.0         7       3.24\n",
      "3  11.0         8       3.70\n",
      "2   7.0        25      11.57\n",
      "1   2.0        43      19.91\n",
      "0   3.0       131      60.65\n",
      "-----------\n",
      "    cls  examples percentage\n",
      "3  10.0         2       3.77\n",
      "4  11.0         2       3.77\n",
      "2   7.0         6      11.32\n",
      "1   2.0        11      20.75\n",
      "0   3.0        32      60.38\n"
     ]
    }
   ],
   "source": [
    "df_train, df_test = split_train_val_test(df[df[cls_field].notnull()], test=0.2, val=0.0, stratisfy_field=cls_field)"
   ]
  },
  {
   "cell_type": "markdown",
   "metadata": {
    "heading_collapsed": true
   },
   "source": [
    "## Transformations & features"
   ]
  },
  {
   "cell_type": "markdown",
   "metadata": {
    "heading_collapsed": true,
    "hidden": true
   },
   "source": [
    "### Custom transformers"
   ]
  },
  {
   "cell_type": "code",
   "execution_count": 12,
   "metadata": {
    "hidden": true
   },
   "outputs": [],
   "source": [
    "from sklearn.base import BaseEstimator, TransformerMixin\n",
    "from sklearn.preprocessing import OneHotEncoder\n",
    "from sklearn.exceptions import NotFittedError\n",
    "\n",
    "from sklearn.feature_extraction.text import CountVectorizer, TfidfVectorizer, TfidfTransformer\n",
    "from sklearn.decomposition import TruncatedSVD\n",
    "from sklearn.svm import SVC\n",
    "\n",
    "tf_idf = Pipeline([ (\"vect\", CountVectorizer()), (\"tfidf\", TfidfTransformer()) ])\n",
    "tfidf_vectorizer  = TfidfVectorizer()"
   ]
  },
  {
   "cell_type": "code",
   "execution_count": 131,
   "metadata": {
    "hidden": true
   },
   "outputs": [],
   "source": [
    "class ItemSelector(BaseEstimator, TransformerMixin):\n",
    "    \"\"\"For data grouped by feature, select subset of data at a provided key.\n",
    "\n",
    "    ItemSelector is not designed to handle data grouped by sample.  (e.g. a\n",
    "    list of dicts).  If your data is structured this way, consider a\n",
    "    transformer along the lines of `sklearn.feature_extraction.DictVectorizer`.\n",
    "\n",
    "    Parameters\n",
    "    ----------\n",
    "    key : hashable, required\n",
    "        The key corresponding to the desired value in a mappable.\n",
    "    \"\"\"\n",
    "    def __init__(self, key):\n",
    "        self.key = key\n",
    "\n",
    "    def fit(self, x, y=None):\n",
    "        return self\n",
    "\n",
    "    def transform(self, data_dict):\n",
    "        return data_dict[self.key]\n",
    "\n",
    "    \n",
    "class CategoricalImputer(BaseEstimator, TransformerMixin):\n",
    "    '''Replace missing values in categorial fields with \"Missing\" '''\n",
    "    def __init__(self, variables=None, replace_value='Missing'):\n",
    "        #Check if the variables passed are in a list format, if not convert \n",
    "        #to list format and assign it to self.variables to be used in later \n",
    "        #methods\n",
    "        self.replace_value=replace_value\n",
    "        if not isinstance(variables,list):\n",
    "            self.variables = [variables]\n",
    "        else:\n",
    "            self.variables = variables\n",
    "    \n",
    "    def fit(self, X:pd.DataFrame,y:pd.Series=None):\n",
    "        #Nothing to do here, just return the dataframe as is\n",
    "        return self\n",
    "    \n",
    "    def transform(self, X:pd.DataFrame):\n",
    "        #Fill missing values and return the modified dataframe\n",
    "        X=X.copy()\n",
    "        for feature in self.variables:\n",
    "            X[feature] = X[feature].fillna(self.replace_value)\n",
    "        return X\n",
    "    "
   ]
  },
  {
   "cell_type": "code",
   "execution_count": 132,
   "metadata": {
    "hidden": true
   },
   "outputs": [],
   "source": [
    "#categoricalImputer = CategoricalImputer('cls_type', replace_value=0)\n",
    "#categoricalImputer.transform(df)\n",
    "#OneHotEncoder(handle_unknown='ignore').fit_transform(df.type)\n",
    "# tfidf_vectorizer example\n",
    "#tmp = tfidf_vectorizer.fit_transform(df.type)\n",
    "#print(tfidf_vectorizer.vocabulary_)"
   ]
  },
  {
   "cell_type": "markdown",
   "metadata": {
    "heading_collapsed": true,
    "hidden": true
   },
   "source": [
    "### Features"
   ]
  },
  {
   "cell_type": "code",
   "execution_count": 56,
   "metadata": {
    "hidden": true
   },
   "outputs": [],
   "source": [
    "feature_list=[\n",
    "\n",
    "    # TF-IDF title\n",
    "    ('title_tfidf', Pipeline([\n",
    "        ('selector', ItemSelector(key='title')),\n",
    "        ('tfidf', TfidfVectorizer(min_df=1)),\n",
    "    ])),\n",
    "\n",
    "    # TF-IDF type\n",
    "    ('type_tfidf', Pipeline([\n",
    "        ('selector', ItemSelector(key='type')),\n",
    "        ('tfidf', TfidfVectorizer(min_df=1)),\n",
    "    ])),\n",
    "\n",
    "    # TF-IDF OGER_preferred-form\n",
    "    ('pf_tfidf', Pipeline([\n",
    "        ('selector', ItemSelector(key='preferred_form')),\n",
    "        ('tfidf', TfidfVectorizer(min_df=1)),\n",
    "    ])),\n",
    "\n",
    "    # BOW (~LSA) OGER_preferred-form\n",
    "    ('pf_bow', Pipeline([\n",
    "        ('selector', ItemSelector(key='preferred_form')),\n",
    "        ('tfidf', TfidfVectorizer()),\n",
    "        ('best', TruncatedSVD(n_components=100)),\n",
    "    ])),\n",
    "    \n",
    "    # TF-IDF OGER_entity-id\n",
    "    ('entityid_tfidf', Pipeline([\n",
    "        ('selector', ItemSelector(key='entity_id')),\n",
    "        ('tfidf', TfidfVectorizer(min_df=1)),\n",
    "    ])),            \n",
    "\n",
    "    # TF-IDF OGER_origin\n",
    "    ('origin_tfidf', Pipeline([\n",
    "        ('selector', ItemSelector(key='origin')),\n",
    "        ('tfidf', TfidfVectorizer(min_df=1)),\n",
    "    ])),  \n",
    "\n",
    "    # Pipeline for standard bag-of-words model for body\n",
    "    ('text_bow', Pipeline([\n",
    "        ('selector', ItemSelector(key='full_text')),\n",
    "        ('tfidf', TfidfVectorizer()),\n",
    "        ('best', TruncatedSVD(n_components=300)),\n",
    "    ]))            \n",
    "            \n",
    "]"
   ]
  },
  {
   "cell_type": "markdown",
   "metadata": {},
   "source": [
    "## Strategies"
   ]
  },
  {
   "cell_type": "code",
   "execution_count": 14,
   "metadata": {},
   "outputs": [],
   "source": [
    "strategies = {}"
   ]
  },
  {
   "cell_type": "code",
   "execution_count": 15,
   "metadata": {},
   "outputs": [],
   "source": [
    "strategies_rs = []"
   ]
  },
  {
   "cell_type": "markdown",
   "metadata": {
    "heading_collapsed": true
   },
   "source": [
    "### Code"
   ]
  },
  {
   "cell_type": "code",
   "execution_count": 90,
   "metadata": {
    "hidden": true
   },
   "outputs": [],
   "source": [
    "# Title(tfidf) + SVC\n",
    "strategies['title(tfidf)::SVC'] = Pipeline([('union', FeatureUnion(\n",
    "        transformer_list=[\n",
    "            # TF-IDF title\n",
    "            ('title_tfidf', Pipeline([\n",
    "                ('selector', ItemSelector(key='title')),\n",
    "                ('tfidf', tf_idf),\n",
    "            ])),                    \n",
    "        ],\n",
    "    \n",
    "    )),\n",
    "    # Use a SVC classifier on the combined features\n",
    "    ('svc', svm.LinearSVC(C=1.0, class_weight=\"balanced\"))    \n",
    "                                            \n",
    "])"
   ]
  },
  {
   "cell_type": "code",
   "execution_count": 330,
   "metadata": {
    "hidden": true
   },
   "outputs": [],
   "source": [
    "# Title + OGER-type + SVC\n",
    "strategies['title(tfidf)_oger-type(tfidf)::SVC'] = Pipeline([('union', FeatureUnion(\n",
    "        transformer_list=[\n",
    "\n",
    "            # TF-IDF title\n",
    "            ('title_tfidf', Pipeline([\n",
    "                ('selector', ItemSelector(key='title')),\n",
    "                ('tfidf', TfidfVectorizer(min_df=1)),\n",
    "            ])),\n",
    "            \n",
    "            # TF-IDF type\n",
    "            ('type_tfidf', Pipeline([\n",
    "                ('selector', ItemSelector(key='type')),\n",
    "                ('tfidf', TfidfVectorizer(min_df=1)),\n",
    "            ]))\n",
    "            \n",
    "        ],  \n",
    "    \n",
    "    )),\n",
    "    # Use a SVC classifier on the combined features\n",
    "    #('svc', SVC(kernel='linear'))\n",
    "    ('svc', svm.LinearSVC(C=1.0, class_weight=\"balanced\"))    \n",
    "                     \n",
    "    ])"
   ]
  },
  {
   "cell_type": "code",
   "execution_count": 332,
   "metadata": {
    "hidden": true
   },
   "outputs": [],
   "source": [
    "# Title(tfidf) + OGER-type(tfidf) + text(LSA) + SVC\n",
    "strategies['title(tfidf)_oger-type(tfidf)_text(lsa)::SVC'] = Pipeline([('union', FeatureUnion(\n",
    "        transformer_list=[\n",
    "\n",
    "            # TF-IDF title\n",
    "            ('title_tfidf', Pipeline([\n",
    "                ('selector', ItemSelector(key='title')),\n",
    "                ('tfidf', TfidfVectorizer(min_df=1)),\n",
    "            ])),\n",
    "            \n",
    "            # TF-IDF type\n",
    "            ('type_tfidf', Pipeline([\n",
    "                ('selector', ItemSelector(key='type')),\n",
    "                ('tfidf', TfidfVectorizer(min_df=1)),\n",
    "            ])),\n",
    "\n",
    "            # Pipeline for standard bag-of-words model for body\n",
    "            ('text_bow', Pipeline([\n",
    "                ('selector', ItemSelector(key='full_text')),\n",
    "                ('tfidf', TfidfVectorizer()),\n",
    "                ('best', TruncatedSVD(n_components=50)),\n",
    "            ]))\n",
    "            \n",
    "        ],\n",
    "    \n",
    "        # weight components in FeatureUnion\n",
    "        #transformer_weights={\n",
    "        #    'title_tfidf': 0.8,\n",
    "        #    'type_tfidf': 0.5,\n",
    "        #    'text_bow': 1.0,\n",
    "        #},    \n",
    "    \n",
    "    )),\n",
    "    # Use a SVC classifier on the combined features\n",
    "    #('svc', SVC(kernel='linear'))\n",
    "    ('svc', svm.LinearSVC(C=1.0, class_weight=\"balanced\"))    \n",
    "                     \n",
    "    ])"
   ]
  },
  {
   "cell_type": "code",
   "execution_count": 342,
   "metadata": {
    "hidden": true
   },
   "outputs": [],
   "source": [
    "# Title(tfidf) + OGER-type(tfidf) + OGER-Preferred-Form(tfidf) + OGER-entity-id(tfidf) + SVC\n",
    "strategies['title(tfidf)_oger-type(tfidf)_oger-pf(tfidf)_oger-entityid(tfidf)::SVC'] = Pipeline([('union', FeatureUnion(\n",
    "        transformer_list=[\n",
    "\n",
    "            # TF-IDF title\n",
    "            ('title_tfidf', Pipeline([\n",
    "                ('selector', ItemSelector(key='title')),\n",
    "                ('tfidf', TfidfVectorizer(min_df=1)),\n",
    "            ])),\n",
    "            \n",
    "            # TF-IDF type\n",
    "            ('type_tfidf', Pipeline([\n",
    "                ('selector', ItemSelector(key='type')),\n",
    "                ('tfidf', TfidfVectorizer(min_df=1)),\n",
    "            ])),\n",
    "\n",
    "            # TF-IDF OGER_preferred-form\n",
    "            ('pf_tfidf', Pipeline([\n",
    "                ('selector', ItemSelector(key='preferred_form')),\n",
    "                ('tfidf', TfidfVectorizer(min_df=1)),\n",
    "            ])),\n",
    "            \n",
    "            # TF-IDF OGER_entity-id\n",
    "            ('entityid_tfidf', Pipeline([\n",
    "                ('selector', ItemSelector(key='entity_id')),\n",
    "                ('tfidf', TfidfVectorizer(min_df=1)),\n",
    "            ])),            \n",
    "            \n",
    "        ],\n",
    "    \n",
    "    \n",
    "    )),\n",
    "    # Use a SVC classifier on the combined features\n",
    "    ('svc', svm.LinearSVC(C=1.0, class_weight=\"balanced\"))    \n",
    "                     \n",
    "    ])"
   ]
  },
  {
   "cell_type": "code",
   "execution_count": 339,
   "metadata": {
    "hidden": true
   },
   "outputs": [],
   "source": [
    "# Title(tfidf) + OGER-type(tfidf) + OGER-Preferred-Form(tfidf) + SVC\n",
    "strategies['title(tfidf)_oger-type(tfidf)_oger-pf(tfidf)::SVC'] = Pipeline([('union', FeatureUnion(\n",
    "        transformer_list=[\n",
    "\n",
    "            # TF-IDF title\n",
    "            ('title_tfidf', Pipeline([\n",
    "                ('selector', ItemSelector(key='title')),\n",
    "                ('tfidf', TfidfVectorizer(min_df=1)),\n",
    "            ])),\n",
    "            \n",
    "            # TF-IDF type\n",
    "            ('type_tfidf', Pipeline([\n",
    "                ('selector', ItemSelector(key='type')),\n",
    "                ('tfidf', TfidfVectorizer(min_df=1)),\n",
    "            ])),\n",
    "\n",
    "            # TF-IDF OGER_preferred-form\n",
    "            ('pf_tfidf', Pipeline([\n",
    "                ('selector', ItemSelector(key='preferred_form')),\n",
    "                ('tfidf', TfidfVectorizer(min_df=1)),\n",
    "            ])),\n",
    "            \n",
    "        ],\n",
    "    \n",
    "    \n",
    "    )),\n",
    "    # Use a SVC classifier on the combined features\n",
    "    ('svc', svm.LinearSVC(C=1.0, class_weight=\"balanced\"))    \n",
    "                     \n",
    "    ])"
   ]
  },
  {
   "cell_type": "code",
   "execution_count": 346,
   "metadata": {
    "hidden": true
   },
   "outputs": [],
   "source": [
    "# Title(tfidf) + OGER-type(tfidf) + OGER-entity-id(tfidf) + SVC\n",
    "strategies['title(tfidf)_oger-type(tfidf)_oger-entityid(tfidf)::SVC'] = Pipeline([('union', FeatureUnion(\n",
    "        transformer_list=[\n",
    "\n",
    "            # TF-IDF title\n",
    "            ('title_tfidf', Pipeline([\n",
    "                ('selector', ItemSelector(key='title')),\n",
    "                ('tfidf', TfidfVectorizer(min_df=1)),\n",
    "            ])),\n",
    "            \n",
    "            # TF-IDF type\n",
    "            ('type_tfidf', Pipeline([\n",
    "                ('selector', ItemSelector(key='type')),\n",
    "                ('tfidf', TfidfVectorizer(min_df=1)),\n",
    "            ])),\n",
    "            \n",
    "            # TF-IDF OGER_entity-id\n",
    "            ('entityid_tfidf', Pipeline([\n",
    "                ('selector', ItemSelector(key='entity_id')),\n",
    "                ('tfidf', TfidfVectorizer(min_df=1)),\n",
    "            ])),            \n",
    "            \n",
    "        ],\n",
    "    \n",
    "    \n",
    "    )),\n",
    "    # Use a SVC classifier on the combined features\n",
    "    ('svc', svm.LinearSVC(C=1.0, class_weight=\"balanced\"))    \n",
    "                     \n",
    "    ])"
   ]
  },
  {
   "cell_type": "code",
   "execution_count": 402,
   "metadata": {
    "hidden": true
   },
   "outputs": [],
   "source": [
    "strategies['title(tfidf)_oger-entityid(tfidf)::SVC'] = Pipeline(steps=[('features',\n",
    "                 FeatureUnion(transformer_list=[('title_tfidf',\n",
    "                                                 Pipeline(steps=[('selector',\n",
    "                                                                  ItemSelector(key='title')),\n",
    "                                                                 ('tfidf',\n",
    "                                                                  TfidfVectorizer())])),\n",
    "                                                ('entityid_tfidf',\n",
    "                                                 Pipeline(steps=[('selector',\n",
    "                                                                  ItemSelector(key='entity_id')),\n",
    "                                                                 ('tfidf',\n",
    "                                                                  TfidfVectorizer())]))])),\n",
    "                ('svc', svm.LinearSVC(class_weight='balanced'))])\n"
   ]
  },
  {
   "cell_type": "markdown",
   "metadata": {},
   "source": [
    "### Strategies evaluation"
   ]
  },
  {
   "cell_type": "code",
   "execution_count": null,
   "metadata": {},
   "outputs": [],
   "source": [
    "%%time\n",
    "for kname, strategy in strategies.items():\n",
    "    if not kname in [s['strategy'] for s in strategies_rs]:\n",
    "        print(f\"==== Evaluating: {kname} ====\")\n",
    "        f1_macro, f1_micro, accuracy = evaluate_pipeline(strategy, df_train, df_test, cls_field, display=False)\n",
    "        strategies_rs.append({'strategy': kname, 'f1-macro': f1_macro, 'f1-micro': f1_micro, 'accuracy': accuracy})\n",
    "    \n",
    "rs = pd.DataFrame(strategies_rs)\n",
    "display(rs)"
   ]
  },
  {
   "cell_type": "code",
   "execution_count": 344,
   "metadata": {},
   "outputs": [
    {
     "name": "stdout",
     "output_type": "stream",
     "text": [
      "              precision    recall  f1-score   support\n",
      "\n",
      "         2.0     0.7500    0.8182    0.7826        11\n",
      "         3.0     0.7097    0.6875    0.6984        32\n",
      "         7.0     0.1429    0.1667    0.1538         6\n",
      "        10.0     1.0000    0.5000    0.6667         2\n",
      "        11.0     0.0000    0.0000    0.0000         2\n",
      "\n",
      "    accuracy                         0.6226        53\n",
      "   macro avg     0.5205    0.4345    0.4603        53\n",
      "weighted avg     0.6381    0.6226    0.6267        53\n",
      "\n"
     ]
    },
    {
     "data": {
      "image/png": "[encoded data removed]",
      "text/plain": [
       "<Figure size 864x720 with 1 Axes>"
      ]
     },
     "metadata": {
      "needs_background": "light"
     },
     "output_type": "display_data"
    }
   ],
   "source": [
    "evaluate_pipeline(strategies['title(tfidf)::SVC'], df_train, df_test, cls_field, display=True)"
   ]
  },
  {
   "cell_type": "code",
   "execution_count": 345,
   "metadata": {},
   "outputs": [
    {
     "name": "stdout",
     "output_type": "stream",
     "text": [
      "              precision    recall  f1-score   support\n",
      "\n",
      "         2.0     0.8182    0.8182    0.8182        11\n",
      "         3.0     0.7419    0.7188    0.7302        32\n",
      "         7.0     0.2500    0.3333    0.2857         6\n",
      "        10.0     1.0000    0.5000    0.6667         2\n",
      "        11.0     0.0000    0.0000    0.0000         2\n",
      "\n",
      "    accuracy                         0.6604        53\n",
      "   macro avg     0.5620    0.4741    0.5001        53\n",
      "weighted avg     0.6838    0.6604    0.6682        53\n",
      "\n"
     ]
    },
    {
     "data": {
      "image/png": "[encoded data removed]",
      "text/plain": [
       "<Figure size 864x720 with 1 Axes>"
      ]
     },
     "metadata": {
      "needs_background": "light"
     },
     "output_type": "display_data"
    }
   ],
   "source": [
    "evaluate_pipeline(strategies['title(tfidf)_oger-type(tfidf)::SVC'], df_train, df_test, cls_field, display=True)"
   ]
  },
  {
   "cell_type": "markdown",
   "metadata": {
    "heading_collapsed": true
   },
   "source": [
    "### Using BERT as transformer"
   ]
  },
  {
   "cell_type": "code",
   "execution_count": 89,
   "metadata": {
    "hidden": true
   },
   "outputs": [],
   "source": [
    "bert_transformer = BertTransformer(BertTokenizer.from_pretrained('bert-base-uncased'), \n",
    "                                   BertModel.from_pretrained('bert-base-uncased'),\n",
    "                                  embedding_func=lambda x: x[0][:, 0, :].squeeze())\n",
    "classifier = svm.LinearSVC(C=1.0, class_weight=\"balanced\")"
   ]
  },
  {
   "cell_type": "code",
   "execution_count": 38,
   "metadata": {
    "hidden": true
   },
   "outputs": [
    {
     "name": "stderr",
     "output_type": "stream",
     "text": [
      "/home/owlmx/miniconda3/envs/semeval2021/lib/python3.7/site-packages/sklearn/svm/_base.py:977: ConvergenceWarning: Liblinear failed to converge, increase the number of iterations.\n",
      "  \"the number of iterations.\", ConvergenceWarning)\n",
      "/home/owlmx/miniconda3/envs/semeval2021/lib/python3.7/site-packages/sklearn/base.py:213: FutureWarning: From version 0.24, get_params will raise an AttributeError if a parameter cannot be retrieved as an instance attribute. Previously it would return None.\n",
      "  FutureWarning)\n"
     ]
    },
    {
     "data": {
      "text/plain": [
       "Pipeline(steps=[('vectorizer',\n",
       "                 BertTransformer(bert_model=None, bert_tokenizer=None,\n",
       "                                 embedding_func=<function <lambda> at 0x7f90ea1d45f0>)),\n",
       "                ('classifier', LinearSVC(class_weight='balanced'))])"
      ]
     },
     "execution_count": 38,
     "metadata": {},
     "output_type": "execute_result"
    }
   ],
   "source": [
    "%%time\n",
    "model = Pipeline(\n",
    "    [\n",
    "        (\"vectorizer\", bert_transformer),\n",
    "        (\"classifier\", classifier),\n",
    "    ]\n",
    ")\n",
    "model.fit(x_train[\"content\"], y_train)"
   ]
  },
  {
   "cell_type": "markdown",
   "metadata": {},
   "source": [
    "# Exploration of best features combinations "
   ]
  },
  {
   "cell_type": "code",
   "execution_count": 57,
   "metadata": {},
   "outputs": [
    {
     "name": "stdout",
     "output_type": "stream",
     "text": [
      "Total number of feature combinations: 127\n"
     ]
    }
   ],
   "source": [
    "feature_combinations = list(itertools.chain.from_iterable([ list(itertools.combinations(feature_list, i+1)) for i in range(len(feature_list))]))\n",
    "feature_combinations = [FeatureUnion(transformer_list=list(t)) for t in feature_combinations] \n",
    "\n",
    "print(f\"Total number of feature combinations: {len(feature_combinations)}\")"
   ]
  },
  {
   "cell_type": "code",
   "execution_count": 58,
   "metadata": {},
   "outputs": [],
   "source": [
    "full_pipeline = Pipeline([('features', FeatureUnion(\n",
    "        transformer_list=[\n",
    "\n",
    "            # TF-IDF title\n",
    "            ('title_tfidf', Pipeline([\n",
    "                ('selector', ItemSelector(key='title')),\n",
    "                ('tfidf', TfidfVectorizer(min_df=1)),\n",
    "            ])),\n",
    "                        \n",
    "        ],    \n",
    "    \n",
    "    )),\n",
    "    # Use a SVC classifier on the combined features\n",
    "    ('svc', svm.LinearSVC(C=1.0, class_weight=\"balanced\"))    \n",
    "                     \n",
    "    ])\n",
    "\n",
    "pg = [\n",
    "    {\n",
    "        'features': feature_combinations\n",
    "    }\n",
    "]\n",
    "\n",
    "grid_search = GridSearchCV(full_pipeline, param_grid=pg, cv=3, n_jobs=3, scoring='f1_micro')"
   ]
  },
  {
   "cell_type": "code",
   "execution_count": null,
   "metadata": {},
   "outputs": [],
   "source": [
    "# load saved search\n",
    "grid_search = joblib.load(path.join(destination_folder, 'grid_search.joblib'))"
   ]
  },
  {
   "cell_type": "code",
   "execution_count": 59,
   "metadata": {},
   "outputs": [
    {
     "name": "stderr",
     "output_type": "stream",
     "text": [
      "/home/owlmx/miniconda3/envs/semeval2021/lib/python3.7/site-packages/sklearn/model_selection/_split.py:672: UserWarning: The least populated class in y has only 2 members, which is less than n_splits=3.\n",
      "  % (min_groups, self.n_splits)), UserWarning)\n"
     ]
    },
    {
     "name": "stdout",
     "output_type": "stream",
     "text": [
      "CPU times: user 15.4 s, sys: 4.52 s, total: 19.9 s\n",
      "Wall time: 6min 40s\n"
     ]
    }
   ],
   "source": [
    "%%time\n",
    "df_tmp = pd.concat([df_train, df_test], ignore_index=True)\n",
    "rs = grid_search.fit(df_tmp, list(df_tmp[cls_field])) # GS over all dataset (concat test and train set cause already filtered)\n",
    "joblib.dump(grid_search, path.join(destination_folder, 'grid_search.joblib'))"
   ]
  },
  {
   "cell_type": "code",
   "execution_count": 60,
   "metadata": {},
   "outputs": [
    {
     "name": "stdout",
     "output_type": "stream",
     "text": [
      "\n",
      "Best estimator found:\n",
      "Pipeline(steps=[('features',\n",
      "                 FeatureUnion(transformer_list=[('title_tfidf',\n",
      "                                                 Pipeline(steps=[('selector',\n",
      "                                                                  ItemSelector(key='title')),\n",
      "                                                                 ('tfidf',\n",
      "                                                                  TfidfVectorizer())])),\n",
      "                                                ('origin_tfidf',\n",
      "                                                 Pipeline(steps=[('selector',\n",
      "                                                                  ItemSelector(key='origin')),\n",
      "                                                                 ('tfidf',\n",
      "                                                                  TfidfVectorizer())])),\n",
      "                                                ('text_bow',\n",
      "                                                 Pipeline(steps=[('selector',\n",
      "                                                                  ItemSelector(key='full_text')),\n",
      "                                                                 ('tfidf',\n",
      "                                                                  TfidfVectorizer()),\n",
      "                                                                 ('best',\n",
      "                                                                  TruncatedSVD(n_components=300))]))])),\n",
      "                ('svc', LinearSVC(class_weight='balanced'))])\n",
      "\n",
      "Best score:\n",
      "0.7211402413649605\n",
      "\n",
      "Best parameters found:\n",
      "{'features': FeatureUnion(transformer_list=[('title_tfidf',\n",
      "                                Pipeline(steps=[('selector',\n",
      "                                                 ItemSelector(key='title')),\n",
      "                                                ('tfidf', TfidfVectorizer())])),\n",
      "                               ('origin_tfidf',\n",
      "                                Pipeline(steps=[('selector',\n",
      "                                                 ItemSelector(key='origin')),\n",
      "                                                ('tfidf', TfidfVectorizer())])),\n",
      "                               ('text_bow',\n",
      "                                Pipeline(steps=[('selector',\n",
      "                                                 ItemSelector(key='full_text')),\n",
      "                                                ('tfidf', TfidfVectorizer()),\n",
      "                                                ('best',\n",
      "                                                 TruncatedSVD(n_components=300))]))])}\n"
     ]
    }
   ],
   "source": [
    "#grid_search.cv_results_\n",
    "print(\"\\nBest estimator found:\")\n",
    "print(grid_search.best_estimator_)\n",
    "\n",
    "print(\"\\nBest score:\")\n",
    "print(grid_search.best_score_)\n",
    "\n",
    "print(\"\\nBest parameters found:\")\n",
    "print(grid_search.best_params_)"
   ]
  },
  {
   "cell_type": "markdown",
   "metadata": {},
   "source": [
    "### Re-Evaluate best estimator (train on training_ds and test on test_ds)"
   ]
  },
  {
   "cell_type": "markdown",
   "metadata": {},
   "source": [
    "Without retraining (test data was already seen)"
   ]
  },
  {
   "cell_type": "code",
   "execution_count": 63,
   "metadata": {},
   "outputs": [
    {
     "name": "stdout",
     "output_type": "stream",
     "text": [
      "              precision    recall  f1-score   support\n",
      "\n",
      "         2.0     1.0000    1.0000    1.0000        11\n",
      "         3.0     1.0000    1.0000    1.0000        32\n",
      "         7.0     1.0000    1.0000    1.0000         6\n",
      "        10.0     1.0000    1.0000    1.0000         2\n",
      "        11.0     1.0000    1.0000    1.0000         2\n",
      "\n",
      "    accuracy                         1.0000        53\n",
      "   macro avg     1.0000    1.0000    1.0000        53\n",
      "weighted avg     1.0000    1.0000    1.0000        53\n",
      "\n"
     ]
    },
    {
     "data": {
      "image/png": "[encoded data removed]",
      "text/plain": [
       "<Figure size 864x720 with 1 Axes>"
      ]
     },
     "metadata": {
      "needs_background": "light"
     },
     "output_type": "display_data"
    }
   ],
   "source": [
    "evaluate_pipeline(copy.deepcopy(grid_search.best_estimator_), df_train, df_test, cls_field, display=True, force_fit=False)"
   ]
  },
  {
   "cell_type": "markdown",
   "metadata": {},
   "source": [
    "Retrain on train_data and apply on test_data... test data has not been seen"
   ]
  },
  {
   "cell_type": "code",
   "execution_count": 62,
   "metadata": {},
   "outputs": [
    {
     "name": "stdout",
     "output_type": "stream",
     "text": [
      "              precision    recall  f1-score   support\n",
      "\n",
      "         2.0     0.7500    0.8182    0.7826        11\n",
      "         3.0     0.7353    0.7812    0.7576        32\n",
      "         7.0     0.2000    0.1667    0.1818         6\n",
      "        10.0     1.0000    0.5000    0.6667         2\n",
      "        11.0     0.0000    0.0000    0.0000         2\n",
      "\n",
      "    accuracy                         0.6792        53\n",
      "   macro avg     0.5371    0.4532    0.4777        53\n",
      "weighted avg     0.6600    0.6792    0.6656        53\n",
      "\n"
     ]
    },
    {
     "data": {
      "image/png": "[encoded data removed]",
      "text/plain": [
       "<Figure size 864x720 with 1 Axes>"
      ]
     },
     "metadata": {
      "needs_background": "light"
     },
     "output_type": "display_data"
    }
   ],
   "source": [
    "evaluate_pipeline(copy.deepcopy(grid_search.best_estimator_), df_train, df_test, cls_field, display=True, force_fit=True)"
   ]
  },
  {
   "cell_type": "markdown",
   "metadata": {},
   "source": [
    "# Significance"
   ]
  },
  {
   "cell_type": "code",
   "execution_count": 101,
   "metadata": {},
   "outputs": [],
   "source": [
    "models2compare = {'title_tfidf': strategies['title(tfidf)::SVC'], 'best_grid_search': grid_search.best_estimator_}"
   ]
  },
  {
   "cell_type": "code",
   "execution_count": 108,
   "metadata": {},
   "outputs": [
    {
     "name": "stderr",
     "output_type": "stream",
     "text": [
      "  3%|▎         | 1/30 [00:02<01:24,  2.93s/it]/home/owlmx/miniconda3/envs/semeval2021/lib/python3.7/site-packages/sklearn/metrics/_classification.py:1221: UndefinedMetricWarning: Precision and F-score are ill-defined and being set to 0.0 in labels with no predicted samples. Use `zero_division` parameter to control this behavior.\n",
      "  _warn_prf(average, modifier, msg_start, len(result))\n",
      "  7%|▋         | 2/30 [00:05<01:21,  2.90s/it]/home/owlmx/miniconda3/envs/semeval2021/lib/python3.7/site-packages/sklearn/metrics/_classification.py:1221: UndefinedMetricWarning: Precision and F-score are ill-defined and being set to 0.0 in labels with no predicted samples. Use `zero_division` parameter to control this behavior.\n",
      "  _warn_prf(average, modifier, msg_start, len(result))\n",
      " 17%|█▋        | 5/30 [00:14<01:11,  2.85s/it]/home/owlmx/miniconda3/envs/semeval2021/lib/python3.7/site-packages/sklearn/metrics/_classification.py:1221: UndefinedMetricWarning: Precision and F-score are ill-defined and being set to 0.0 in labels with no predicted samples. Use `zero_division` parameter to control this behavior.\n",
      "  _warn_prf(average, modifier, msg_start, len(result))\n",
      " 20%|██        | 6/30 [00:17<01:08,  2.85s/it]/home/owlmx/miniconda3/envs/semeval2021/lib/python3.7/site-packages/sklearn/metrics/_classification.py:1221: UndefinedMetricWarning: Precision and F-score are ill-defined and being set to 0.0 in labels with no predicted samples. Use `zero_division` parameter to control this behavior.\n",
      "  _warn_prf(average, modifier, msg_start, len(result))\n",
      " 27%|██▋       | 8/30 [00:22<01:02,  2.83s/it]/home/owlmx/miniconda3/envs/semeval2021/lib/python3.7/site-packages/sklearn/metrics/_classification.py:1221: UndefinedMetricWarning: Precision and F-score are ill-defined and being set to 0.0 in labels with no predicted samples. Use `zero_division` parameter to control this behavior.\n",
      "  _warn_prf(average, modifier, msg_start, len(result))\n",
      " 37%|███▋      | 11/30 [00:31<00:53,  2.79s/it]/home/owlmx/miniconda3/envs/semeval2021/lib/python3.7/site-packages/sklearn/metrics/_classification.py:1221: UndefinedMetricWarning: Precision and F-score are ill-defined and being set to 0.0 in labels with no predicted samples. Use `zero_division` parameter to control this behavior.\n",
      "  _warn_prf(average, modifier, msg_start, len(result))\n",
      " 40%|████      | 12/30 [00:34<00:50,  2.82s/it]/home/owlmx/miniconda3/envs/semeval2021/lib/python3.7/site-packages/sklearn/metrics/_classification.py:1221: UndefinedMetricWarning: Precision and F-score are ill-defined and being set to 0.0 in labels with no predicted samples. Use `zero_division` parameter to control this behavior.\n",
      "  _warn_prf(average, modifier, msg_start, len(result))\n",
      " 43%|████▎     | 13/30 [00:36<00:47,  2.82s/it]/home/owlmx/miniconda3/envs/semeval2021/lib/python3.7/site-packages/sklearn/metrics/_classification.py:1221: UndefinedMetricWarning: Precision and F-score are ill-defined and being set to 0.0 in labels with no predicted samples. Use `zero_division` parameter to control this behavior.\n",
      "  _warn_prf(average, modifier, msg_start, len(result))\n",
      " 47%|████▋     | 14/30 [00:39<00:45,  2.84s/it]/home/owlmx/miniconda3/envs/semeval2021/lib/python3.7/site-packages/sklearn/metrics/_classification.py:1221: UndefinedMetricWarning: Precision and F-score are ill-defined and being set to 0.0 in labels with no predicted samples. Use `zero_division` parameter to control this behavior.\n",
      "  _warn_prf(average, modifier, msg_start, len(result))\n",
      " 50%|█████     | 15/30 [00:42<00:42,  2.83s/it]/home/owlmx/miniconda3/envs/semeval2021/lib/python3.7/site-packages/sklearn/metrics/_classification.py:1221: UndefinedMetricWarning: Precision and F-score are ill-defined and being set to 0.0 in labels with no predicted samples. Use `zero_division` parameter to control this behavior.\n",
      "  _warn_prf(average, modifier, msg_start, len(result))\n",
      " 53%|█████▎    | 16/30 [00:45<00:39,  2.82s/it]/home/owlmx/miniconda3/envs/semeval2021/lib/python3.7/site-packages/sklearn/metrics/_classification.py:1221: UndefinedMetricWarning: Precision and F-score are ill-defined and being set to 0.0 in labels with no predicted samples. Use `zero_division` parameter to control this behavior.\n",
      "  _warn_prf(average, modifier, msg_start, len(result))\n",
      " 57%|█████▋    | 17/30 [00:48<00:37,  2.85s/it]/home/owlmx/miniconda3/envs/semeval2021/lib/python3.7/site-packages/sklearn/metrics/_classification.py:1221: UndefinedMetricWarning: Precision and F-score are ill-defined and being set to 0.0 in labels with no predicted samples. Use `zero_division` parameter to control this behavior.\n",
      "  _warn_prf(average, modifier, msg_start, len(result))\n",
      " 63%|██████▎   | 19/30 [00:53<00:30,  2.80s/it]/home/owlmx/miniconda3/envs/semeval2021/lib/python3.7/site-packages/sklearn/metrics/_classification.py:1221: UndefinedMetricWarning: Precision and F-score are ill-defined and being set to 0.0 in labels with no predicted samples. Use `zero_division` parameter to control this behavior.\n",
      "  _warn_prf(average, modifier, msg_start, len(result))\n",
      " 67%|██████▋   | 20/30 [00:56<00:28,  2.81s/it]/home/owlmx/miniconda3/envs/semeval2021/lib/python3.7/site-packages/sklearn/metrics/_classification.py:1221: UndefinedMetricWarning: Precision and F-score are ill-defined and being set to 0.0 in labels with no predicted samples. Use `zero_division` parameter to control this behavior.\n",
      "  _warn_prf(average, modifier, msg_start, len(result))\n",
      " 70%|███████   | 21/30 [00:59<00:25,  2.81s/it]/home/owlmx/miniconda3/envs/semeval2021/lib/python3.7/site-packages/sklearn/metrics/_classification.py:1221: UndefinedMetricWarning: Precision and F-score are ill-defined and being set to 0.0 in labels with no predicted samples. Use `zero_division` parameter to control this behavior.\n",
      "  _warn_prf(average, modifier, msg_start, len(result))\n",
      " 77%|███████▋  | 23/30 [01:05<00:20,  2.94s/it]/home/owlmx/miniconda3/envs/semeval2021/lib/python3.7/site-packages/sklearn/metrics/_classification.py:1221: UndefinedMetricWarning: Precision and F-score are ill-defined and being set to 0.0 in labels with no predicted samples. Use `zero_division` parameter to control this behavior.\n",
      "  _warn_prf(average, modifier, msg_start, len(result))\n",
      " 80%|████████  | 24/30 [01:08<00:18,  3.03s/it]/home/owlmx/miniconda3/envs/semeval2021/lib/python3.7/site-packages/sklearn/metrics/_classification.py:1221: UndefinedMetricWarning: Precision and F-score are ill-defined and being set to 0.0 in labels with no predicted samples. Use `zero_division` parameter to control this behavior.\n",
      "  _warn_prf(average, modifier, msg_start, len(result))\n",
      " 83%|████████▎ | 25/30 [01:11<00:15,  3.08s/it]/home/owlmx/miniconda3/envs/semeval2021/lib/python3.7/site-packages/sklearn/metrics/_classification.py:1221: UndefinedMetricWarning: Precision and F-score are ill-defined and being set to 0.0 in labels with no predicted samples. Use `zero_division` parameter to control this behavior.\n",
      "  _warn_prf(average, modifier, msg_start, len(result))\n",
      " 87%|████████▋ | 26/30 [01:14<00:12,  3.01s/it]/home/owlmx/miniconda3/envs/semeval2021/lib/python3.7/site-packages/sklearn/metrics/_classification.py:1221: UndefinedMetricWarning: Precision and F-score are ill-defined and being set to 0.0 in labels with no predicted samples. Use `zero_division` parameter to control this behavior.\n",
      "  _warn_prf(average, modifier, msg_start, len(result))\n",
      " 97%|█████████▋| 29/30 [01:23<00:02,  2.96s/it]/home/owlmx/miniconda3/envs/semeval2021/lib/python3.7/site-packages/sklearn/metrics/_classification.py:1221: UndefinedMetricWarning: Precision and F-score are ill-defined and being set to 0.0 in labels with no predicted samples. Use `zero_division` parameter to control this behavior.\n",
      "  _warn_prf(average, modifier, msg_start, len(result))\n",
      "100%|██████████| 30/30 [01:26<00:00,  2.88s/it]\n"
     ]
    }
   ],
   "source": [
    "def evaluate_multiple_runs(df, models, n_runs=30, test_size=0.2, val_size=0.0, stratisfy_field=cls_field ):\n",
    "    '''Run n times the models with random train and test samples from dataset'''\n",
    "    rs = []\n",
    "    rs_model = {}\n",
    "    for i in tqdm(range(n_runs)):\n",
    "        # resample (random)\n",
    "        df_train_, df_test_ = split_train_val_test(df[df[cls_field].notnull()], test=0.2, val=0.0, stratisfy_field=cls_field, random_state=None, display=False)\n",
    "        \n",
    "        # for each model        \n",
    "        for model_name, model in models.items():\n",
    "            if not model_name in rs_model:\n",
    "                rs_model[model_name] = []             \n",
    "            \n",
    "            # retrain and predict\n",
    "            rs = evaluate_pipeline(copy.deepcopy(model), df_train_, df_test_, cls_field, display=False, force_fit=True)\n",
    "            \n",
    "            #evaluate\n",
    "            #'mcc': metrics.matthews_corrcoef(y_true=rs[3]['y_true'], y_pred=rs[3]['y_pred'])\n",
    "            rs_model[model_name].append( metrics.f1_score(y_true=rs[3]['y_true'], y_pred=rs[3]['y_pred'], average='weighted') )\n",
    "            \n",
    "    return pd.DataFrame(rs_model)\n",
    "\n",
    "comparative_runs = evaluate_multiple_runs(df, models2compare, n_runs=30)"
   ]
  },
  {
   "cell_type": "code",
   "execution_count": 111,
   "metadata": {},
   "outputs": [],
   "source": [
    "comparative_runs.to_csv(path.join(destination_folder, 'compartaive_runs.csv'))"
   ]
  },
  {
   "cell_type": "code",
   "execution_count": 110,
   "metadata": {},
   "outputs": [
    {
     "data": {
      "text/html": [
       "<div>\n",
       "<style scoped>\n",
       "    .dataframe tbody tr th:only-of-type {\n",
       "        vertical-align: middle;\n",
       "    }\n",
       "\n",
       "    .dataframe tbody tr th {\n",
       "        vertical-align: top;\n",
       "    }\n",
       "\n",
       "    .dataframe thead th {\n",
       "        text-align: right;\n",
       "    }\n",
       "</style>\n",
       "<table border=\"1\" class=\"dataframe\">\n",
       "  <thead>\n",
       "    <tr style=\"text-align: right;\">\n",
       "      <th></th>\n",
       "      <th>title_tfidf</th>\n",
       "      <th>best_grid_search</th>\n",
       "    </tr>\n",
       "  </thead>\n",
       "  <tbody>\n",
       "    <tr>\n",
       "      <th>0</th>\n",
       "      <td>0.641240</td>\n",
       "      <td>0.686792</td>\n",
       "    </tr>\n",
       "    <tr>\n",
       "      <th>1</th>\n",
       "      <td>0.576079</td>\n",
       "      <td>0.680351</td>\n",
       "    </tr>\n",
       "    <tr>\n",
       "      <th>2</th>\n",
       "      <td>0.620214</td>\n",
       "      <td>0.664570</td>\n",
       "    </tr>\n",
       "    <tr>\n",
       "      <th>3</th>\n",
       "      <td>0.598383</td>\n",
       "      <td>0.665469</td>\n",
       "    </tr>\n",
       "    <tr>\n",
       "      <th>4</th>\n",
       "      <td>0.650728</td>\n",
       "      <td>0.718085</td>\n",
       "    </tr>\n",
       "    <tr>\n",
       "      <th>5</th>\n",
       "      <td>0.669298</td>\n",
       "      <td>0.753418</td>\n",
       "    </tr>\n",
       "    <tr>\n",
       "      <th>6</th>\n",
       "      <td>0.755319</td>\n",
       "      <td>0.761426</td>\n",
       "    </tr>\n",
       "    <tr>\n",
       "      <th>7</th>\n",
       "      <td>0.675032</td>\n",
       "      <td>0.719792</td>\n",
       "    </tr>\n",
       "    <tr>\n",
       "      <th>8</th>\n",
       "      <td>0.694801</td>\n",
       "      <td>0.752735</td>\n",
       "    </tr>\n",
       "    <tr>\n",
       "      <th>9</th>\n",
       "      <td>0.714870</td>\n",
       "      <td>0.720586</td>\n",
       "    </tr>\n",
       "    <tr>\n",
       "      <th>10</th>\n",
       "      <td>0.718849</td>\n",
       "      <td>0.769772</td>\n",
       "    </tr>\n",
       "    <tr>\n",
       "      <th>11</th>\n",
       "      <td>0.751545</td>\n",
       "      <td>0.820485</td>\n",
       "    </tr>\n",
       "    <tr>\n",
       "      <th>12</th>\n",
       "      <td>0.672225</td>\n",
       "      <td>0.806125</td>\n",
       "    </tr>\n",
       "    <tr>\n",
       "      <th>13</th>\n",
       "      <td>0.676148</td>\n",
       "      <td>0.747771</td>\n",
       "    </tr>\n",
       "    <tr>\n",
       "      <th>14</th>\n",
       "      <td>0.719890</td>\n",
       "      <td>0.808039</td>\n",
       "    </tr>\n",
       "    <tr>\n",
       "      <th>15</th>\n",
       "      <td>0.692647</td>\n",
       "      <td>0.751477</td>\n",
       "    </tr>\n",
       "    <tr>\n",
       "      <th>16</th>\n",
       "      <td>0.631806</td>\n",
       "      <td>0.748913</td>\n",
       "    </tr>\n",
       "    <tr>\n",
       "      <th>17</th>\n",
       "      <td>0.639259</td>\n",
       "      <td>0.684661</td>\n",
       "    </tr>\n",
       "    <tr>\n",
       "      <th>18</th>\n",
       "      <td>0.647165</td>\n",
       "      <td>0.732158</td>\n",
       "    </tr>\n",
       "    <tr>\n",
       "      <th>19</th>\n",
       "      <td>0.657472</td>\n",
       "      <td>0.803097</td>\n",
       "    </tr>\n",
       "    <tr>\n",
       "      <th>20</th>\n",
       "      <td>0.681941</td>\n",
       "      <td>0.731261</td>\n",
       "    </tr>\n",
       "    <tr>\n",
       "      <th>21</th>\n",
       "      <td>0.671988</td>\n",
       "      <td>0.730094</td>\n",
       "    </tr>\n",
       "    <tr>\n",
       "      <th>22</th>\n",
       "      <td>0.735125</td>\n",
       "      <td>0.800734</td>\n",
       "    </tr>\n",
       "    <tr>\n",
       "      <th>23</th>\n",
       "      <td>0.683423</td>\n",
       "      <td>0.757147</td>\n",
       "    </tr>\n",
       "    <tr>\n",
       "      <th>24</th>\n",
       "      <td>0.634569</td>\n",
       "      <td>0.736564</td>\n",
       "    </tr>\n",
       "    <tr>\n",
       "      <th>25</th>\n",
       "      <td>0.677278</td>\n",
       "      <td>0.730271</td>\n",
       "    </tr>\n",
       "    <tr>\n",
       "      <th>26</th>\n",
       "      <td>0.584307</td>\n",
       "      <td>0.688208</td>\n",
       "    </tr>\n",
       "    <tr>\n",
       "      <th>27</th>\n",
       "      <td>0.642187</td>\n",
       "      <td>0.753459</td>\n",
       "    </tr>\n",
       "    <tr>\n",
       "      <th>28</th>\n",
       "      <td>0.672518</td>\n",
       "      <td>0.738966</td>\n",
       "    </tr>\n",
       "    <tr>\n",
       "      <th>29</th>\n",
       "      <td>0.695336</td>\n",
       "      <td>0.726514</td>\n",
       "    </tr>\n",
       "  </tbody>\n",
       "</table>\n",
       "</div>"
      ],
      "text/plain": [
       "    title_tfidf  best_grid_search\n",
       "0      0.641240          0.686792\n",
       "1      0.576079          0.680351\n",
       "2      0.620214          0.664570\n",
       "3      0.598383          0.665469\n",
       "4      0.650728          0.718085\n",
       "5      0.669298          0.753418\n",
       "6      0.755319          0.761426\n",
       "7      0.675032          0.719792\n",
       "8      0.694801          0.752735\n",
       "9      0.714870          0.720586\n",
       "10     0.718849          0.769772\n",
       "11     0.751545          0.820485\n",
       "12     0.672225          0.806125\n",
       "13     0.676148          0.747771\n",
       "14     0.719890          0.808039\n",
       "15     0.692647          0.751477\n",
       "16     0.631806          0.748913\n",
       "17     0.639259          0.684661\n",
       "18     0.647165          0.732158\n",
       "19     0.657472          0.803097\n",
       "20     0.681941          0.731261\n",
       "21     0.671988          0.730094\n",
       "22     0.735125          0.800734\n",
       "23     0.683423          0.757147\n",
       "24     0.634569          0.736564\n",
       "25     0.677278          0.730271\n",
       "26     0.584307          0.688208\n",
       "27     0.642187          0.753459\n",
       "28     0.672518          0.738966\n",
       "29     0.695336          0.726514"
      ]
     },
     "execution_count": 110,
     "metadata": {},
     "output_type": "execute_result"
    }
   ],
   "source": [
    "comparative_runs"
   ]
  },
  {
   "cell_type": "code",
   "execution_count": 124,
   "metadata": {},
   "outputs": [],
   "source": [
    "from scipy.stats import normaltest, ttest_ind\n",
    "from matplotlib import pyplot"
   ]
  },
  {
   "cell_type": "code",
   "execution_count": 121,
   "metadata": {},
   "outputs": [
    {
     "name": "stdout",
     "output_type": "stream",
     "text": [
      "       title_tfidf  best_grid_search\n",
      "count    30.000000         30.000000\n",
      "mean      0.669388          0.739631\n",
      "std       0.044472          0.041833\n",
      "min       0.576079          0.664570\n",
      "25%       0.641477          0.719991\n",
      "50%       0.672372          0.737765\n",
      "75%       0.694262          0.756225\n",
      "max       0.755319          0.820485\n"
     ]
    },
    {
     "data": {
      "image/png": "[encoded data removed]",
      "text/plain": [
       "<Figure size 1440x720 with 1 Axes>"
      ]
     },
     "metadata": {
      "needs_background": "light"
     },
     "output_type": "display_data"
    },
    {
     "data": {
      "image/png": "[encoded data removed]",
      "text/plain": [
       "<Figure size 1440x720 with 2 Axes>"
      ]
     },
     "metadata": {
      "needs_background": "light"
     },
     "output_type": "display_data"
    }
   ],
   "source": [
    "# descriptive stats\n",
    "print(comparative_runs.describe())\n",
    "# box and whisker plot\n",
    "comparative_runs.boxplot()\n",
    "pyplot.show()\n",
    "# histogram\n",
    "comparative_runs.hist()\n",
    "pyplot.show()"
   ]
  },
  {
   "cell_type": "code",
   "execution_count": 122,
   "metadata": {},
   "outputs": [
    {
     "name": "stdout",
     "output_type": "stream",
     "text": [
      "0.07551119977416455 0.9629482567971064\n",
      "title_tfidf ~ Normal\n",
      "\n",
      "0.13534810109478523 0.9345650449019005\n",
      "best_grid_search ~ Normal\n",
      "\n"
     ]
    }
   ],
   "source": [
    "for col in comparative_runs.columns:\n",
    "    value, p = normaltest(list(comparative_runs[col]))\n",
    "    print(value, p)\n",
    "    if p >= 0.05:\n",
    "        print(f\"{col} ~ Normal\\n\")\n",
    "    else:\n",
    "        print(f\"{col} ~ NOT Normal\\n\")"
   ]
  },
  {
   "cell_type": "code",
   "execution_count": 127,
   "metadata": {},
   "outputs": [
    {
     "name": "stdout",
     "output_type": "stream",
     "text": [
      "-6.301521320873949 4.3166806064627776e-08\n",
      "~ Samples from different distributions (reject H0) => Statiscally significant\n"
     ]
    }
   ],
   "source": [
    "# calculate the significance\n",
    "value, p = ttest_ind(comparative_runs[comparative_runs.columns[0]], \n",
    "                         comparative_runs[comparative_runs.columns[1]], equal_var=True)    \n",
    "\n",
    "print(value, p)\n",
    "if p > 0.05:\n",
    "    print(f\"~ Samples from the same distributions (fail to reject H0)\")\n",
    "else:\n",
    "    print(f\"~ Samples from different distributions (reject H0) => Statiscally significant\")\n",
    "    "
   ]
  },
  {
   "cell_type": "code",
   "execution_count": 128,
   "metadata": {},
   "outputs": [
    {
     "data": {
      "text/plain": [
       "<AxesSubplot:>"
      ]
     },
     "execution_count": 128,
     "metadata": {},
     "output_type": "execute_result"
    },
    {
     "data": {
      "image/png": "[encoded data removed]",
      "text/plain": [
       "<Figure size 1440x720 with 1 Axes>"
      ]
     },
     "metadata": {
      "needs_background": "light"
     },
     "output_type": "display_data"
    }
   ],
   "source": [
    "sns.lineplot(data=comparative_runs)"
   ]
  }
 ],
 "metadata": {
  "kernelspec": {
   "display_name": "semeval2021",
   "language": "python",
   "name": "semeval2021"
  },
  "language_info": {
   "codemirror_mode": {
    "name": "ipython",
    "version": 3
   },
   "file_extension": ".py",
   "mimetype": "text/x-python",
   "name": "python",
   "nbconvert_exporter": "python",
   "pygments_lexer": "ipython3",
   "version": "3.7.7"
  },
  "toc": {
   "base_numbering": 1,
   "nav_menu": {},
   "number_sections": true,
   "sideBar": true,
   "skip_h1_title": false,
   "title_cell": "Table of Contents",
   "title_sidebar": "Contents",
   "toc_cell": false,
   "toc_position": {},
   "toc_section_display": true,
   "toc_window_display": true
  }
 },
 "nbformat": 4,
 "nbformat_minor": 4
}
