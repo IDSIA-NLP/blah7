{
 "cells": [
  {
   "cell_type": "markdown",
   "id": "important-zambia",
   "metadata": {},
   "source": [
    "# Analyzing COVID-19 literature with OGER\n",
    "In this very short tutorial we show how to annotate an article using the OGER web API.\n",
    "\n",
    "More information about OGER:\n",
    "- [OGER Github repository](https://github.com/OntoGene/OGER)\n",
    "- [Introduction to OGER web APIs](https://covid19.nlp.idsia.ch/oger-rest.html)\n",
    "- [OGER introduction video](https://files.ifi.uzh.ch/cl/rinaldi/ISMB2020/ismb-609.mp4)\n",
    "- [BLAH7 OGER project page](https://coree.github.io/blah7/)"
   ]
  },
  {
   "cell_type": "code",
   "execution_count": 26,
   "id": "peripheral-falls",
   "metadata": {},
   "outputs": [],
   "source": [
    "import requests\n",
    "import pandas as pd\n",
    "import io"
   ]
  },
  {
   "cell_type": "markdown",
   "id": "royal-burlington",
   "metadata": {},
   "source": [
    "## Analyzing PubMed articles with OGER\n",
    "\n",
    "Annotate an article obtained from a remote repository (fetch).\n",
    "We can request the annotation of a PubMed abstract by using the fetch endpoint. We need to specify which source to consider. Currently only Pubmed (pubmed) and PubMed Central (pmc) are enabled. Next we ned to provide the output format. And finally we need to provide the ID of the resource that we intend to process.\n",
    "\n",
    "`'https://pub.cl.uzh.ch/projects/ontogene/oger/fetch/[Source]/[Output_Format]/[Document_ID]'`\n",
    "\n",
    "Here we use PubMed as source and want a .tsv file as return."
   ]
  },
  {
   "cell_type": "markdown",
   "id": "whole-pixel",
   "metadata": {},
   "source": [
    "Identify articles in PubMed that contain the drug and COVID-19. For example: \n",
    "- [PubMed:32445440](https://pubmed.ncbi.nlm.nih.gov/32445440/) *Remdesivir for the Treatment of Covid-19 - Final Report*\n",
    "- [PubMed:32895599](https://pubmed.ncbi.nlm.nih.gov/32895599/) *Favipiravir: A new and emerging antiviral option in COVID-19*\n"
   ]
  },
  {
   "cell_type": "markdown",
   "id": "marine-answer",
   "metadata": {},
   "source": [
    "### Shell \n",
    "For example let's assume that we want to process the PubMed abstract 32895599.\n",
    "\n",
    "The output will be delivered to your shell (standard output), so you might want to redirect to a file, e.g.\n",
    "\n",
    "`curl https://pub.cl.uzh.ch/projects/ontogene/oger/fetch/pubmed/tsv/21436587 > 21436587.tsv`"
   ]
  },
  {
   "cell_type": "code",
   "execution_count": null,
   "id": "consecutive-strength",
   "metadata": {},
   "outputs": [],
   "source": [
    "! curl https://pub.cl.uzh.ch/projects/ontogene/oger/fetch/pubmed/tsv/32895599"
   ]
  },
  {
   "cell_type": "markdown",
   "id": "intellectual-concert",
   "metadata": {},
   "source": [
    "### Python\n"
   ]
  },
  {
   "cell_type": "code",
   "execution_count": null,
   "id": "electric-london",
   "metadata": {},
   "outputs": [],
   "source": [
    "url = 'https://pub.cl.uzh.ch/projects/ontogene/oger/fetch/pubmed/tsv/32895599'"
   ]
  },
  {
   "cell_type": "code",
   "execution_count": null,
   "id": "beneficial-queen",
   "metadata": {},
   "outputs": [],
   "source": [
    "req = requests.get(url)  \n",
    "df = pd.read_csv(io.StringIO(req.text), sep='\\t')"
   ]
  },
  {
   "cell_type": "code",
   "execution_count": null,
   "id": "satisfied-cable",
   "metadata": {},
   "outputs": [],
   "source": [
    "df.columns = [c.lower().replace(' ', '_') for c in df.columns]"
   ]
  },
  {
   "cell_type": "code",
   "execution_count": null,
   "id": "reverse-crack",
   "metadata": {},
   "outputs": [],
   "source": [
    "df.head()"
   ]
  },
  {
   "cell_type": "markdown",
   "id": "comparative-india",
   "metadata": {},
   "source": [
    "#### Exercise: Reconsturcting annotated sentences \n",
    "In order to reconstruct the sentences, you will have to use a different output format for OGER. Try with the `text_tsv` format."
   ]
  },
  {
   "cell_type": "code",
   "execution_count": null,
   "id": "bronze-harrison",
   "metadata": {},
   "outputs": [],
   "source": [
    "url = 'https://pub.cl.uzh.ch/projects/ontogene/oger/fetch/pubmed/text_tsv/32895599'\n",
    "\n",
    "req = requests.get(url)  \n",
    "\n",
    "df = pd.read_csv(io.StringIO(req.text), sep='\\t')\n",
    "df.columns = [c.lower().replace(' ', '_') for c in df.columns]\n",
    "df.head()"
   ]
  },
  {
   "cell_type": "markdown",
   "id": "enormous-stock",
   "metadata": {},
   "source": [
    "## Analyzing plain text articles with OGER\n",
    "\n",
    "We can request the annotation of local data by doing a POST to the /upload endpoint and passing the route parameters that specify the input and output format.\n",
    "\n",
    "The URL of the request will be composed of the base URL (https://pub.cl.uzh.ch/projects/ontogene/oger/), the target endpoint (upload), the input format specification and the output format specification, so the final URL will be:\n",
    "\n",
    "`https://pub.cl.uzh.ch/projects/ontogene/oger/upload/[Input_Format]/[Output_Format]`\n"
   ]
  },
  {
   "cell_type": "markdown",
   "id": "happy-blond",
   "metadata": {},
   "source": [
    "### Shell \n",
    "Below there is an example of the request. In this example the uploaded data is raw text (txt), the requested output format is a tabular table (tsv) and the text to be annotated is passed in the POST payload."
   ]
  },
  {
   "cell_type": "code",
   "execution_count": null,
   "id": "planned-choir",
   "metadata": {},
   "outputs": [],
   "source": [
    "! curl --location \\\n",
    "--request POST 'https://pub.cl.uzh.ch/projects/ontogene/oger/upload/txt/tsv' \\\n",
    "--header 'Content-Type: text/plain' \\\n",
    "--data-raw 'The initial cases of novel coronavirus (2019-nCoV)-infected \\\n",
    "pneumonia (NCIP) occurred in Wuhan, Hubei Province, China, in December 2019 \\\n",
    "and January 2020. \\\n",
    "We analyzed data on the first 425 confirmed cases in Wuhan to \\\n",
    "determine the epidemiologic characteristics of NCIP.We collected \\\n",
    "information on demographic characteristics, exposure history, and \\\n",
    "illness timelines of laboratory-confirmed cases of NCIP that had been \\\n",
    "reported by January 22, 2020.' "
   ]
  },
  {
   "cell_type": "markdown",
   "id": "settled-pasta",
   "metadata": {},
   "source": [
    "### Python\n",
    "Here we use plain text as input format and want to retrieve a .tsv file."
   ]
  },
  {
   "cell_type": "code",
   "execution_count": null,
   "id": "changed-colors",
   "metadata": {},
   "outputs": [],
   "source": [
    "url = 'https://pub.cl.uzh.ch/projects/ontogene/oger/upload/txt/tsv?dict=509f822aaf527390'\n",
    "\n",
    "body = 'The initial cases of novel coronavirus (2019-nCoV)-infected pneumonia (NCIP) occurred in Wuhan, Hubei Province, China, in December 2019 and January 2020. We analyzed data on the first 425 confirmed cases in Wuhan to determine the epidemiologic characteristics of NCIP. We collected information on demographic characteristics, exposure history, and illness timelines of laboratory-confirmed cases of NCIP that had been reported by January 22, 2020.'\n",
    "\n",
    "headers = {'Content-Type': 'text/plain'}"
   ]
  },
  {
   "cell_type": "code",
   "execution_count": null,
   "id": "appropriate-measurement",
   "metadata": {},
   "outputs": [],
   "source": [
    "req = requests.post(url, data=body, headers=headers)\n",
    "\n",
    "df = pd.read_csv(io.StringIO(req.text), sep='\\t')\n",
    "df.columns = [c.lower().replace(' ', '_') for c in df.columns]\n",
    "df.head()"
   ]
  },
  {
   "cell_type": "markdown",
   "id": "middle-ocean",
   "metadata": {},
   "source": [
    "#### Excersice: Changing output format "
   ]
  },
  {
   "cell_type": "markdown",
   "id": "chubby-newark",
   "metadata": {},
   "source": [
    "Supported output formats:\n",
    "\n",
    "| `[Output_Format]` value | content-type              | description |\n",
    "| :--------------- | :-------------------------: | :----------- |\n",
    "| tsv             | text/tab-separated-values | entities in a tab-separated table |\n",
    "| xml             | text/xml                  | entities in a simple, self-explanatory XML format |\n",
    "| text_tsv        | text/tab-separated-values | text and entities in a tab-separated table |\n",
    "| bioc            | text/xml                  | text and entities in [BioC](http://bioc.sourceforge.net/) XML |\n",
    "| bioc_json       | application/json          | text and entities in [BioC JSON](https://github.com/ncbi-nlp/BioC-JSON) |\n",
    "| pubanno_json    | application/json          | text and entities in [PubAnnotator JSON](http://www.pubannotation.org/docs/annotation-format/) |\n",
    "| pubtator        | text/plain                | text and entities in [PubTator format](https://www.ncbi.nlm.nih.gov/CBBresearch/Lu/Demo/PubTator/tutorial/index.html#ExportannotationinPubTator) (mixture of pipe- and tab-separated text) |\n",
    "| pubtator_fbk    | text/plain                | a variant of the above, with slightly different entity attributes |\n",
    "| odin            | text/xml                  | text and entities in [ODIN](http://www.ontogene.org/odin) XML |\n",
    "| odin_custom     | text/xml                  | text and entities in [ODIN](http://www.ontogene.org/odin) XML, with customisable CSS |"
   ]
  },
  {
   "cell_type": "code",
   "execution_count": null,
   "id": "governmental-association",
   "metadata": {},
   "outputs": [],
   "source": [
    "output_format = 'bioc_json'\n",
    "url = f'https://pub.cl.uzh.ch/projects/ontogene/oger/upload/txt/{output_format}?dict=509f822aaf527390'"
   ]
  },
  {
   "cell_type": "code",
   "execution_count": null,
   "id": "vocational-expert",
   "metadata": {},
   "outputs": [],
   "source": [
    "body = 'The initial cases of novel coronavirus (2019-nCoV)-infected pneumonia (NCIP) occurred in Wuhan, Hubei Province, China, in December 2019 and January 2020. We analyzed data on the first 425 confirmed cases in Wuhan to determine the epidemiologic characteristics of NCIP. We collected information on demographic characteristics, exposure history, and illness timelines of laboratory-confirmed cases of NCIP that had been reported by January 22, 2020.'\n",
    "\n",
    "headers = {'Content-Type': 'text/plain'}"
   ]
  },
  {
   "cell_type": "code",
   "execution_count": null,
   "id": "ceramic-aquarium",
   "metadata": {},
   "outputs": [],
   "source": [
    "req = requests.post(url, data=body, headers=headers)\n",
    "req.content"
   ]
  },
  {
   "cell_type": "markdown",
   "id": "approximate-alabama",
   "metadata": {},
   "source": [
    "## I/O formats\n",
    "### Supported Sources \n",
    "\n",
    "| `source` value | description |\n",
    "| :-------------- | :----------- |\n",
    "| pubmed         | PubMed abstract obtained directly from NCBI. |\n",
    "| pmc            | PubMed Central full-text article obtained directly from NCBI. |\n",
    "\n",
    "### Supported Input  Formats\n",
    "\n",
    "| `Input_Format` value | content-type     | description |\n",
    "| :-------------- | :----------------: | :----------- |\n",
    "| txt            | text/plain       | unstructured plain-text document |\n",
    "| bioc           | text/xml         | document or collection in [BioC](http://bioc.sourceforge.net/) XML |\n",
    "| bioc_json      | application/json | document or collection in [BioC JSON](https://github.com/ncbi-nlp/BioC-JSON) |\n",
    "| pxml           | text/xml         | abstract in PubMed's citation XML |\n",
    "| nxml           | text/xml         | article in PubMed Central's full-text XML |\n",
    "| pxml.gz        | application/gzip | compressed collection of abstracts in Medline's citation XML |\n",
    "\n",
    "\n",
    "### Supported Output Formats\n",
    "\n",
    "| `Output_format` value | content-type              | description |\n",
    "| :--------------- | :-------------------------: | :----------- |\n",
    "| tsv             | text/tab-separated-values | entities in a tab-separated table |\n",
    "| xml             | text/xml                  | entities in a simple, self-explanatory XML format |\n",
    "| text_tsv        | text/tab-separated-values | text and entities in a tab-separated table |\n",
    "| bioc            | text/xml                  | text and entities in [BioC](http://bioc.sourceforge.net/) XML |\n",
    "| bioc_json       | application/json          | text and entities in [BioC JSON](https://github.com/ncbi-nlp/BioC-JSON) |\n",
    "| pubanno_json    | application/json          | text and entities in [PubAnnotator JSON](http://www.pubannotation.org/docs/annotation-format/) |\n",
    "| pubtator        | text/plain                | text and entities in [PubTator format](https://www.ncbi.nlm.nih.gov/CBBresearch/Lu/Demo/PubTator/tutorial/index.html#ExportannotationinPubTator) (mixture of pipe- and tab-separated text) |\n",
    "| pubtator_fbk    | text/plain                | a variant of the above, with slightly different entity attributes |\n",
    "| odin            | text/xml                  | text and entities in [ODIN](http://www.ontogene.org/odin) XML |\n",
    "| odin_custom     | text/xml                  | text and entities in [ODIN](http://www.ontogene.org/odin) XML, with customisable CSS |"
   ]
  },
  {
   "cell_type": "markdown",
   "id": "compact-ethnic",
   "metadata": {},
   "source": [
    "## Extra: Visualization\n",
    "\n",
    "To get a customizable visualization of our annotated output we can use the output format \"odin_custom\". To display the visualization in the browser we need to specify the path to our .css in the xml file by adding the following line: \n",
    "\n",
    "```\n",
    "<?xml-stylesheet type=\"text/css\" href=\"odin_custom.css\"?>\n",
    "```"
   ]
  },
  {
   "cell_type": "code",
   "execution_count": null,
   "id": "existing-application",
   "metadata": {},
   "outputs": [],
   "source": [
    "! curl https://pub.cl.uzh.ch/projects/ontogene/oger/fetch/pubmed/odin_custom/32895599 > demo_viz_32895599.xml"
   ]
  },
  {
   "cell_type": "code",
   "execution_count": null,
   "id": "several-blanket",
   "metadata": {},
   "outputs": [],
   "source": []
  }
 ],
 "metadata": {
  "kernelspec": {
   "display_name": "Python 3",
   "language": "python",
   "name": "python3"
  },
  "language_info": {
   "codemirror_mode": {
    "name": "ipython",
    "version": 3
   },
   "file_extension": ".py",
   "mimetype": "text/x-python",
   "name": "python",
   "nbconvert_exporter": "python",
   "pygments_lexer": "ipython3",
   "version": "3.8.2"
  }
 },
 "nbformat": 4,
 "nbformat_minor": 5
}
