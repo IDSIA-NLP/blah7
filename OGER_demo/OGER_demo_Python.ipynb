{
 "cells": [
  {
   "cell_type": "markdown",
   "id": "important-zambia",
   "metadata": {},
   "source": [
    "# Analyzing COVID-19 literature with OGER\n",
    "In this very short tutorial we show how to annotate an article using the OGER web API.\n",
    "\n",
    "More information about OGER:\n",
    "- [OGER Github repository](https://github.com/OntoGene/OGER)\n",
    "- [Introduction to OGER web APIs](https://covid19.nlp.idsia.ch/oger-rest.html)\n",
    "- [OGER introduction video](https://files.ifi.uzh.ch/cl/rinaldi/ISMB2020/ismb-609.mp4)\n",
    "- [BLAH7 OGER project page](https://coree.github.io/blah7/)"
   ]
  },
  {
   "cell_type": "code",
   "execution_count": 11,
   "id": "peripheral-falls",
   "metadata": {},
   "outputs": [],
   "source": [
    "import requests\n",
    "import pandas as pd\n",
    "import io"
   ]
  },
  {
   "cell_type": "markdown",
   "id": "royal-burlington",
   "metadata": {},
   "source": [
    "## Analyzing PubMed articles with OGER\n",
    "\n",
    "Annotate an article obtained from a remote repository (fetch).\n",
    "We can request the annotation of a PubMed abstract by using the fetch endpoint. We need to specify which source to consider. Currently only Pubmed (pubmed) and PubMed Central (pmc) are enabled. Next we ned to provide the output format. And finally we need to provide the ID of the resource that we intend to process.\n",
    "\n",
    "`'https://pub.cl.uzh.ch/projects/ontogene/oger/fetch/[Source]/[Output_Format]/[Document_ID]'`\n",
    "\n",
    "Here we use PubMed as source and want a .tsv file as return."
   ]
  },
  {
   "cell_type": "markdown",
   "id": "whole-pixel",
   "metadata": {},
   "source": [
    "Identify articles in PubMed that contain the drug and COVID-19. For example: \n",
    "- [PubMed:32445440](https://pubmed.ncbi.nlm.nih.gov/32445440/) *Remdesivir for the Treatment of Covid-19 - Final Report*\n",
    "- [PubMed:32895599](https://pubmed.ncbi.nlm.nih.gov/32895599/) *Favipiravir: A new and emerging antiviral option in COVID-19*\n"
   ]
  },
  {
   "cell_type": "markdown",
   "id": "enabling-phoenix",
   "metadata": {},
   "source": [
    "### Shell \n",
    "For example let's assume that we want to process the PubMed abstract 32895599.\n",
    "\n",
    "The output will be delivered to your shell (standard output), so you might want to redirect to a file, e.g.\n",
    "\n",
    "`curl https://pub.cl.uzh.ch/projects/ontogene/oger/fetch/pubmed/tsv/21436587 > 21436587.tsv`"
   ]
  },
  {
   "cell_type": "code",
   "execution_count": 12,
   "id": "racial-fifth",
   "metadata": {},
   "outputs": [
    {
     "name": "stdout",
     "output_type": "stream",
     "text": [
      "DOCUMENT ID\tTYPE\tSTART POSITION\tEND POSITION\tMATCHED TERM\tPREFERRED FORM\tENTITY ID\tZONE\tSENTENCE ID\tORIGIN\tUMLS CUI\r\n",
      "32895599\tchemical\t0\t11\tFavipiravir\tfavipiravir\tCHEBI:134722\tTitle\tS1\tChEBI\tCUI-less\r\n",
      "32895599\tchemical\t0\t11\tFavipiravir\tfavipiravir\tC462182\tTitle\tS1\tMeSH supp (Chemicals and Drugs)\tC1138226\r\n",
      "32895599\tchemical\t0\t11\tFavipiravir\tfavipiravir\tC462182\tTitle\tS1\tCTD (MESH)\tC1138226\r\n",
      "32895599\tchemical\t32\t41\tantiviral\tantiviral agent\tCHEBI:22587\tTitle\tS1\tChEBI\tCUI-less\r\n",
      "32895599\tdisease\t52\t60\tCOVID-19\tCOVID-19\tC000657245\tTitle\tS1\tMeSH supp (Diseases)\tCUI-less\r\n",
      "32895599\torgan/tissue\t114\t119\tglobe\teyeball of camera-type eye\tUBERON:0010230\tAbstract\tS2\tUberon\tCUI-less\r\n",
      "32895599\tgene/protein\t125\t129\tSARS\tserine--tRNA ligase, cytoplasmic (rat)\tPR:Q6P799\tAbstract\tS2\tProtein Ontology\tCUI-less\r\n",
      "32895599\tgene/protein\t125\t129\tSARS\tHTH-type transcriptional regulator SarS (Staphylococcus aureus subsp. aureus NCTC 8325)\tPR:Q2G1N7\tAbstract\tS2\tProtein Ontology\tCUI-less\r\n",
      "32895599\tgene/protein\t125\t129\tSARS\tserine--tRNA ligase, cytoplasmic (mouse)\tPR:P26638\tAbstract\tS2\tProtein Ontology\tCUI-less\r\n",
      "32895599\tgene/protein\t125\t129\tSARS\tserine--tRNA ligase, cytoplasmic (human)\tPR:P49591\tAbstract\tS2\tProtein Ontology\tCUI-less\r\n",
      "32895599\tgene/protein\t125\t129\tSARS\tserine--tRNA ligase, cytoplasmic (zebrafish)\tPR:Q6DRC0\tAbstract\tS2\tProtein Ontology\tCUI-less\r\n",
      "32895599\tgene/protein\t125\t129\tSARS\tserine--tRNA ligase, cytoplasmic\tPR:000014459\tAbstract\tS2\tProtein Ontology\tCUI-less\r\n",
      "32895599\torganism\t125\t135\tSARS-CoV-2\tsevere acute respiratory syndrome coronavirus 2\tC000656484\tAbstract\tS2\tMeSH supp (Organisms)\tCUI-less\r\n",
      "32895599\tgene/protein\t191\t197\timpact\tprotein IMPACT homolog (Dictyostelium discoideum)\tPR:Q54JW9\tAbstract\tS2\tProtein Ontology\tCUI-less\r\n",
      "32895599\tgene/protein\t191\t197\timpact\tprotein IMPACT (zebrafish)\tPR:Q642J4\tAbstract\tS2\tProtein Ontology\tCUI-less\r\n",
      "32895599\tchemical\t236\t241\tdrugs\tdrug\tCHEBI:23888\tAbstract\tS3\tChEBI\tCUI-less\r\n",
      "32895599\tdisease\t257\t264\tdisease\tDisease\tD004194\tAbstract\tS3\tCTD (MESH)\tC0012634\r\n",
      "32895599\tdisease\t257\t264\tdisease\tDisease\tD004194\tAbstract\tS3\tMeSH desc (Diseases)\tC0012634\r\n",
      "32895599\tchemical\t324\t329\tdrugs\tdrug\tCHEBI:23888\tAbstract\tS3\tChEBI\tCUI-less\r\n",
      "32895599\torganism\t371\t382\tcoronavirus\tCoronavirus\tD017934\tAbstract\tS3\tMeSH desc (Organisms)\tC0206419\r\n",
      "32895599\tchemical\t395\t400\tdrugs\tdrug\tCHEBI:23888\tAbstract\tS4\tChEBI\tCUI-less\r\n",
      "32895599\tchemical\t472\t487\tanti-viral drug\tantiviral drug\tCHEBI:36044\tAbstract\tS4\tChEBI\tCUI-less\r\n",
      "32895599\tdisease\t512\t521\tinfluenza\tInfluenza, Human\tD007251\tAbstract\tS4\tMeSH desc (Diseases)\tC0021400\r\n",
      "32895599\tdisease\t512\t521\tinfluenza\tInfluenza, Human\tD007251\tAbstract\tS4\tCTD (MESH)\tC0021400\r\n",
      "32895599\tchemical\t530\t541\tfavipiravir\tfavipiravir\tCHEBI:134722\tAbstract\tS4\tChEBI\tCUI-less\r\n",
      "32895599\tchemical\t530\t541\tfavipiravir\tfavipiravir\tC462182\tAbstract\tS4\tMeSH supp (Chemicals and Drugs)\tC1138226\r\n",
      "32895599\tchemical\t530\t541\tfavipiravir\tfavipiravir\tC462182\tAbstract\tS4\tCTD (MESH)\tC1138226\r\n",
      "32895599\tchemical\t632\t636\tdrug\tdrug\tCHEBI:23888\tAbstract\tS5\tChEBI\tCUI-less\r\n",
      "32895599\tdisease\t719\t727\tCOVID-19\tCOVID-19\tC000657245\tAbstract\tS5\tMeSH supp (Diseases)\tCUI-less\r\n"
     ]
    }
   ],
   "source": [
    "! curl https://pub.cl.uzh.ch/projects/ontogene/oger/fetch/pubmed/tsv/32895599"
   ]
  },
  {
   "cell_type": "markdown",
   "id": "numeric-illustration",
   "metadata": {},
   "source": [
    "### Python\n"
   ]
  },
  {
   "cell_type": "code",
   "execution_count": 13,
   "id": "electric-london",
   "metadata": {},
   "outputs": [],
   "source": [
    "url = 'https://pub.cl.uzh.ch/projects/ontogene/oger/fetch/pubmed/tsv/32895599'"
   ]
  },
  {
   "cell_type": "code",
   "execution_count": 14,
   "id": "beneficial-queen",
   "metadata": {},
   "outputs": [],
   "source": [
    "req = requests.get(url)  \n",
    "df = pd.read_csv(io.StringIO(req.text), sep='\\t')"
   ]
  },
  {
   "cell_type": "code",
   "execution_count": 15,
   "id": "satisfied-cable",
   "metadata": {},
   "outputs": [],
   "source": [
    "df.columns = [c.lower().replace(' ', '_') for c in df.columns]"
   ]
  },
  {
   "cell_type": "code",
   "execution_count": 16,
   "id": "reverse-crack",
   "metadata": {},
   "outputs": [
    {
     "data": {
      "text/html": [
       "<div>\n",
       "<style scoped>\n",
       "    .dataframe tbody tr th:only-of-type {\n",
       "        vertical-align: middle;\n",
       "    }\n",
       "\n",
       "    .dataframe tbody tr th {\n",
       "        vertical-align: top;\n",
       "    }\n",
       "\n",
       "    .dataframe thead th {\n",
       "        text-align: right;\n",
       "    }\n",
       "</style>\n",
       "<table border=\"1\" class=\"dataframe\">\n",
       "  <thead>\n",
       "    <tr style=\"text-align: right;\">\n",
       "      <th></th>\n",
       "      <th>document_id</th>\n",
       "      <th>type</th>\n",
       "      <th>start_position</th>\n",
       "      <th>end_position</th>\n",
       "      <th>matched_term</th>\n",
       "      <th>preferred_form</th>\n",
       "      <th>entity_id</th>\n",
       "      <th>zone</th>\n",
       "      <th>sentence_id</th>\n",
       "      <th>origin</th>\n",
       "      <th>umls_cui</th>\n",
       "    </tr>\n",
       "  </thead>\n",
       "  <tbody>\n",
       "    <tr>\n",
       "      <th>0</th>\n",
       "      <td>32895599</td>\n",
       "      <td>chemical</td>\n",
       "      <td>0</td>\n",
       "      <td>11</td>\n",
       "      <td>Favipiravir</td>\n",
       "      <td>favipiravir</td>\n",
       "      <td>CHEBI:134722</td>\n",
       "      <td>Title</td>\n",
       "      <td>S1</td>\n",
       "      <td>ChEBI</td>\n",
       "      <td>CUI-less</td>\n",
       "    </tr>\n",
       "    <tr>\n",
       "      <th>1</th>\n",
       "      <td>32895599</td>\n",
       "      <td>chemical</td>\n",
       "      <td>0</td>\n",
       "      <td>11</td>\n",
       "      <td>Favipiravir</td>\n",
       "      <td>favipiravir</td>\n",
       "      <td>C462182</td>\n",
       "      <td>Title</td>\n",
       "      <td>S1</td>\n",
       "      <td>MeSH supp (Chemicals and Drugs)</td>\n",
       "      <td>C1138226</td>\n",
       "    </tr>\n",
       "    <tr>\n",
       "      <th>2</th>\n",
       "      <td>32895599</td>\n",
       "      <td>chemical</td>\n",
       "      <td>0</td>\n",
       "      <td>11</td>\n",
       "      <td>Favipiravir</td>\n",
       "      <td>favipiravir</td>\n",
       "      <td>C462182</td>\n",
       "      <td>Title</td>\n",
       "      <td>S1</td>\n",
       "      <td>CTD (MESH)</td>\n",
       "      <td>C1138226</td>\n",
       "    </tr>\n",
       "    <tr>\n",
       "      <th>3</th>\n",
       "      <td>32895599</td>\n",
       "      <td>chemical</td>\n",
       "      <td>32</td>\n",
       "      <td>41</td>\n",
       "      <td>antiviral</td>\n",
       "      <td>antiviral agent</td>\n",
       "      <td>CHEBI:22587</td>\n",
       "      <td>Title</td>\n",
       "      <td>S1</td>\n",
       "      <td>ChEBI</td>\n",
       "      <td>CUI-less</td>\n",
       "    </tr>\n",
       "    <tr>\n",
       "      <th>4</th>\n",
       "      <td>32895599</td>\n",
       "      <td>disease</td>\n",
       "      <td>52</td>\n",
       "      <td>60</td>\n",
       "      <td>COVID-19</td>\n",
       "      <td>COVID-19</td>\n",
       "      <td>C000657245</td>\n",
       "      <td>Title</td>\n",
       "      <td>S1</td>\n",
       "      <td>MeSH supp (Diseases)</td>\n",
       "      <td>CUI-less</td>\n",
       "    </tr>\n",
       "  </tbody>\n",
       "</table>\n",
       "</div>"
      ],
      "text/plain": [
       "   document_id      type  start_position  end_position matched_term  \\\n",
       "0     32895599  chemical               0            11  Favipiravir   \n",
       "1     32895599  chemical               0            11  Favipiravir   \n",
       "2     32895599  chemical               0            11  Favipiravir   \n",
       "3     32895599  chemical              32            41    antiviral   \n",
       "4     32895599   disease              52            60     COVID-19   \n",
       "\n",
       "    preferred_form     entity_id   zone sentence_id  \\\n",
       "0      favipiravir  CHEBI:134722  Title          S1   \n",
       "1      favipiravir       C462182  Title          S1   \n",
       "2      favipiravir       C462182  Title          S1   \n",
       "3  antiviral agent   CHEBI:22587  Title          S1   \n",
       "4         COVID-19    C000657245  Title          S1   \n",
       "\n",
       "                            origin  umls_cui  \n",
       "0                            ChEBI  CUI-less  \n",
       "1  MeSH supp (Chemicals and Drugs)  C1138226  \n",
       "2                       CTD (MESH)  C1138226  \n",
       "3                            ChEBI  CUI-less  \n",
       "4             MeSH supp (Diseases)  CUI-less  "
      ]
     },
     "execution_count": 16,
     "metadata": {},
     "output_type": "execute_result"
    }
   ],
   "source": [
    "df.head()"
   ]
  },
  {
   "cell_type": "markdown",
   "id": "comparative-india",
   "metadata": {},
   "source": [
    "#### Exercise: Reconsturcting annotated sentences \n",
    "In order to reconstruct the sentences, you will have to use a different output format for OGER. Try with the `text_tsv` format."
   ]
  },
  {
   "cell_type": "code",
   "execution_count": 17,
   "id": "bronze-harrison",
   "metadata": {},
   "outputs": [
    {
     "data": {
      "text/html": [
       "<div>\n",
       "<style scoped>\n",
       "    .dataframe tbody tr th:only-of-type {\n",
       "        vertical-align: middle;\n",
       "    }\n",
       "\n",
       "    .dataframe tbody tr th {\n",
       "        vertical-align: top;\n",
       "    }\n",
       "\n",
       "    .dataframe thead th {\n",
       "        text-align: right;\n",
       "    }\n",
       "</style>\n",
       "<table border=\"1\" class=\"dataframe\">\n",
       "  <thead>\n",
       "    <tr style=\"text-align: right;\">\n",
       "      <th></th>\n",
       "      <th>document_id</th>\n",
       "      <th>type</th>\n",
       "      <th>start_position</th>\n",
       "      <th>end_position</th>\n",
       "      <th>matched_term</th>\n",
       "      <th>preferred_form</th>\n",
       "      <th>entity_id</th>\n",
       "      <th>zone</th>\n",
       "      <th>sentence_id</th>\n",
       "      <th>origin</th>\n",
       "      <th>umls_cui</th>\n",
       "    </tr>\n",
       "  </thead>\n",
       "  <tbody>\n",
       "    <tr>\n",
       "      <th>0</th>\n",
       "      <td>32895599</td>\n",
       "      <td>chemical</td>\n",
       "      <td>0</td>\n",
       "      <td>11</td>\n",
       "      <td>Favipiravir</td>\n",
       "      <td>favipiravir</td>\n",
       "      <td>CHEBI:134722</td>\n",
       "      <td>Title</td>\n",
       "      <td>S1</td>\n",
       "      <td>ChEBI</td>\n",
       "      <td>CUI-less</td>\n",
       "    </tr>\n",
       "    <tr>\n",
       "      <th>1</th>\n",
       "      <td>32895599</td>\n",
       "      <td>chemical</td>\n",
       "      <td>0</td>\n",
       "      <td>11</td>\n",
       "      <td>Favipiravir</td>\n",
       "      <td>favipiravir</td>\n",
       "      <td>C462182</td>\n",
       "      <td>Title</td>\n",
       "      <td>S1</td>\n",
       "      <td>MeSH supp (Chemicals and Drugs)</td>\n",
       "      <td>C1138226</td>\n",
       "    </tr>\n",
       "    <tr>\n",
       "      <th>2</th>\n",
       "      <td>32895599</td>\n",
       "      <td>chemical</td>\n",
       "      <td>0</td>\n",
       "      <td>11</td>\n",
       "      <td>Favipiravir</td>\n",
       "      <td>favipiravir</td>\n",
       "      <td>C462182</td>\n",
       "      <td>Title</td>\n",
       "      <td>S1</td>\n",
       "      <td>CTD (MESH)</td>\n",
       "      <td>C1138226</td>\n",
       "    </tr>\n",
       "    <tr>\n",
       "      <th>3</th>\n",
       "      <td>32895599</td>\n",
       "      <td>NaN</td>\n",
       "      <td>11</td>\n",
       "      <td>12</td>\n",
       "      <td>:</td>\n",
       "      <td>NaN</td>\n",
       "      <td>NaN</td>\n",
       "      <td>NaN</td>\n",
       "      <td>S1</td>\n",
       "      <td>NaN</td>\n",
       "      <td>NaN</td>\n",
       "    </tr>\n",
       "    <tr>\n",
       "      <th>4</th>\n",
       "      <td>32895599</td>\n",
       "      <td>NaN</td>\n",
       "      <td>13</td>\n",
       "      <td>14</td>\n",
       "      <td>A</td>\n",
       "      <td>NaN</td>\n",
       "      <td>NaN</td>\n",
       "      <td>NaN</td>\n",
       "      <td>S1</td>\n",
       "      <td>NaN</td>\n",
       "      <td>NaN</td>\n",
       "    </tr>\n",
       "  </tbody>\n",
       "</table>\n",
       "</div>"
      ],
      "text/plain": [
       "   document_id      type  start_position  end_position matched_term  \\\n",
       "0     32895599  chemical               0            11  Favipiravir   \n",
       "1     32895599  chemical               0            11  Favipiravir   \n",
       "2     32895599  chemical               0            11  Favipiravir   \n",
       "3     32895599       NaN              11            12            :   \n",
       "4     32895599       NaN              13            14            A   \n",
       "\n",
       "  preferred_form     entity_id   zone sentence_id  \\\n",
       "0    favipiravir  CHEBI:134722  Title          S1   \n",
       "1    favipiravir       C462182  Title          S1   \n",
       "2    favipiravir       C462182  Title          S1   \n",
       "3            NaN           NaN    NaN          S1   \n",
       "4            NaN           NaN    NaN          S1   \n",
       "\n",
       "                            origin  umls_cui  \n",
       "0                            ChEBI  CUI-less  \n",
       "1  MeSH supp (Chemicals and Drugs)  C1138226  \n",
       "2                       CTD (MESH)  C1138226  \n",
       "3                              NaN       NaN  \n",
       "4                              NaN       NaN  "
      ]
     },
     "execution_count": 17,
     "metadata": {},
     "output_type": "execute_result"
    }
   ],
   "source": [
    "url = 'https://pub.cl.uzh.ch/projects/ontogene/oger/fetch/pubmed/text_tsv/32895599'\n",
    "\n",
    "req = requests.get(url)  \n",
    "\n",
    "df = pd.read_csv(io.StringIO(req.text), sep='\\t')\n",
    "df.columns = [c.lower().replace(' ', '_') for c in df.columns]\n",
    "df.head()"
   ]
  },
  {
   "cell_type": "markdown",
   "id": "enormous-stock",
   "metadata": {},
   "source": [
    "## Analyzing plain text articles with OGER\n",
    "\n",
    "We can request the annotation of local data by doing a POST to the /upload endpoint and passing the route parameters that specify the input and output format.\n",
    "\n",
    "The URL of the request will be composed of the base URL (https://pub.cl.uzh.ch/projects/ontogene/oger/), the target endpoint (upload), the input format specification and the output format specification, so the final URL will be:\n",
    "\n",
    "`https://pub.cl.uzh.ch/projects/ontogene/oger/upload/[Input_Format]/[Output_Format]`\n"
   ]
  },
  {
   "cell_type": "markdown",
   "id": "determined-preview",
   "metadata": {},
   "source": [
    "### Shell \n",
    "Below there is an example of the request. In this example the uploaded data is raw text (txt), the requested output format is a tabular table (tsv) and the text to be annotated is passed in the POST payload."
   ]
  },
  {
   "cell_type": "code",
   "execution_count": 18,
   "id": "expressed-malta",
   "metadata": {},
   "outputs": [
    {
     "name": "stdout",
     "output_type": "stream",
     "text": [
      "DOCUMENT ID\tTYPE\tSTART POSITION\tEND POSITION\tMATCHED TERM\tPREFERRED FORM\tENTITY ID\tZONE\tSENTENCE ID\tORIGIN\tUMLS CUI\r\n",
      "unknown\torganism\t27\t38\tcoronavirus\tCoronavirus\tD017934\t\tS1\tMeSH desc (Organisms)\tC0206419\r\n",
      "unknown\torganism\t40\t49\t2019-nCoV\tsevere acute respiratory syndrome coronavirus 2\tC000656484\t\tS1\tMeSH supp (Organisms)\tCUI-less\r\n",
      "unknown\tdisease\t61\t70\tpneumonia\tPneumonia\tD011014\t\tS1\tMeSH desc (Diseases)\tC0032285\r\n",
      "unknown\tdisease\t61\t70\tpneumonia\tPneumonia\tD011014\t\tS1\tCTD (MESH)\tC0032285\r\n"
     ]
    }
   ],
   "source": [
    "! curl --location \\\n",
    "--request POST 'https://pub.cl.uzh.ch/projects/ontogene/oger/upload/txt/tsv' \\\n",
    "--header 'Content-Type: text/plain' \\\n",
    "--data-raw 'The initial cases of novel coronavirus (2019-nCoV)-infected \\\n",
    "pneumonia (NCIP) occurred in Wuhan, Hubei Province, China, in December 2019 \\\n",
    "and January 2020. \\\n",
    "We analyzed data on the first 425 confirmed cases in Wuhan to \\\n",
    "determine the epidemiologic characteristics of NCIP.We collected \\\n",
    "information on demographic characteristics, exposure history, and \\\n",
    "illness timelines of laboratory-confirmed cases of NCIP that had been \\\n",
    "reported by January 22, 2020.' "
   ]
  },
  {
   "cell_type": "markdown",
   "id": "qualified-sugar",
   "metadata": {},
   "source": [
    "### Python\n",
    "Here we use plain text as input format and want to retrieve a .tsv file."
   ]
  },
  {
   "cell_type": "code",
   "execution_count": 19,
   "id": "changed-colors",
   "metadata": {},
   "outputs": [],
   "source": [
    "url = 'https://pub.cl.uzh.ch/projects/ontogene/oger/upload/txt/tsv?dict=509f822aaf527390'\n",
    "\n",
    "body = 'The initial cases of novel coronavirus (2019-nCoV)-infected pneumonia (NCIP) occurred in Wuhan, Hubei Province, China, in December 2019 and January 2020. We analyzed data on the first 425 confirmed cases in Wuhan to determine the epidemiologic characteristics of NCIP. We collected information on demographic characteristics, exposure history, and illness timelines of laboratory-confirmed cases of NCIP that had been reported by January 22, 2020.'\n",
    "\n",
    "headers = {'Content-Type': 'text/plain'}"
   ]
  },
  {
   "cell_type": "code",
   "execution_count": 20,
   "id": "appropriate-measurement",
   "metadata": {},
   "outputs": [
    {
     "data": {
      "text/html": [
       "<div>\n",
       "<style scoped>\n",
       "    .dataframe tbody tr th:only-of-type {\n",
       "        vertical-align: middle;\n",
       "    }\n",
       "\n",
       "    .dataframe tbody tr th {\n",
       "        vertical-align: top;\n",
       "    }\n",
       "\n",
       "    .dataframe thead th {\n",
       "        text-align: right;\n",
       "    }\n",
       "</style>\n",
       "<table border=\"1\" class=\"dataframe\">\n",
       "  <thead>\n",
       "    <tr style=\"text-align: right;\">\n",
       "      <th></th>\n",
       "      <th>document_id</th>\n",
       "      <th>type</th>\n",
       "      <th>start_position</th>\n",
       "      <th>end_position</th>\n",
       "      <th>matched_term</th>\n",
       "      <th>preferred_form</th>\n",
       "      <th>entity_id</th>\n",
       "      <th>zone</th>\n",
       "      <th>sentence_id</th>\n",
       "      <th>origin</th>\n",
       "      <th>umls_cui</th>\n",
       "    </tr>\n",
       "  </thead>\n",
       "  <tbody>\n",
       "    <tr>\n",
       "      <th>0</th>\n",
       "      <td>unknown</td>\n",
       "      <td>organism</td>\n",
       "      <td>27</td>\n",
       "      <td>38</td>\n",
       "      <td>coronavirus</td>\n",
       "      <td>Coronavirus</td>\n",
       "      <td>D017934</td>\n",
       "      <td>NaN</td>\n",
       "      <td>S1</td>\n",
       "      <td>MeSH desc (Organisms)</td>\n",
       "      <td>C0206419</td>\n",
       "    </tr>\n",
       "    <tr>\n",
       "      <th>1</th>\n",
       "      <td>unknown</td>\n",
       "      <td>organism</td>\n",
       "      <td>40</td>\n",
       "      <td>49</td>\n",
       "      <td>2019-nCoV</td>\n",
       "      <td>severe acute respiratory syndrome coronavirus 2</td>\n",
       "      <td>C000656484</td>\n",
       "      <td>NaN</td>\n",
       "      <td>S1</td>\n",
       "      <td>MeSH supp (Organisms)</td>\n",
       "      <td>CUI-less</td>\n",
       "    </tr>\n",
       "    <tr>\n",
       "      <th>2</th>\n",
       "      <td>unknown</td>\n",
       "      <td>disease</td>\n",
       "      <td>60</td>\n",
       "      <td>69</td>\n",
       "      <td>pneumonia</td>\n",
       "      <td>Pneumonia</td>\n",
       "      <td>D011014</td>\n",
       "      <td>NaN</td>\n",
       "      <td>S1</td>\n",
       "      <td>MeSH desc (Diseases)</td>\n",
       "      <td>C0032285</td>\n",
       "    </tr>\n",
       "    <tr>\n",
       "      <th>3</th>\n",
       "      <td>unknown</td>\n",
       "      <td>disease</td>\n",
       "      <td>60</td>\n",
       "      <td>69</td>\n",
       "      <td>pneumonia</td>\n",
       "      <td>Pneumonia</td>\n",
       "      <td>D011014</td>\n",
       "      <td>NaN</td>\n",
       "      <td>S1</td>\n",
       "      <td>CTD (MESH)</td>\n",
       "      <td>C0032285</td>\n",
       "    </tr>\n",
       "  </tbody>\n",
       "</table>\n",
       "</div>"
      ],
      "text/plain": [
       "  document_id      type  start_position  end_position matched_term  \\\n",
       "0     unknown  organism              27            38  coronavirus   \n",
       "1     unknown  organism              40            49    2019-nCoV   \n",
       "2     unknown   disease              60            69    pneumonia   \n",
       "3     unknown   disease              60            69    pneumonia   \n",
       "\n",
       "                                    preferred_form   entity_id  zone  \\\n",
       "0                                      Coronavirus     D017934   NaN   \n",
       "1  severe acute respiratory syndrome coronavirus 2  C000656484   NaN   \n",
       "2                                        Pneumonia     D011014   NaN   \n",
       "3                                        Pneumonia     D011014   NaN   \n",
       "\n",
       "  sentence_id                 origin  umls_cui  \n",
       "0          S1  MeSH desc (Organisms)  C0206419  \n",
       "1          S1  MeSH supp (Organisms)  CUI-less  \n",
       "2          S1   MeSH desc (Diseases)  C0032285  \n",
       "3          S1             CTD (MESH)  C0032285  "
      ]
     },
     "execution_count": 20,
     "metadata": {},
     "output_type": "execute_result"
    }
   ],
   "source": [
    "req = requests.post(url, data=body, headers=headers)\n",
    "\n",
    "df = pd.read_csv(io.StringIO(req.text), sep='\\t')\n",
    "df.columns = [c.lower().replace(' ', '_') for c in df.columns]\n",
    "df.head()"
   ]
  },
  {
   "cell_type": "markdown",
   "id": "middle-ocean",
   "metadata": {},
   "source": [
    "#### Excersice: Changing output format "
   ]
  },
  {
   "cell_type": "markdown",
   "id": "chubby-newark",
   "metadata": {},
   "source": [
    "Supported output formats:\n",
    "\n",
    "| `[Output_Format]` value | content-type              | description |\n",
    "| :--------------- | :-------------------------: | :----------- |\n",
    "| tsv             | text/tab-separated-values | entities in a tab-separated table |\n",
    "| xml             | text/xml                  | entities in a simple, self-explanatory XML format |\n",
    "| text_tsv        | text/tab-separated-values | text and entities in a tab-separated table |\n",
    "| bioc            | text/xml                  | text and entities in [BioC](http://bioc.sourceforge.net/) XML |\n",
    "| bioc_json       | application/json          | text and entities in [BioC JSON](https://github.com/ncbi-nlp/BioC-JSON) |\n",
    "| pubanno_json    | application/json          | text and entities in [PubAnnotator JSON](http://www.pubannotation.org/docs/annotation-format/) |\n",
    "| pubtator        | text/plain                | text and entities in [PubTator format](https://www.ncbi.nlm.nih.gov/CBBresearch/Lu/Demo/PubTator/tutorial/index.html#ExportannotationinPubTator) (mixture of pipe- and tab-separated text) |\n",
    "| pubtator_fbk    | text/plain                | a variant of the above, with slightly different entity attributes |\n",
    "| odin            | text/xml                  | text and entities in [ODIN](http://www.ontogene.org/odin) XML |\n",
    "| odin_custom     | text/xml                  | text and entities in [ODIN](http://www.ontogene.org/odin) XML, with customisable CSS |"
   ]
  },
  {
   "cell_type": "code",
   "execution_count": 21,
   "id": "governmental-association",
   "metadata": {},
   "outputs": [],
   "source": [
    "output_format = 'bioc_json'\n",
    "url = f'https://pub.cl.uzh.ch/projects/ontogene/oger/upload/txt/{output_format}?dict=509f822aaf527390'"
   ]
  },
  {
   "cell_type": "code",
   "execution_count": 22,
   "id": "vocational-expert",
   "metadata": {},
   "outputs": [],
   "source": [
    "body = 'The initial cases of novel coronavirus (2019-nCoV)-infected pneumonia (NCIP) occurred in Wuhan, Hubei Province, China, in December 2019 and January 2020. We analyzed data on the first 425 confirmed cases in Wuhan to determine the epidemiologic characteristics of NCIP. We collected information on demographic characteristics, exposure history, and illness timelines of laboratory-confirmed cases of NCIP that had been reported by January 22, 2020.'\n",
    "\n",
    "headers = {'Content-Type': 'text/plain'}"
   ]
  },
  {
   "cell_type": "code",
   "execution_count": 23,
   "id": "ceramic-aquarium",
   "metadata": {},
   "outputs": [
    {
     "data": {
      "text/plain": [
       "b'{\\n  \"source\": \"\",\\n  \"date\": \"\",\\n  \"key\": \"\",\\n  \"infons\": {},\\n  \"documents\": [\\n    {\\n      \"relations\": [],\\n      \"id\": \"unknown\",\\n      \"infons\": {},\\n      \"passages\": [\\n        {\\n          \"relations\": [],\\n          \"text\": \"The initial cases of novel coronavirus (2019-nCoV)-infected pneumonia (NCIP) occurred in Wuhan, Hubei Province, China, in December 2019 and January 2020. We analyzed data on the first 425 confirmed cases in Wuhan to determine the epidemiologic characteristics of NCIP. We collected information on demographic characteristics, exposure history, and illness timelines of laboratory-confirmed cases of NCIP that had been reported by January 22, 2020.\",\\n          \"infons\": {\\n            \"type\": \"\"\\n          },\\n          \"offset\": 0,\\n          \"annotations\": [\\n            {\\n              \"text\": \"coronavirus\",\\n              \"id\": \"1\",\\n              \"infons\": {\\n                \"preferred_form\": \"Coronavirus\",\\n                \"original_resource\": \"MeSH desc (Organisms)\",\\n                \"umls_cui\": \"C0206419\",\\n                \"native_id\": \"D017934\",\\n                \"type\": \"organism\"\\n              },\\n              \"locations\": [\\n                {\\n                  \"length\": 11,\\n                  \"offset\": 27\\n                }\\n              ]\\n            },\\n            {\\n              \"text\": \"2019-nCoV\",\\n              \"id\": \"2\",\\n              \"infons\": {\\n                \"preferred_form\": \"severe acute respiratory syndrome coronavirus 2\",\\n                \"original_resource\": \"MeSH supp (Organisms)\",\\n                \"umls_cui\": \"CUI-less\",\\n                \"native_id\": \"C000656484\",\\n                \"type\": \"organism\"\\n              },\\n              \"locations\": [\\n                {\\n                  \"length\": 9,\\n                  \"offset\": 40\\n                }\\n              ]\\n            },\\n            {\\n              \"text\": \"pneumonia\",\\n              \"id\": \"3\",\\n              \"infons\": {\\n                \"preferred_form\": \"Pneumonia\",\\n                \"original_resource\": \"MeSH desc (Diseases)\",\\n                \"umls_cui\": \"C0032285\",\\n                \"native_id\": \"D011014\",\\n                \"type\": \"disease\"\\n              },\\n              \"locations\": [\\n                {\\n                  \"length\": 9,\\n                  \"offset\": 60\\n                }\\n              ]\\n            },\\n            {\\n              \"text\": \"pneumonia\",\\n              \"id\": \"4\",\\n              \"infons\": {\\n                \"preferred_form\": \"Pneumonia\",\\n                \"original_resource\": \"CTD (MESH)\",\\n                \"umls_cui\": \"C0032285\",\\n                \"native_id\": \"D011014\",\\n                \"type\": \"disease\"\\n              },\\n              \"locations\": [\\n                {\\n                  \"length\": 9,\\n                  \"offset\": 60\\n                }\\n              ]\\n            }\\n          ],\\n          \"sentences\": []\\n        }\\n      ]\\n    }\\n  ]\\n}'"
      ]
     },
     "execution_count": 23,
     "metadata": {},
     "output_type": "execute_result"
    }
   ],
   "source": [
    "req = requests.post(url, data=body, headers=headers)\n",
    "req.content"
   ]
  },
  {
   "cell_type": "markdown",
   "id": "spanish-grove",
   "metadata": {},
   "source": [
    "## I/O formats\n",
    "### Supported Sources \n",
    "\n",
    "| `source` value | description |\n",
    "| :-------------- | :----------- |\n",
    "| pubmed         | PubMed abstract obtained directly from NCBI. |\n",
    "| pmc            | PubMed Central full-text article obtained directly from NCBI. |\n",
    "\n",
    "### Supported Input  Formats\n",
    "\n",
    "| `Input_Format` value | content-type     | description |\n",
    "| :-------------- | :----------------: | :----------- |\n",
    "| txt            | text/plain       | unstructured plain-text document |\n",
    "| bioc           | text/xml         | document or collection in [BioC](http://bioc.sourceforge.net/) XML |\n",
    "| bioc_json      | application/json | document or collection in [BioC JSON](https://github.com/ncbi-nlp/BioC-JSON) |\n",
    "| pxml           | text/xml         | abstract in PubMed's citation XML |\n",
    "| nxml           | text/xml         | article in PubMed Central's full-text XML |\n",
    "| pxml.gz        | application/gzip | compressed collection of abstracts in Medline's citation XML |\n",
    "\n",
    "\n",
    "### Supported Output Formats\n",
    "\n",
    "| `Output_format` value | content-type              | description |\n",
    "| :--------------- | :-------------------------: | :----------- |\n",
    "| tsv             | text/tab-separated-values | entities in a tab-separated table |\n",
    "| xml             | text/xml                  | entities in a simple, self-explanatory XML format |\n",
    "| text_tsv        | text/tab-separated-values | text and entities in a tab-separated table |\n",
    "| bioc            | text/xml                  | text and entities in [BioC](http://bioc.sourceforge.net/) XML |\n",
    "| bioc_json       | application/json          | text and entities in [BioC JSON](https://github.com/ncbi-nlp/BioC-JSON) |\n",
    "| pubanno_json    | application/json          | text and entities in [PubAnnotator JSON](http://www.pubannotation.org/docs/annotation-format/) |\n",
    "| pubtator        | text/plain                | text and entities in [PubTator format](https://www.ncbi.nlm.nih.gov/CBBresearch/Lu/Demo/PubTator/tutorial/index.html#ExportannotationinPubTator) (mixture of pipe- and tab-separated text) |\n",
    "| pubtator_fbk    | text/plain                | a variant of the above, with slightly different entity attributes |\n",
    "| odin            | text/xml                  | text and entities in [ODIN](http://www.ontogene.org/odin) XML |\n",
    "| odin_custom     | text/xml                  | text and entities in [ODIN](http://www.ontogene.org/odin) XML, with customisable CSS |"
   ]
  },
  {
   "cell_type": "code",
   "execution_count": null,
   "id": "regulated-minimum",
   "metadata": {},
   "outputs": [],
   "source": []
  }
 ],
 "metadata": {
  "kernelspec": {
   "display_name": "Python 3",
   "language": "python",
   "name": "python3"
  },
  "language_info": {
   "codemirror_mode": {
    "name": "ipython",
    "version": 3
   },
   "file_extension": ".py",
   "mimetype": "text/x-python",
   "name": "python",
   "nbconvert_exporter": "python",
   "pygments_lexer": "ipython3",
   "version": "3.8.2"
  }
 },
 "nbformat": 4,
 "nbformat_minor": 5
}
